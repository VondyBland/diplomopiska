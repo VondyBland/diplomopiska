{
 "cells": [
  {
   "cell_type": "code",
   "execution_count": null,
   "id": "91fc50b9-dabc-42b1-b610-31b85e1b94ba",
   "metadata": {},
   "outputs": [],
   "source": [
    "import time\n",
    "from selenium import webdriver\n",
    "from selenium.webdriver.common.by import By\n",
    "import pandas as pd\n",
    "import requests\n",
    "import warnings\n",
    "\n",
    "warnings.simplefilter(action='ignore', category=FutureWarning)"
   ]
  },
  {
   "cell_type": "code",
   "execution_count": null,
   "id": "52b6d34d-eed5-4c20-bc74-f1176f0698f2",
   "metadata": {},
   "outputs": [],
   "source": [
    "columns = ['url', 'seller_url', 'title', 'rating', 'final_price', 'old_price', 'info', 'description']\n",
    "wb = pd.DataFrame(columns=columns)"
   ]
  },
  {
   "cell_type": "code",
   "execution_count": null,
   "id": "0bf299e0-8f11-4bad-980b-72c6c9b30b72",
   "metadata": {
    "tags": []
   },
   "outputs": [],
   "source": [
    "driver = webdriver.Chrome()\n",
    "hrefs = []\n",
    "n = 'input your number of pages'\n",
    "\n",
    "try:\n",
    "    for page in range(1,3):\n",
    "        driver.get(url=f'[-PUT-YOUR-WB-URL-HERE-]?sort=popular&page={page}')\n",
    "        time.sleep(10)\n",
    "        print('main base loaded')\n",
    "    #   Постепенная прогрузка страницы\n",
    "        skrol = 0\n",
    "        for i in range(15):\n",
    "            skrol += 1000\n",
    "            driver.execute_script(f\"window.scrollTo(0, {skrol});\")\n",
    "            time.sleep(1)\n",
    "        time.sleep(10)\n",
    "        print(f'page {page} loaded')\n",
    "    #   Взятие href с каждой страницы  \n",
    "        for i in range(1, 101):\n",
    "                    try:                                       \n",
    "                        item = driver.find_element(By.XPATH, f'/html/body/div[1]/main/div[2]/div/div[2]/div/div[5]/div[1]/div[1]/div/article[{i}]/div/a').get_attribute('href')\n",
    "                        hrefs.append(item)\n",
    "                        time.sleep(1)\n",
    "                    except Exception as inner_ex:\n",
    "                        print(f'Error in inner loop: {inner_ex}')\n",
    "                        continue\n",
    "\n",
    "except Exception as ex:\n",
    "    print(f'Error in outer loop: {ex}')\n",
    "\n",
    "driver.close()\n",
    "driver.quit()"
   ]
  },
  {
   "cell_type": "code",
   "execution_count": null,
   "id": "d03c7d0b-1dc0-4c94-9cf7-80ed4e014d65",
   "metadata": {
    "tags": []
   },
   "outputs": [],
   "source": [
    "driver = webdriver.Chrome()\n",
    "data_spec_all = {}\n",
    "\n",
    "try:\n",
    "    for k in range(len(hrefs)+1):\n",
    "        \n",
    "#         Инициализация селениума\n",
    "        driver.get(url=hrefs[k])\n",
    "        time.sleep(10)\n",
    "#         Название товара\n",
    "        title = driver.find_element(By.CLASS_NAME, 'product-page__title').text\n",
    "#         Цены товара\n",
    "        final_price = driver.find_element(By.CLASS_NAME,\"price-block__final-price\")\n",
    "        old_price = driver.find_element(By.CLASS_NAME,\"price-block__old-price\")\n",
    "#         Рейтинг товара\n",
    "        try:\n",
    "            rating_element = driver.find_element(By.XPATH, '/html/body/div[1]/main/div[2]/div/div[3]/div/div[3]/div[8]/div[3]/a/span[1]')\n",
    "            rating = rating_element.text\n",
    "        except Exception as rating_exception:\n",
    "            rating = None\n",
    "#         Url продавца\n",
    "        seller = driver.find_element(By.XPATH, '/html/body/div[1]/main/div[2]/div/div[3]/div/div[3]/div[8]/div[1]/a').get_attribute('href') \n",
    "#         Кнопка описания\n",
    "        button = driver.find_element(By.XPATH, '/html/body/div[1]/main/div[2]/div/div[3]/div/div[3]/div[7]/button')\n",
    "        driver.execute_script(\"arguments[0].click();\", button)\n",
    "        time.sleep(1)\n",
    "#         Описание\n",
    "        try:\n",
    "            description = driver.find_element(By.CLASS_NAME, 'option__text').text\n",
    "        except Exception as description_exception:\n",
    "            description = None\n",
    "#         Таблицы с характеристиками\n",
    "        data_spec = []\n",
    "        table = driver.find_element(By.XPATH, '/html/body/div[1]/div/div[1]/div[2]/table')\n",
    "        \n",
    "        # Обработка данных таблицы, если она найдена\n",
    "        if table:\n",
    "            table_body = table.find_element(By.TAG_NAME, 'tbody')\n",
    "            caption = f'{k}'\n",
    "            for tr in table_body.find_elements(By.TAG_NAME, 'tr'):\n",
    "                char = tr.find_element(By.TAG_NAME, 'th').text\n",
    "                value = tr.find_element(By.TAG_NAME, 'td').text\n",
    "                data_spec.append([char.strip(), value.strip()])\n",
    "            data_spec_all[caption] = data_spec\n",
    "            \n",
    "        \n",
    "# Добавляем данные с url товара\n",
    "            new_data = {'url': hrefs[k],'seller_url':seller,'title':title,'rating':rating, 'final_price': final_price.text,\n",
    "                        'old_price': old_price.text, 'info': data_spec_all[caption],'description': description}\n",
    "            wb = wb.append(new_data, ignore_index=True)\n",
    "        else:\n",
    "            print(f'Table not found for {hrefs[k]}')\n",
    "        time.sleep(5)\n",
    "except Exception as ex:\n",
    "    print(ex)\n",
    "finally:\n",
    "    driver.close()\n",
    "    driver.quit()   "
   ]
  },
  {
   "cell_type": "code",
   "execution_count": null,
   "id": "7cc087f7-6b7f-4fd9-9829-d1b431d34740",
   "metadata": {},
   "outputs": [],
   "source": [
    "wb.head()"
   ]
  },
  {
   "cell_type": "code",
   "execution_count": null,
   "id": "28068841-e7f4-4d99-9df6-b06d6f12d8f4",
   "metadata": {},
   "outputs": [],
   "source": [
    "wb.to_csv('wb.csv', encoding='utf-8')"
   ]
  }
 ],
 "metadata": {
  "kernelspec": {
   "display_name": "Python 3 (ipykernel)",
   "language": "python",
   "name": "python3"
  },
  "language_info": {
   "codemirror_mode": {
    "name": "ipython",
    "version": 3
   },
   "file_extension": ".py",
   "mimetype": "text/x-python",
   "name": "python",
   "nbconvert_exporter": "python",
   "pygments_lexer": "ipython3",
   "version": "3.9.7"
  }
 },
 "nbformat": 4,
 "nbformat_minor": 5
}
