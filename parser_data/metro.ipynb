{
 "cells": [
  {
   "cell_type": "code",
   "execution_count": 1,
   "metadata": {},
   "outputs": [],
   "source": [
    "import pandas as pd\n",
    "import numpy as np"
   ]
  },
  {
   "cell_type": "code",
   "execution_count": 2,
   "metadata": {},
   "outputs": [],
   "source": [
    "subw = ['Санкт-Петербург метро Девяткино', 'Санкт-Петербург метро Гражданский проспект', 'Санкт-Петербург метро Академическая', 'Санкт-Петербург метро Политехническая',\n",
    "         'Санкт-Петербург метро Площадь Мужества', 'Санкт-Петербург метро Лесная', 'Санкт-Петербург метро Выборгская','Санкт-Петербург метро Площадь Ленина',\n",
    "           'Санкт-Петербург метро Чернышевская', 'Санкт-Петербург метро Площадь Восстания', 'Санкт-Петербург метро Владимирская', 'Санкт-Петербург метро Пушкинская',\n",
    "            'Санкт-Петербург метро Технологический институт-2', 'Санкт-Петербург метро Балтийская', 'Санкт-Петербург метро Нарвская', 'Санкт-Петербург метро Кировский завод',\n",
    "             'Санкт-Петербург метро Автово', 'Санкт-Петербург метро Ленинский проспект', 'Санкт-Петербург метро Проспект Ветеранов',\n",
    "             'Санкт-Петербург метро Парнас', 'Санкт-Петербург метро Проспект Просвещения', 'Санкт-Петербург метро Озерки', 'Санкт-Петербург метро Удельная',\n",
    "               'Санкт-Петербург метро Пионерская', 'Санкт-Петербург метро Черная Речка', 'Санкт-Петербург метро Петроградская', 'Санкт-Петербург метро Горьковская',\n",
    "                'Санкт-Петербург метро Невский проспект', 'Санкт-Петербург метро Сенная площадь', 'Санкт-Петербург метро Технологический институт-1', 'Санкт-Петербург метро Фрунзенская',\n",
    "                 'Санкт-Петербург метро Московские ворота', 'Санкт-Петербург метро Электросила', 'Санкт-Петербург метро Парк Победы', 'Санкт-Петербург метро Московская', 'метро Звёздная',\n",
    "                   'Санкт-Петербургметро Купчино',\n",
    "                   'Санкт-Петербург метро Спасская', 'Санкт-Петербург метро Достоевская', 'Санкт-Петербург метро Лиговский проспект','Санкт-Петербург метро Площадь Александра Невского-2',\n",
    "                    'Санкт-Петербург метро Новочеркасская','Санкт-Петербург метро Ладожская','Санкт-Петербург метро Проспект Большевиков','Санкт-Петербург метро Улица Дыбенко',\n",
    "                    'Санкт-Петербург метро Комендантский проспект', 'Санкт-Петербург метро Старая Деревня',\n",
    "                         'Санкт-Петербург метро Крестовский остров', 'Санкт-Петербург метро Чкаловская', 'Санкт-Петербург метро Спортивная', 'Санкт-Петербург метро Адмиралтейская',\n",
    "                          'Санкт-Петербург метро Садовая', 'Санкт-Петербург метро Звенигородская','Санкт-Петербург метро Обводный канал', 'Санкт-Петербург метро Волковская',\n",
    "                            'Санкт-Петербург метро Бухарестская','Санкт-Петербург метро Международная','Санкт-Петербург метро Проспект Славы', 'Санкт-Петербург метро Дунайская',\n",
    "                              'Санкт-Петербург метро Шушары',\n",
    "                               'Санкт-Петербург метро Беговая','Санкт-Петербург метро Зенит','Санкт-Петербург метро Приморская','Санкт-Петербург метро Василеостровская',\n",
    "                                 'Санкт-Петербург метро Гостиный двор','Санкт-Петербург метро Маяковская','Санкт-Петербург метро Площадь Александра Невского-1',\n",
    "                                  'Санкт-Петербург метро Елизаровская', 'Санкт-Петербург метро Ломоносовская','Санкт-Петербург метро Пролетарская','Санкт-Петербург метро Обухово',\n",
    "                                    'Санкт-Петербург метро Рыбацкое']"
   ]
  },
  {
   "cell_type": "code",
   "execution_count": 3,
   "metadata": {},
   "outputs": [],
   "source": [
    "metro = pd.DataFrame({'metro': subw})"
   ]
  },
  {
   "cell_type": "code",
   "execution_count": 4,
   "metadata": {},
   "outputs": [
    {
     "data": {
      "text/html": [
       "<div>\n",
       "<style scoped>\n",
       "    .dataframe tbody tr th:only-of-type {\n",
       "        vertical-align: middle;\n",
       "    }\n",
       "\n",
       "    .dataframe tbody tr th {\n",
       "        vertical-align: top;\n",
       "    }\n",
       "\n",
       "    .dataframe thead th {\n",
       "        text-align: right;\n",
       "    }\n",
       "</style>\n",
       "<table border=\"1\" class=\"dataframe\">\n",
       "  <thead>\n",
       "    <tr style=\"text-align: right;\">\n",
       "      <th></th>\n",
       "      <th>metro</th>\n",
       "    </tr>\n",
       "  </thead>\n",
       "  <tbody>\n",
       "    <tr>\n",
       "      <th>0</th>\n",
       "      <td>Санкт-Петербург метро Девяткино</td>\n",
       "    </tr>\n",
       "    <tr>\n",
       "      <th>1</th>\n",
       "      <td>Санкт-Петербург метро Гражданский проспект</td>\n",
       "    </tr>\n",
       "    <tr>\n",
       "      <th>2</th>\n",
       "      <td>Санкт-Петербург метро Академическая</td>\n",
       "    </tr>\n",
       "    <tr>\n",
       "      <th>3</th>\n",
       "      <td>Санкт-Петербург метро Политехническая</td>\n",
       "    </tr>\n",
       "    <tr>\n",
       "      <th>4</th>\n",
       "      <td>Санкт-Петербург метро Площадь Мужества</td>\n",
       "    </tr>\n",
       "    <tr>\n",
       "      <th>...</th>\n",
       "      <td>...</td>\n",
       "    </tr>\n",
       "    <tr>\n",
       "      <th>67</th>\n",
       "      <td>Санкт-Петербург метро Елизаровская</td>\n",
       "    </tr>\n",
       "    <tr>\n",
       "      <th>68</th>\n",
       "      <td>Санкт-Петербург метро Ломоносовская</td>\n",
       "    </tr>\n",
       "    <tr>\n",
       "      <th>69</th>\n",
       "      <td>Санкт-Петербург метро Пролетарская</td>\n",
       "    </tr>\n",
       "    <tr>\n",
       "      <th>70</th>\n",
       "      <td>Санкт-Петербург метро Обухово</td>\n",
       "    </tr>\n",
       "    <tr>\n",
       "      <th>71</th>\n",
       "      <td>Санкт-Петербург метро Рыбацкое</td>\n",
       "    </tr>\n",
       "  </tbody>\n",
       "</table>\n",
       "<p>72 rows × 1 columns</p>\n",
       "</div>"
      ],
      "text/plain": [
       "                                         metro\n",
       "0              Санкт-Петербург метро Девяткино\n",
       "1   Санкт-Петербург метро Гражданский проспект\n",
       "2          Санкт-Петербург метро Академическая\n",
       "3        Санкт-Петербург метро Политехническая\n",
       "4       Санкт-Петербург метро Площадь Мужества\n",
       "..                                         ...\n",
       "67          Санкт-Петербург метро Елизаровская\n",
       "68         Санкт-Петербург метро Ломоносовская\n",
       "69          Санкт-Петербург метро Пролетарская\n",
       "70               Санкт-Петербург метро Обухово\n",
       "71              Санкт-Петербург метро Рыбацкое\n",
       "\n",
       "[72 rows x 1 columns]"
      ]
     },
     "execution_count": 4,
     "metadata": {},
     "output_type": "execute_result"
    }
   ],
   "source": [
    "metro"
   ]
  },
  {
   "cell_type": "markdown",
   "metadata": {},
   "source": []
  },
  {
   "cell_type": "code",
   "execution_count": 5,
   "metadata": {},
   "outputs": [],
   "source": [
    "metro['longitude'] = 0.0\n",
    "metro['latitude'] = 0.0"
   ]
  },
  {
   "cell_type": "code",
   "execution_count": 6,
   "metadata": {},
   "outputs": [],
   "source": [
    "import requests\n",
    "\n",
    "def get_coordinates(address):\n",
    "    # Замените \"YOUR_API_KEY\" на ваш API-ключ от Yandex Maps Geocoder\n",
    "    api_key = \"ce2524a7-073a-41e9-8f8d-47caa1182bdc\"\n",
    "    url = f\"https://geocode-maps.yandex.ru/1.x/?apikey={api_key}&geocode={address}&format=json\"\n",
    "    response = requests.get(url)\n",
    "    data = response.json()\n",
    "    if response.status_code == 200:\n",
    "        found = int(data['response']['GeoObjectCollection']['metaDataProperty']['GeocoderResponseMetaData']['found'])\n",
    "        if found > 0:\n",
    "            coords_str = data['response']['GeoObjectCollection']['featureMember'][0]['GeoObject']['Point']['pos']\n",
    "            coordinates = tuple(map(float, coords_str.split()))\n",
    "            return coordinates\n",
    "        else:\n",
    "            print(\"Объекты по заданному адресу не найдены.\")\n",
    "            return None\n",
    "    else:\n",
    "        print(\"Ошибка при получении координат.\")\n",
    "        return None\n"
   ]
  },
  {
   "cell_type": "code",
   "execution_count": 7,
   "metadata": {},
   "outputs": [],
   "source": [
    "for i in range(0,72):\n",
    "    address = metro.iloc[i,0]\n",
    "    coordinates = get_coordinates(address)\n",
    "    metro.at[i, 'latitude'], metro.at[i, 'longitude'] = coordinates"
   ]
  },
  {
   "cell_type": "code",
   "execution_count": 8,
   "metadata": {},
   "outputs": [
    {
     "data": {
      "text/html": [
       "<div>\n",
       "<style scoped>\n",
       "    .dataframe tbody tr th:only-of-type {\n",
       "        vertical-align: middle;\n",
       "    }\n",
       "\n",
       "    .dataframe tbody tr th {\n",
       "        vertical-align: top;\n",
       "    }\n",
       "\n",
       "    .dataframe thead th {\n",
       "        text-align: right;\n",
       "    }\n",
       "</style>\n",
       "<table border=\"1\" class=\"dataframe\">\n",
       "  <thead>\n",
       "    <tr style=\"text-align: right;\">\n",
       "      <th></th>\n",
       "      <th>metro</th>\n",
       "      <th>longitude</th>\n",
       "      <th>latitude</th>\n",
       "    </tr>\n",
       "  </thead>\n",
       "  <tbody>\n",
       "  </tbody>\n",
       "</table>\n",
       "</div>"
      ],
      "text/plain": [
       "Empty DataFrame\n",
       "Columns: [metro, longitude, latitude]\n",
       "Index: []"
      ]
     },
     "execution_count": 8,
     "metadata": {},
     "output_type": "execute_result"
    }
   ],
   "source": [
    "metro[metro['latitude']== 0]"
   ]
  },
  {
   "cell_type": "code",
   "execution_count": 12,
   "metadata": {},
   "outputs": [
    {
     "data": {
      "text/html": [
       "<div>\n",
       "<style scoped>\n",
       "    .dataframe tbody tr th:only-of-type {\n",
       "        vertical-align: middle;\n",
       "    }\n",
       "\n",
       "    .dataframe tbody tr th {\n",
       "        vertical-align: top;\n",
       "    }\n",
       "\n",
       "    .dataframe thead th {\n",
       "        text-align: right;\n",
       "    }\n",
       "</style>\n",
       "<table border=\"1\" class=\"dataframe\">\n",
       "  <thead>\n",
       "    <tr style=\"text-align: right;\">\n",
       "      <th></th>\n",
       "      <th>metro</th>\n",
       "      <th>longitude</th>\n",
       "      <th>latitude</th>\n",
       "    </tr>\n",
       "  </thead>\n",
       "  <tbody>\n",
       "    <tr>\n",
       "      <th>0</th>\n",
       "      <td>Санкт-Петербург метро Девяткино</td>\n",
       "      <td>60.050282</td>\n",
       "      <td>30.442674</td>\n",
       "    </tr>\n",
       "    <tr>\n",
       "      <th>1</th>\n",
       "      <td>Санкт-Петербург метро Гражданский проспект</td>\n",
       "      <td>60.034829</td>\n",
       "      <td>30.418195</td>\n",
       "    </tr>\n",
       "    <tr>\n",
       "      <th>2</th>\n",
       "      <td>Санкт-Петербург метро Академическая</td>\n",
       "      <td>60.012719</td>\n",
       "      <td>30.396133</td>\n",
       "    </tr>\n",
       "    <tr>\n",
       "      <th>3</th>\n",
       "      <td>Санкт-Петербург метро Политехническая</td>\n",
       "      <td>60.008815</td>\n",
       "      <td>30.370908</td>\n",
       "    </tr>\n",
       "    <tr>\n",
       "      <th>4</th>\n",
       "      <td>Санкт-Петербург метро Площадь Мужества</td>\n",
       "      <td>59.999710</td>\n",
       "      <td>30.366614</td>\n",
       "    </tr>\n",
       "    <tr>\n",
       "      <th>...</th>\n",
       "      <td>...</td>\n",
       "      <td>...</td>\n",
       "      <td>...</td>\n",
       "    </tr>\n",
       "    <tr>\n",
       "      <th>67</th>\n",
       "      <td>Санкт-Петербург метро Елизаровская</td>\n",
       "      <td>59.896644</td>\n",
       "      <td>30.423774</td>\n",
       "    </tr>\n",
       "    <tr>\n",
       "      <th>68</th>\n",
       "      <td>Санкт-Петербург метро Ломоносовская</td>\n",
       "      <td>59.877335</td>\n",
       "      <td>30.441695</td>\n",
       "    </tr>\n",
       "    <tr>\n",
       "      <th>69</th>\n",
       "      <td>Санкт-Петербург метро Пролетарская</td>\n",
       "      <td>59.865122</td>\n",
       "      <td>30.470324</td>\n",
       "    </tr>\n",
       "    <tr>\n",
       "      <th>70</th>\n",
       "      <td>Санкт-Петербург метро Обухово</td>\n",
       "      <td>59.848796</td>\n",
       "      <td>30.457847</td>\n",
       "    </tr>\n",
       "    <tr>\n",
       "      <th>71</th>\n",
       "      <td>Санкт-Петербург метро Рыбацкое</td>\n",
       "      <td>59.830856</td>\n",
       "      <td>30.500319</td>\n",
       "    </tr>\n",
       "  </tbody>\n",
       "</table>\n",
       "<p>72 rows × 3 columns</p>\n",
       "</div>"
      ],
      "text/plain": [
       "                                         metro  longitude   latitude\n",
       "0              Санкт-Петербург метро Девяткино  60.050282  30.442674\n",
       "1   Санкт-Петербург метро Гражданский проспект  60.034829  30.418195\n",
       "2          Санкт-Петербург метро Академическая  60.012719  30.396133\n",
       "3        Санкт-Петербург метро Политехническая  60.008815  30.370908\n",
       "4       Санкт-Петербург метро Площадь Мужества  59.999710  30.366614\n",
       "..                                         ...        ...        ...\n",
       "67          Санкт-Петербург метро Елизаровская  59.896644  30.423774\n",
       "68         Санкт-Петербург метро Ломоносовская  59.877335  30.441695\n",
       "69          Санкт-Петербург метро Пролетарская  59.865122  30.470324\n",
       "70               Санкт-Петербург метро Обухово  59.848796  30.457847\n",
       "71              Санкт-Петербург метро Рыбацкое  59.830856  30.500319\n",
       "\n",
       "[72 rows x 3 columns]"
      ]
     },
     "execution_count": 12,
     "metadata": {},
     "output_type": "execute_result"
    }
   ],
   "source": [
    "metro"
   ]
  },
  {
   "cell_type": "code",
   "execution_count": 13,
   "metadata": {},
   "outputs": [],
   "source": [
    "metro.to_csv('metro.csv', encoding='utf-8')"
   ]
  }
 ],
 "metadata": {
  "kernelspec": {
   "display_name": "Python 3",
   "language": "python",
   "name": "python3"
  },
  "language_info": {
   "codemirror_mode": {
    "name": "ipython",
    "version": 3
   },
   "file_extension": ".py",
   "mimetype": "text/x-python",
   "name": "python",
   "nbconvert_exporter": "python",
   "pygments_lexer": "ipython3",
   "version": "3.9.13"
  }
 },
 "nbformat": 4,
 "nbformat_minor": 2
}
