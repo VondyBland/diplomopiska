{
 "cells": [
  {
   "cell_type": "code",
   "execution_count": 1,
   "metadata": {},
   "outputs": [
    {
     "name": "stderr",
     "output_type": "stream",
     "text": [
      "c:\\Users\\pelik\\Anaconda\\lib\\site-packages\\pandas\\core\\computation\\expressions.py:21: UserWarning: Pandas requires version '2.8.4' or newer of 'numexpr' (version '2.8.3' currently installed).\n",
      "  from pandas.core.computation.check import NUMEXPR_INSTALLED\n",
      "c:\\Users\\pelik\\Anaconda\\lib\\site-packages\\pandas\\core\\arrays\\masked.py:60: UserWarning: Pandas requires version '1.3.6' or newer of 'bottleneck' (version '1.3.5' currently installed).\n",
      "  from pandas.core import (\n",
      "c:\\Users\\pelik\\Anaconda\\lib\\site-packages\\scipy\\__init__.py:155: UserWarning: A NumPy version >=1.18.5 and <1.25.0 is required for this version of SciPy (detected version 1.26.4\n",
      "  warnings.warn(f\"A NumPy version >={np_minversion} and <{np_maxversion}\"\n"
     ]
    }
   ],
   "source": [
    "import pandas as pd\n",
    "import numpy as np\n",
    "import seaborn as sns\n",
    "import matplotlib.pyplot as plt\n"
   ]
  },
  {
   "cell_type": "markdown",
   "metadata": {},
   "source": [
    "# ОБРАБОТКА НЕФТИ"
   ]
  },
  {
   "cell_type": "code",
   "execution_count": 242,
   "metadata": {},
   "outputs": [],
   "source": [
    "brent = pd.read_csv('data/Brent.csv',sep=',',parse_dates=['Date'], dayfirst=True)"
   ]
  },
  {
   "cell_type": "code",
   "execution_count": 243,
   "metadata": {},
   "outputs": [
    {
     "data": {
      "text/html": [
       "<div>\n",
       "<style scoped>\n",
       "    .dataframe tbody tr th:only-of-type {\n",
       "        vertical-align: middle;\n",
       "    }\n",
       "\n",
       "    .dataframe tbody tr th {\n",
       "        vertical-align: top;\n",
       "    }\n",
       "\n",
       "    .dataframe thead th {\n",
       "        text-align: right;\n",
       "    }\n",
       "</style>\n",
       "<table border=\"1\" class=\"dataframe\">\n",
       "  <thead>\n",
       "    <tr style=\"text-align: right;\">\n",
       "      <th></th>\n",
       "      <th>Date</th>\n",
       "      <th>Price</th>\n",
       "      <th>Open</th>\n",
       "      <th>Max</th>\n",
       "      <th>Min</th>\n",
       "      <th>Volume</th>\n",
       "      <th>Change</th>\n",
       "    </tr>\n",
       "  </thead>\n",
       "  <tbody>\n",
       "    <tr>\n",
       "      <th>0</th>\n",
       "      <td>2024-05-10</td>\n",
       "      <td>82.79</td>\n",
       "      <td>84.21</td>\n",
       "      <td>84.53</td>\n",
       "      <td>82.70</td>\n",
       "      <td>311.45K</td>\n",
       "      <td>-1.30</td>\n",
       "    </tr>\n",
       "    <tr>\n",
       "      <th>1</th>\n",
       "      <td>2024-05-09</td>\n",
       "      <td>83.88</td>\n",
       "      <td>83.79</td>\n",
       "      <td>84.33</td>\n",
       "      <td>83.45</td>\n",
       "      <td>309.45K</td>\n",
       "      <td>0.36</td>\n",
       "    </tr>\n",
       "    <tr>\n",
       "      <th>2</th>\n",
       "      <td>2024-05-08</td>\n",
       "      <td>83.58</td>\n",
       "      <td>83.02</td>\n",
       "      <td>83.82</td>\n",
       "      <td>81.71</td>\n",
       "      <td>395.43K</td>\n",
       "      <td>0.71</td>\n",
       "    </tr>\n",
       "    <tr>\n",
       "      <th>3</th>\n",
       "      <td>2024-05-07</td>\n",
       "      <td>82.99</td>\n",
       "      <td>83.74</td>\n",
       "      <td>83.82</td>\n",
       "      <td>82.42</td>\n",
       "      <td>NaN</td>\n",
       "      <td>-0.73</td>\n",
       "    </tr>\n",
       "    <tr>\n",
       "      <th>4</th>\n",
       "      <td>2024-05-06</td>\n",
       "      <td>83.60</td>\n",
       "      <td>83.24</td>\n",
       "      <td>83.83</td>\n",
       "      <td>82.78</td>\n",
       "      <td>NaN</td>\n",
       "      <td>0.42</td>\n",
       "    </tr>\n",
       "    <tr>\n",
       "      <th>...</th>\n",
       "      <td>...</td>\n",
       "      <td>...</td>\n",
       "      <td>...</td>\n",
       "      <td>...</td>\n",
       "      <td>...</td>\n",
       "      <td>...</td>\n",
       "      <td>...</td>\n",
       "    </tr>\n",
       "    <tr>\n",
       "      <th>6000</th>\n",
       "      <td>2001-01-08</td>\n",
       "      <td>24.43</td>\n",
       "      <td>25.33</td>\n",
       "      <td>25.63</td>\n",
       "      <td>24.40</td>\n",
       "      <td>27.82K</td>\n",
       "      <td>-2.98</td>\n",
       "    </tr>\n",
       "    <tr>\n",
       "      <th>6001</th>\n",
       "      <td>2001-01-05</td>\n",
       "      <td>25.18</td>\n",
       "      <td>25.40</td>\n",
       "      <td>26.02</td>\n",
       "      <td>25.15</td>\n",
       "      <td>34.99K</td>\n",
       "      <td>-0.67</td>\n",
       "    </tr>\n",
       "    <tr>\n",
       "      <th>6002</th>\n",
       "      <td>2001-01-04</td>\n",
       "      <td>25.35</td>\n",
       "      <td>25.09</td>\n",
       "      <td>25.85</td>\n",
       "      <td>24.77</td>\n",
       "      <td>32.81K</td>\n",
       "      <td>1.28</td>\n",
       "    </tr>\n",
       "    <tr>\n",
       "      <th>6003</th>\n",
       "      <td>2001-01-03</td>\n",
       "      <td>25.03</td>\n",
       "      <td>24.50</td>\n",
       "      <td>25.30</td>\n",
       "      <td>24.20</td>\n",
       "      <td>36.40K</td>\n",
       "      <td>3.00</td>\n",
       "    </tr>\n",
       "    <tr>\n",
       "      <th>6004</th>\n",
       "      <td>2001-01-02</td>\n",
       "      <td>24.30</td>\n",
       "      <td>24.40</td>\n",
       "      <td>24.90</td>\n",
       "      <td>24.20</td>\n",
       "      <td>25.21K</td>\n",
       "      <td>1.80</td>\n",
       "    </tr>\n",
       "  </tbody>\n",
       "</table>\n",
       "<p>6005 rows × 7 columns</p>\n",
       "</div>"
      ],
      "text/plain": [
       "           Date  Price   Open    Max    Min   Volume  Change \n",
       "0    2024-05-10  82.79  84.21  84.53  82.70  311.45K    -1.30\n",
       "1    2024-05-09  83.88  83.79  84.33  83.45  309.45K     0.36\n",
       "2    2024-05-08  83.58  83.02  83.82  81.71  395.43K     0.71\n",
       "3    2024-05-07  82.99  83.74  83.82  82.42      NaN    -0.73\n",
       "4    2024-05-06  83.60  83.24  83.83  82.78      NaN     0.42\n",
       "...         ...    ...    ...    ...    ...      ...      ...\n",
       "6000 2001-01-08  24.43  25.33  25.63  24.40   27.82K    -2.98\n",
       "6001 2001-01-05  25.18  25.40  26.02  25.15   34.99K    -0.67\n",
       "6002 2001-01-04  25.35  25.09  25.85  24.77   32.81K     1.28\n",
       "6003 2001-01-03  25.03  24.50  25.30  24.20   36.40K     3.00\n",
       "6004 2001-01-02  24.30  24.40  24.90  24.20   25.21K     1.80\n",
       "\n",
       "[6005 rows x 7 columns]"
      ]
     },
     "execution_count": 243,
     "metadata": {},
     "output_type": "execute_result"
    }
   ],
   "source": [
    "brent"
   ]
  },
  {
   "cell_type": "code",
   "execution_count": 244,
   "metadata": {},
   "outputs": [],
   "source": [
    "p = pd.date_range(start='01-02-2001', end='05-10-2024', freq='D')\n",
    "pp = pd.DataFrame(p, columns=['Date'])\n",
    "\n",
    "# Объединяем исходный df с df_full\n",
    "brent = pp.merge(brent, on='Date', how='left')"
   ]
  },
  {
   "cell_type": "code",
   "execution_count": 246,
   "metadata": {},
   "outputs": [],
   "source": [
    "brent.ffill(inplace=True)"
   ]
  },
  {
   "cell_type": "code",
   "execution_count": 247,
   "metadata": {},
   "outputs": [
    {
     "data": {
      "text/html": [
       "<div>\n",
       "<style scoped>\n",
       "    .dataframe tbody tr th:only-of-type {\n",
       "        vertical-align: middle;\n",
       "    }\n",
       "\n",
       "    .dataframe tbody tr th {\n",
       "        vertical-align: top;\n",
       "    }\n",
       "\n",
       "    .dataframe thead th {\n",
       "        text-align: right;\n",
       "    }\n",
       "</style>\n",
       "<table border=\"1\" class=\"dataframe\">\n",
       "  <thead>\n",
       "    <tr style=\"text-align: right;\">\n",
       "      <th></th>\n",
       "      <th>Date</th>\n",
       "      <th>Price</th>\n",
       "      <th>Open</th>\n",
       "      <th>Max</th>\n",
       "      <th>Min</th>\n",
       "      <th>Volume</th>\n",
       "      <th>Change</th>\n",
       "    </tr>\n",
       "  </thead>\n",
       "  <tbody>\n",
       "    <tr>\n",
       "      <th>0</th>\n",
       "      <td>2001-01-02</td>\n",
       "      <td>24.30</td>\n",
       "      <td>24.40</td>\n",
       "      <td>24.90</td>\n",
       "      <td>24.20</td>\n",
       "      <td>25.21K</td>\n",
       "      <td>1.80</td>\n",
       "    </tr>\n",
       "    <tr>\n",
       "      <th>1</th>\n",
       "      <td>2001-01-03</td>\n",
       "      <td>25.03</td>\n",
       "      <td>24.50</td>\n",
       "      <td>25.30</td>\n",
       "      <td>24.20</td>\n",
       "      <td>36.40K</td>\n",
       "      <td>3.00</td>\n",
       "    </tr>\n",
       "    <tr>\n",
       "      <th>2</th>\n",
       "      <td>2001-01-04</td>\n",
       "      <td>25.35</td>\n",
       "      <td>25.09</td>\n",
       "      <td>25.85</td>\n",
       "      <td>24.77</td>\n",
       "      <td>32.81K</td>\n",
       "      <td>1.28</td>\n",
       "    </tr>\n",
       "    <tr>\n",
       "      <th>3</th>\n",
       "      <td>2001-01-05</td>\n",
       "      <td>25.18</td>\n",
       "      <td>25.40</td>\n",
       "      <td>26.02</td>\n",
       "      <td>25.15</td>\n",
       "      <td>34.99K</td>\n",
       "      <td>-0.67</td>\n",
       "    </tr>\n",
       "    <tr>\n",
       "      <th>4</th>\n",
       "      <td>2001-01-06</td>\n",
       "      <td>25.18</td>\n",
       "      <td>25.40</td>\n",
       "      <td>26.02</td>\n",
       "      <td>25.15</td>\n",
       "      <td>34.99K</td>\n",
       "      <td>-0.67</td>\n",
       "    </tr>\n",
       "    <tr>\n",
       "      <th>...</th>\n",
       "      <td>...</td>\n",
       "      <td>...</td>\n",
       "      <td>...</td>\n",
       "      <td>...</td>\n",
       "      <td>...</td>\n",
       "      <td>...</td>\n",
       "      <td>...</td>\n",
       "    </tr>\n",
       "    <tr>\n",
       "      <th>8525</th>\n",
       "      <td>2024-05-06</td>\n",
       "      <td>83.60</td>\n",
       "      <td>83.24</td>\n",
       "      <td>83.83</td>\n",
       "      <td>82.78</td>\n",
       "      <td>335.57K</td>\n",
       "      <td>0.42</td>\n",
       "    </tr>\n",
       "    <tr>\n",
       "      <th>8526</th>\n",
       "      <td>2024-05-07</td>\n",
       "      <td>82.99</td>\n",
       "      <td>83.74</td>\n",
       "      <td>83.82</td>\n",
       "      <td>82.42</td>\n",
       "      <td>335.57K</td>\n",
       "      <td>-0.73</td>\n",
       "    </tr>\n",
       "    <tr>\n",
       "      <th>8527</th>\n",
       "      <td>2024-05-08</td>\n",
       "      <td>83.58</td>\n",
       "      <td>83.02</td>\n",
       "      <td>83.82</td>\n",
       "      <td>81.71</td>\n",
       "      <td>395.43K</td>\n",
       "      <td>0.71</td>\n",
       "    </tr>\n",
       "    <tr>\n",
       "      <th>8528</th>\n",
       "      <td>2024-05-09</td>\n",
       "      <td>83.88</td>\n",
       "      <td>83.79</td>\n",
       "      <td>84.33</td>\n",
       "      <td>83.45</td>\n",
       "      <td>309.45K</td>\n",
       "      <td>0.36</td>\n",
       "    </tr>\n",
       "    <tr>\n",
       "      <th>8529</th>\n",
       "      <td>2024-05-10</td>\n",
       "      <td>82.79</td>\n",
       "      <td>84.21</td>\n",
       "      <td>84.53</td>\n",
       "      <td>82.70</td>\n",
       "      <td>311.45K</td>\n",
       "      <td>-1.30</td>\n",
       "    </tr>\n",
       "  </tbody>\n",
       "</table>\n",
       "<p>8530 rows × 7 columns</p>\n",
       "</div>"
      ],
      "text/plain": [
       "           Date  Price   Open    Max    Min   Volume  Change \n",
       "0    2001-01-02  24.30  24.40  24.90  24.20   25.21K     1.80\n",
       "1    2001-01-03  25.03  24.50  25.30  24.20   36.40K     3.00\n",
       "2    2001-01-04  25.35  25.09  25.85  24.77   32.81K     1.28\n",
       "3    2001-01-05  25.18  25.40  26.02  25.15   34.99K    -0.67\n",
       "4    2001-01-06  25.18  25.40  26.02  25.15   34.99K    -0.67\n",
       "...         ...    ...    ...    ...    ...      ...      ...\n",
       "8525 2024-05-06  83.60  83.24  83.83  82.78  335.57K     0.42\n",
       "8526 2024-05-07  82.99  83.74  83.82  82.42  335.57K    -0.73\n",
       "8527 2024-05-08  83.58  83.02  83.82  81.71  395.43K     0.71\n",
       "8528 2024-05-09  83.88  83.79  84.33  83.45  309.45K     0.36\n",
       "8529 2024-05-10  82.79  84.21  84.53  82.70  311.45K    -1.30\n",
       "\n",
       "[8530 rows x 7 columns]"
      ]
     },
     "execution_count": 247,
     "metadata": {},
     "output_type": "execute_result"
    }
   ],
   "source": [
    "brent"
   ]
  },
  {
   "cell_type": "code",
   "execution_count": 248,
   "metadata": {},
   "outputs": [],
   "source": [
    "brent.to_csv('ready_data/brent.csv',encoding='utf-8')"
   ]
  },
  {
   "cell_type": "code",
   "execution_count": 249,
   "metadata": {},
   "outputs": [
    {
     "data": {
      "text/plain": [
       "<Axes: xlabel='Date'>"
      ]
     },
     "execution_count": 249,
     "metadata": {},
     "output_type": "execute_result"
    },
    {
     "data": {
      "image/png": "[encoded data removed]",
      "text/plain": [
       "<Figure size 2000x700 with 1 Axes>"
      ]
     },
     "metadata": {},
     "output_type": "display_data"
    }
   ],
   "source": [
    "plt.figure(figsize=(20,7))\n",
    "sns.lineplot(data=brent.set_index('Date')[['Price','Open','Max','Min']],palette=['blue','gold','red','green'])"
   ]
  },
  {
   "cell_type": "markdown",
   "metadata": {},
   "source": [
    "# ОБРАБОТКА ИНФЛЯЦИИ"
   ]
  },
  {
   "cell_type": "code",
   "execution_count": 4,
   "metadata": {},
   "outputs": [],
   "source": [
    "inflation = pd.read_csv('data/inflation.csv',sep=',')"
   ]
  },
  {
   "cell_type": "code",
   "execution_count": 96,
   "metadata": {},
   "outputs": [],
   "source": [
    "inflation = inflation[['Year',' Total']]"
   ]
  },
  {
   "cell_type": "code",
   "execution_count": 97,
   "metadata": {},
   "outputs": [
    {
     "data": {
      "text/html": [
       "<div>\n",
       "<style scoped>\n",
       "    .dataframe tbody tr th:only-of-type {\n",
       "        vertical-align: middle;\n",
       "    }\n",
       "\n",
       "    .dataframe tbody tr th {\n",
       "        vertical-align: top;\n",
       "    }\n",
       "\n",
       "    .dataframe thead th {\n",
       "        text-align: right;\n",
       "    }\n",
       "</style>\n",
       "<table border=\"1\" class=\"dataframe\">\n",
       "  <thead>\n",
       "    <tr style=\"text-align: right;\">\n",
       "      <th></th>\n",
       "      <th>Year</th>\n",
       "      <th>Total</th>\n",
       "    </tr>\n",
       "  </thead>\n",
       "  <tbody>\n",
       "    <tr>\n",
       "      <th>0</th>\n",
       "      <td>2001</td>\n",
       "      <td>18.58</td>\n",
       "    </tr>\n",
       "    <tr>\n",
       "      <th>1</th>\n",
       "      <td>2002</td>\n",
       "      <td>15.06</td>\n",
       "    </tr>\n",
       "    <tr>\n",
       "      <th>2</th>\n",
       "      <td>2003</td>\n",
       "      <td>11.99</td>\n",
       "    </tr>\n",
       "    <tr>\n",
       "      <th>3</th>\n",
       "      <td>2004</td>\n",
       "      <td>11.74</td>\n",
       "    </tr>\n",
       "    <tr>\n",
       "      <th>4</th>\n",
       "      <td>2005</td>\n",
       "      <td>10.91</td>\n",
       "    </tr>\n",
       "    <tr>\n",
       "      <th>5</th>\n",
       "      <td>2006</td>\n",
       "      <td>9.00</td>\n",
       "    </tr>\n",
       "    <tr>\n",
       "      <th>6</th>\n",
       "      <td>2007</td>\n",
       "      <td>11.87</td>\n",
       "    </tr>\n",
       "    <tr>\n",
       "      <th>7</th>\n",
       "      <td>2008</td>\n",
       "      <td>13.28</td>\n",
       "    </tr>\n",
       "    <tr>\n",
       "      <th>8</th>\n",
       "      <td>2009</td>\n",
       "      <td>8.80</td>\n",
       "    </tr>\n",
       "    <tr>\n",
       "      <th>9</th>\n",
       "      <td>2010</td>\n",
       "      <td>8.78</td>\n",
       "    </tr>\n",
       "    <tr>\n",
       "      <th>10</th>\n",
       "      <td>2011</td>\n",
       "      <td>6.10</td>\n",
       "    </tr>\n",
       "    <tr>\n",
       "      <th>11</th>\n",
       "      <td>2012</td>\n",
       "      <td>6.58</td>\n",
       "    </tr>\n",
       "    <tr>\n",
       "      <th>12</th>\n",
       "      <td>2013</td>\n",
       "      <td>6.45</td>\n",
       "    </tr>\n",
       "    <tr>\n",
       "      <th>13</th>\n",
       "      <td>2014</td>\n",
       "      <td>11.36</td>\n",
       "    </tr>\n",
       "    <tr>\n",
       "      <th>14</th>\n",
       "      <td>2015</td>\n",
       "      <td>12.91</td>\n",
       "    </tr>\n",
       "    <tr>\n",
       "      <th>15</th>\n",
       "      <td>2016</td>\n",
       "      <td>5.38</td>\n",
       "    </tr>\n",
       "    <tr>\n",
       "      <th>16</th>\n",
       "      <td>2017</td>\n",
       "      <td>2.52</td>\n",
       "    </tr>\n",
       "    <tr>\n",
       "      <th>17</th>\n",
       "      <td>2018</td>\n",
       "      <td>4.27</td>\n",
       "    </tr>\n",
       "    <tr>\n",
       "      <th>18</th>\n",
       "      <td>2019</td>\n",
       "      <td>3.05</td>\n",
       "    </tr>\n",
       "    <tr>\n",
       "      <th>19</th>\n",
       "      <td>2020</td>\n",
       "      <td>4.91</td>\n",
       "    </tr>\n",
       "    <tr>\n",
       "      <th>20</th>\n",
       "      <td>2021</td>\n",
       "      <td>8.39</td>\n",
       "    </tr>\n",
       "    <tr>\n",
       "      <th>21</th>\n",
       "      <td>2022</td>\n",
       "      <td>11.92</td>\n",
       "    </tr>\n",
       "    <tr>\n",
       "      <th>22</th>\n",
       "      <td>2023</td>\n",
       "      <td>7.42</td>\n",
       "    </tr>\n",
       "  </tbody>\n",
       "</table>\n",
       "</div>"
      ],
      "text/plain": [
       "    Year   Total\n",
       "0   2001   18.58\n",
       "1   2002   15.06\n",
       "2   2003   11.99\n",
       "3   2004   11.74\n",
       "4   2005   10.91\n",
       "5   2006    9.00\n",
       "6   2007   11.87\n",
       "7   2008   13.28\n",
       "8   2009    8.80\n",
       "9   2010    8.78\n",
       "10  2011    6.10\n",
       "11  2012    6.58\n",
       "12  2013    6.45\n",
       "13  2014   11.36\n",
       "14  2015   12.91\n",
       "15  2016    5.38\n",
       "16  2017    2.52\n",
       "17  2018    4.27\n",
       "18  2019    3.05\n",
       "19  2020    4.91\n",
       "20  2021    8.39\n",
       "21  2022   11.92\n",
       "22  2023    7.42"
      ]
     },
     "execution_count": 97,
     "metadata": {},
     "output_type": "execute_result"
    }
   ],
   "source": [
    "inflation"
   ]
  },
  {
   "cell_type": "code",
   "execution_count": 98,
   "metadata": {},
   "outputs": [
    {
     "name": "stderr",
     "output_type": "stream",
     "text": [
      "C:\\Users\\pelik\\AppData\\Local\\Temp\\ipykernel_4328\\1597051437.py:1: SettingWithCopyWarning: \n",
      "A value is trying to be set on a copy of a slice from a DataFrame.\n",
      "Try using .loc[row_indexer,col_indexer] = value instead\n",
      "\n",
      "See the caveats in the documentation: https://pandas.pydata.org/pandas-docs/stable/user_guide/indexing.html#returning-a-view-versus-a-copy\n",
      "  inflation['Year'] ='01-01-' + inflation['Year'].astype('str')\n"
     ]
    }
   ],
   "source": [
    "inflation['Year'] ='01-01-' + inflation['Year'].astype('str')"
   ]
  },
  {
   "cell_type": "code",
   "execution_count": 99,
   "metadata": {},
   "outputs": [
    {
     "name": "stderr",
     "output_type": "stream",
     "text": [
      "C:\\Users\\pelik\\AppData\\Local\\Temp\\ipykernel_4328\\3752068534.py:1: SettingWithCopyWarning: \n",
      "A value is trying to be set on a copy of a slice from a DataFrame.\n",
      "Try using .loc[row_indexer,col_indexer] = value instead\n",
      "\n",
      "See the caveats in the documentation: https://pandas.pydata.org/pandas-docs/stable/user_guide/indexing.html#returning-a-view-versus-a-copy\n",
      "  inflation.Year = inflation.Year.astype('datetime64[ns]')\n"
     ]
    }
   ],
   "source": [
    "inflation.Year = inflation.Year.astype('datetime64[ns]')"
   ]
  },
  {
   "cell_type": "code",
   "execution_count": 100,
   "metadata": {},
   "outputs": [],
   "source": [
    "p = pd.date_range(start='01-01-2001', end='05-10-2024', freq='D')\n",
    "pp = pd.DataFrame(p, columns=['Year'])\n",
    "\n",
    "# Объединяем исходный df с df_full\n",
    "inflation = pp.merge(inflation, on='Year', how='left')"
   ]
  },
  {
   "cell_type": "code",
   "execution_count": 101,
   "metadata": {},
   "outputs": [],
   "source": [
    "inflation.ffill(inplace=True)"
   ]
  },
  {
   "cell_type": "code",
   "execution_count": 102,
   "metadata": {},
   "outputs": [
    {
     "data": {
      "text/html": [
       "<div>\n",
       "<style scoped>\n",
       "    .dataframe tbody tr th:only-of-type {\n",
       "        vertical-align: middle;\n",
       "    }\n",
       "\n",
       "    .dataframe tbody tr th {\n",
       "        vertical-align: top;\n",
       "    }\n",
       "\n",
       "    .dataframe thead th {\n",
       "        text-align: right;\n",
       "    }\n",
       "</style>\n",
       "<table border=\"1\" class=\"dataframe\">\n",
       "  <thead>\n",
       "    <tr style=\"text-align: right;\">\n",
       "      <th></th>\n",
       "      <th>Year</th>\n",
       "      <th>Total</th>\n",
       "    </tr>\n",
       "  </thead>\n",
       "  <tbody>\n",
       "    <tr>\n",
       "      <th>0</th>\n",
       "      <td>2001-01-01</td>\n",
       "      <td>18.58</td>\n",
       "    </tr>\n",
       "    <tr>\n",
       "      <th>1</th>\n",
       "      <td>2001-01-02</td>\n",
       "      <td>18.58</td>\n",
       "    </tr>\n",
       "    <tr>\n",
       "      <th>2</th>\n",
       "      <td>2001-01-03</td>\n",
       "      <td>18.58</td>\n",
       "    </tr>\n",
       "    <tr>\n",
       "      <th>3</th>\n",
       "      <td>2001-01-04</td>\n",
       "      <td>18.58</td>\n",
       "    </tr>\n",
       "    <tr>\n",
       "      <th>4</th>\n",
       "      <td>2001-01-05</td>\n",
       "      <td>18.58</td>\n",
       "    </tr>\n",
       "    <tr>\n",
       "      <th>...</th>\n",
       "      <td>...</td>\n",
       "      <td>...</td>\n",
       "    </tr>\n",
       "    <tr>\n",
       "      <th>8526</th>\n",
       "      <td>2024-05-06</td>\n",
       "      <td>7.42</td>\n",
       "    </tr>\n",
       "    <tr>\n",
       "      <th>8527</th>\n",
       "      <td>2024-05-07</td>\n",
       "      <td>7.42</td>\n",
       "    </tr>\n",
       "    <tr>\n",
       "      <th>8528</th>\n",
       "      <td>2024-05-08</td>\n",
       "      <td>7.42</td>\n",
       "    </tr>\n",
       "    <tr>\n",
       "      <th>8529</th>\n",
       "      <td>2024-05-09</td>\n",
       "      <td>7.42</td>\n",
       "    </tr>\n",
       "    <tr>\n",
       "      <th>8530</th>\n",
       "      <td>2024-05-10</td>\n",
       "      <td>7.42</td>\n",
       "    </tr>\n",
       "  </tbody>\n",
       "</table>\n",
       "<p>8531 rows × 2 columns</p>\n",
       "</div>"
      ],
      "text/plain": [
       "           Year   Total\n",
       "0    2001-01-01   18.58\n",
       "1    2001-01-02   18.58\n",
       "2    2001-01-03   18.58\n",
       "3    2001-01-04   18.58\n",
       "4    2001-01-05   18.58\n",
       "...         ...     ...\n",
       "8526 2024-05-06    7.42\n",
       "8527 2024-05-07    7.42\n",
       "8528 2024-05-08    7.42\n",
       "8529 2024-05-09    7.42\n",
       "8530 2024-05-10    7.42\n",
       "\n",
       "[8531 rows x 2 columns]"
      ]
     },
     "execution_count": 102,
     "metadata": {},
     "output_type": "execute_result"
    }
   ],
   "source": [
    "inflation"
   ]
  },
  {
   "cell_type": "code",
   "execution_count": 103,
   "metadata": {},
   "outputs": [],
   "source": [
    "inflation.to_csv('ready_data/inflation.csv',encoding='utf-8')"
   ]
  },
  {
   "cell_type": "code",
   "execution_count": 250,
   "metadata": {},
   "outputs": [
    {
     "data": {
      "text/plain": [
       "<Axes: xlabel='Year'>"
      ]
     },
     "execution_count": 250,
     "metadata": {},
     "output_type": "execute_result"
    },
    {
     "data": {
      "image/png": "[encoded data removed]",
      "text/plain": [
       "<Figure size 2000x700 with 1 Axes>"
      ]
     },
     "metadata": {},
     "output_type": "display_data"
    }
   ],
   "source": [
    "plt.figure(figsize=(20,7))\n",
    "sns.lineplot(data=inflation.set_index('Year'))"
   ]
  },
  {
   "cell_type": "markdown",
   "metadata": {},
   "source": [
    "# ОБРАБОТКА KLUCH"
   ]
  },
  {
   "cell_type": "code",
   "execution_count": 231,
   "metadata": {},
   "outputs": [],
   "source": [
    "kluch = pd.read_csv('data/kluch.csv',sep=';',parse_dates=['date'], dayfirst=True)"
   ]
  },
  {
   "cell_type": "code",
   "execution_count": 232,
   "metadata": {},
   "outputs": [
    {
     "data": {
      "text/html": [
       "<div>\n",
       "<style scoped>\n",
       "    .dataframe tbody tr th:only-of-type {\n",
       "        vertical-align: middle;\n",
       "    }\n",
       "\n",
       "    .dataframe tbody tr th {\n",
       "        vertical-align: top;\n",
       "    }\n",
       "\n",
       "    .dataframe thead th {\n",
       "        text-align: right;\n",
       "    }\n",
       "</style>\n",
       "<table border=\"1\" class=\"dataframe\">\n",
       "  <thead>\n",
       "    <tr style=\"text-align: right;\">\n",
       "      <th></th>\n",
       "      <th>date</th>\n",
       "      <th>stavka</th>\n",
       "    </tr>\n",
       "  </thead>\n",
       "  <tbody>\n",
       "    <tr>\n",
       "      <th>0</th>\n",
       "      <td>2024-02-16</td>\n",
       "      <td>16.0</td>\n",
       "    </tr>\n",
       "    <tr>\n",
       "      <th>1</th>\n",
       "      <td>2023-12-15</td>\n",
       "      <td>16.0</td>\n",
       "    </tr>\n",
       "    <tr>\n",
       "      <th>2</th>\n",
       "      <td>2023-10-27</td>\n",
       "      <td>15.0</td>\n",
       "    </tr>\n",
       "    <tr>\n",
       "      <th>3</th>\n",
       "      <td>2023-09-15</td>\n",
       "      <td>13.0</td>\n",
       "    </tr>\n",
       "    <tr>\n",
       "      <th>4</th>\n",
       "      <td>2023-08-15</td>\n",
       "      <td>12.0</td>\n",
       "    </tr>\n",
       "    <tr>\n",
       "      <th>...</th>\n",
       "      <td>...</td>\n",
       "      <td>...</td>\n",
       "    </tr>\n",
       "    <tr>\n",
       "      <th>134</th>\n",
       "      <td>1993-06-02</td>\n",
       "      <td>110.0</td>\n",
       "    </tr>\n",
       "    <tr>\n",
       "      <th>135</th>\n",
       "      <td>1993-03-30</td>\n",
       "      <td>100.0</td>\n",
       "    </tr>\n",
       "    <tr>\n",
       "      <th>136</th>\n",
       "      <td>1992-05-23</td>\n",
       "      <td>80.0</td>\n",
       "    </tr>\n",
       "    <tr>\n",
       "      <th>137</th>\n",
       "      <td>1992-04-10</td>\n",
       "      <td>50.0</td>\n",
       "    </tr>\n",
       "    <tr>\n",
       "      <th>138</th>\n",
       "      <td>1992-01-01</td>\n",
       "      <td>20.0</td>\n",
       "    </tr>\n",
       "  </tbody>\n",
       "</table>\n",
       "<p>139 rows × 2 columns</p>\n",
       "</div>"
      ],
      "text/plain": [
       "          date  stavka\n",
       "0   2024-02-16    16.0\n",
       "1   2023-12-15    16.0\n",
       "2   2023-10-27    15.0\n",
       "3   2023-09-15    13.0\n",
       "4   2023-08-15    12.0\n",
       "..         ...     ...\n",
       "134 1993-06-02   110.0\n",
       "135 1993-03-30   100.0\n",
       "136 1992-05-23    80.0\n",
       "137 1992-04-10    50.0\n",
       "138 1992-01-01    20.0\n",
       "\n",
       "[139 rows x 2 columns]"
      ]
     },
     "execution_count": 232,
     "metadata": {},
     "output_type": "execute_result"
    }
   ],
   "source": [
    "kluch"
   ]
  },
  {
   "cell_type": "code",
   "execution_count": 236,
   "metadata": {},
   "outputs": [],
   "source": [
    "p = pd.date_range(start='01-01-1992', end='05-10-2024', freq='D')\n",
    "pp = pd.DataFrame(p, columns=['date'])\n",
    "\n",
    "# Объединяем исходный df с df_full\n",
    "kluch = pp.merge(kluch, on='date', how='left')"
   ]
  },
  {
   "cell_type": "code",
   "execution_count": 238,
   "metadata": {},
   "outputs": [],
   "source": [
    "kluch.ffill(inplace=True)"
   ]
  },
  {
   "cell_type": "code",
   "execution_count": 239,
   "metadata": {},
   "outputs": [
    {
     "data": {
      "text/html": [
       "<div>\n",
       "<style scoped>\n",
       "    .dataframe tbody tr th:only-of-type {\n",
       "        vertical-align: middle;\n",
       "    }\n",
       "\n",
       "    .dataframe tbody tr th {\n",
       "        vertical-align: top;\n",
       "    }\n",
       "\n",
       "    .dataframe thead th {\n",
       "        text-align: right;\n",
       "    }\n",
       "</style>\n",
       "<table border=\"1\" class=\"dataframe\">\n",
       "  <thead>\n",
       "    <tr style=\"text-align: right;\">\n",
       "      <th></th>\n",
       "      <th>date</th>\n",
       "      <th>stavka</th>\n",
       "    </tr>\n",
       "  </thead>\n",
       "  <tbody>\n",
       "    <tr>\n",
       "      <th>0</th>\n",
       "      <td>1992-01-01</td>\n",
       "      <td>20.0</td>\n",
       "    </tr>\n",
       "    <tr>\n",
       "      <th>1</th>\n",
       "      <td>1992-01-02</td>\n",
       "      <td>20.0</td>\n",
       "    </tr>\n",
       "    <tr>\n",
       "      <th>2</th>\n",
       "      <td>1992-01-03</td>\n",
       "      <td>20.0</td>\n",
       "    </tr>\n",
       "    <tr>\n",
       "      <th>3</th>\n",
       "      <td>1992-01-04</td>\n",
       "      <td>20.0</td>\n",
       "    </tr>\n",
       "    <tr>\n",
       "      <th>4</th>\n",
       "      <td>1992-01-05</td>\n",
       "      <td>20.0</td>\n",
       "    </tr>\n",
       "    <tr>\n",
       "      <th>...</th>\n",
       "      <td>...</td>\n",
       "      <td>...</td>\n",
       "    </tr>\n",
       "    <tr>\n",
       "      <th>11814</th>\n",
       "      <td>2024-05-06</td>\n",
       "      <td>16.0</td>\n",
       "    </tr>\n",
       "    <tr>\n",
       "      <th>11815</th>\n",
       "      <td>2024-05-07</td>\n",
       "      <td>16.0</td>\n",
       "    </tr>\n",
       "    <tr>\n",
       "      <th>11816</th>\n",
       "      <td>2024-05-08</td>\n",
       "      <td>16.0</td>\n",
       "    </tr>\n",
       "    <tr>\n",
       "      <th>11817</th>\n",
       "      <td>2024-05-09</td>\n",
       "      <td>16.0</td>\n",
       "    </tr>\n",
       "    <tr>\n",
       "      <th>11818</th>\n",
       "      <td>2024-05-10</td>\n",
       "      <td>16.0</td>\n",
       "    </tr>\n",
       "  </tbody>\n",
       "</table>\n",
       "<p>11819 rows × 2 columns</p>\n",
       "</div>"
      ],
      "text/plain": [
       "            date  stavka\n",
       "0     1992-01-01    20.0\n",
       "1     1992-01-02    20.0\n",
       "2     1992-01-03    20.0\n",
       "3     1992-01-04    20.0\n",
       "4     1992-01-05    20.0\n",
       "...          ...     ...\n",
       "11814 2024-05-06    16.0\n",
       "11815 2024-05-07    16.0\n",
       "11816 2024-05-08    16.0\n",
       "11817 2024-05-09    16.0\n",
       "11818 2024-05-10    16.0\n",
       "\n",
       "[11819 rows x 2 columns]"
      ]
     },
     "execution_count": 239,
     "metadata": {},
     "output_type": "execute_result"
    }
   ],
   "source": [
    "kluch"
   ]
  },
  {
   "cell_type": "code",
   "execution_count": 240,
   "metadata": {},
   "outputs": [],
   "source": [
    "kluch.to_csv('ready_data/kluch.csv',encoding='utf-8')"
   ]
  },
  {
   "cell_type": "code",
   "execution_count": 241,
   "metadata": {},
   "outputs": [
    {
     "data": {
      "text/plain": [
       "<Axes: xlabel='date'>"
      ]
     },
     "execution_count": 241,
     "metadata": {},
     "output_type": "execute_result"
    },
    {
     "data": {
      "image/png": "[encoded data removed]",
      "text/plain": [
       "<Figure size 2000x700 with 1 Axes>"
      ]
     },
     "metadata": {},
     "output_type": "display_data"
    }
   ],
   "source": [
    "plt.figure(figsize=(20,7))\n",
    "sns.lineplot(data=kluch.set_index('date'))"
   ]
  },
  {
   "cell_type": "markdown",
   "metadata": {},
   "source": [
    "# ОБРАБОТКА USD"
   ]
  },
  {
   "cell_type": "code",
   "execution_count": 219,
   "metadata": {},
   "outputs": [],
   "source": [
    "usd = pd.read_csv('data/USD_RUB.csv',sep=',',parse_dates=['Date'], dayfirst=True)"
   ]
  },
  {
   "cell_type": "code",
   "execution_count": 220,
   "metadata": {},
   "outputs": [
    {
     "data": {
      "text/html": [
       "<div>\n",
       "<style scoped>\n",
       "    .dataframe tbody tr th:only-of-type {\n",
       "        vertical-align: middle;\n",
       "    }\n",
       "\n",
       "    .dataframe tbody tr th {\n",
       "        vertical-align: top;\n",
       "    }\n",
       "\n",
       "    .dataframe thead th {\n",
       "        text-align: right;\n",
       "    }\n",
       "</style>\n",
       "<table border=\"1\" class=\"dataframe\">\n",
       "  <thead>\n",
       "    <tr style=\"text-align: right;\">\n",
       "      <th></th>\n",
       "      <th>Date</th>\n",
       "      <th>Price</th>\n",
       "      <th>Open</th>\n",
       "      <th>Max</th>\n",
       "      <th>Min</th>\n",
       "      <th>Change</th>\n",
       "    </tr>\n",
       "  </thead>\n",
       "  <tbody>\n",
       "    <tr>\n",
       "      <th>0</th>\n",
       "      <td>2024-05-10</td>\n",
       "      <td>92.2550</td>\n",
       "      <td>91.9500</td>\n",
       "      <td>92.4407</td>\n",
       "      <td>91.7275</td>\n",
       "      <td>0.33</td>\n",
       "    </tr>\n",
       "    <tr>\n",
       "      <th>1</th>\n",
       "      <td>2024-05-08</td>\n",
       "      <td>91.9500</td>\n",
       "      <td>91.1075</td>\n",
       "      <td>92.1281</td>\n",
       "      <td>91.1075</td>\n",
       "      <td>0.92</td>\n",
       "    </tr>\n",
       "    <tr>\n",
       "      <th>2</th>\n",
       "      <td>2024-05-07</td>\n",
       "      <td>91.1075</td>\n",
       "      <td>91.3475</td>\n",
       "      <td>91.4175</td>\n",
       "      <td>90.9277</td>\n",
       "      <td>-0.26</td>\n",
       "    </tr>\n",
       "    <tr>\n",
       "      <th>3</th>\n",
       "      <td>2024-05-06</td>\n",
       "      <td>91.3475</td>\n",
       "      <td>91.6000</td>\n",
       "      <td>92.0779</td>\n",
       "      <td>90.8618</td>\n",
       "      <td>-0.28</td>\n",
       "    </tr>\n",
       "    <tr>\n",
       "      <th>4</th>\n",
       "      <td>2024-05-03</td>\n",
       "      <td>91.6000</td>\n",
       "      <td>92.0500</td>\n",
       "      <td>92.1625</td>\n",
       "      <td>91.4504</td>\n",
       "      <td>-0.49</td>\n",
       "    </tr>\n",
       "    <tr>\n",
       "      <th>...</th>\n",
       "      <td>...</td>\n",
       "      <td>...</td>\n",
       "      <td>...</td>\n",
       "      <td>...</td>\n",
       "      <td>...</td>\n",
       "      <td>...</td>\n",
       "    </tr>\n",
       "    <tr>\n",
       "      <th>5841</th>\n",
       "      <td>2001-09-20</td>\n",
       "      <td>29.4300</td>\n",
       "      <td>29.4550</td>\n",
       "      <td>29.4760</td>\n",
       "      <td>29.4030</td>\n",
       "      <td>-0.08</td>\n",
       "    </tr>\n",
       "    <tr>\n",
       "      <th>5842</th>\n",
       "      <td>2001-09-19</td>\n",
       "      <td>29.4530</td>\n",
       "      <td>29.4600</td>\n",
       "      <td>29.4810</td>\n",
       "      <td>29.4300</td>\n",
       "      <td>-0.02</td>\n",
       "    </tr>\n",
       "    <tr>\n",
       "      <th>5843</th>\n",
       "      <td>2001-09-18</td>\n",
       "      <td>29.4600</td>\n",
       "      <td>29.4450</td>\n",
       "      <td>29.4750</td>\n",
       "      <td>29.4400</td>\n",
       "      <td>0.00</td>\n",
       "    </tr>\n",
       "    <tr>\n",
       "      <th>5844</th>\n",
       "      <td>2001-09-17</td>\n",
       "      <td>29.4610</td>\n",
       "      <td>29.4600</td>\n",
       "      <td>29.4730</td>\n",
       "      <td>29.4400</td>\n",
       "      <td>-0.04</td>\n",
       "    </tr>\n",
       "    <tr>\n",
       "      <th>5845</th>\n",
       "      <td>2001-09-14</td>\n",
       "      <td>29.4730</td>\n",
       "      <td>29.3500</td>\n",
       "      <td>29.4800</td>\n",
       "      <td>29.3500</td>\n",
       "      <td>0.00</td>\n",
       "    </tr>\n",
       "  </tbody>\n",
       "</table>\n",
       "<p>5846 rows × 6 columns</p>\n",
       "</div>"
      ],
      "text/plain": [
       "           Date    Price     Open      Max      Min  Change \n",
       "0    2024-05-10  92.2550  91.9500  92.4407  91.7275     0.33\n",
       "1    2024-05-08  91.9500  91.1075  92.1281  91.1075     0.92\n",
       "2    2024-05-07  91.1075  91.3475  91.4175  90.9277    -0.26\n",
       "3    2024-05-06  91.3475  91.6000  92.0779  90.8618    -0.28\n",
       "4    2024-05-03  91.6000  92.0500  92.1625  91.4504    -0.49\n",
       "...         ...      ...      ...      ...      ...      ...\n",
       "5841 2001-09-20  29.4300  29.4550  29.4760  29.4030    -0.08\n",
       "5842 2001-09-19  29.4530  29.4600  29.4810  29.4300    -0.02\n",
       "5843 2001-09-18  29.4600  29.4450  29.4750  29.4400     0.00\n",
       "5844 2001-09-17  29.4610  29.4600  29.4730  29.4400    -0.04\n",
       "5845 2001-09-14  29.4730  29.3500  29.4800  29.3500     0.00\n",
       "\n",
       "[5846 rows x 6 columns]"
      ]
     },
     "execution_count": 220,
     "metadata": {},
     "output_type": "execute_result"
    }
   ],
   "source": [
    "usd"
   ]
  },
  {
   "cell_type": "code",
   "execution_count": 221,
   "metadata": {},
   "outputs": [],
   "source": [
    "p = pd.date_range(start='09-14-2001', end='05-10-2024', freq='D')\n",
    "pp = pd.DataFrame(p, columns=['Date'])\n",
    "\n",
    "# Объединяем исходный df с df_full\n",
    "usd = pp.merge(usd, on='Date', how='left')"
   ]
  },
  {
   "cell_type": "code",
   "execution_count": 223,
   "metadata": {},
   "outputs": [],
   "source": [
    "usd.ffill(inplace=True)"
   ]
  },
  {
   "cell_type": "code",
   "execution_count": 224,
   "metadata": {},
   "outputs": [
    {
     "data": {
      "text/html": [
       "<div>\n",
       "<style scoped>\n",
       "    .dataframe tbody tr th:only-of-type {\n",
       "        vertical-align: middle;\n",
       "    }\n",
       "\n",
       "    .dataframe tbody tr th {\n",
       "        vertical-align: top;\n",
       "    }\n",
       "\n",
       "    .dataframe thead th {\n",
       "        text-align: right;\n",
       "    }\n",
       "</style>\n",
       "<table border=\"1\" class=\"dataframe\">\n",
       "  <thead>\n",
       "    <tr style=\"text-align: right;\">\n",
       "      <th></th>\n",
       "      <th>Date</th>\n",
       "      <th>Price</th>\n",
       "      <th>Open</th>\n",
       "      <th>Max</th>\n",
       "      <th>Min</th>\n",
       "      <th>Change</th>\n",
       "    </tr>\n",
       "  </thead>\n",
       "  <tbody>\n",
       "    <tr>\n",
       "      <th>0</th>\n",
       "      <td>2001-09-14</td>\n",
       "      <td>29.4730</td>\n",
       "      <td>29.3500</td>\n",
       "      <td>29.4800</td>\n",
       "      <td>29.3500</td>\n",
       "      <td>0.00</td>\n",
       "    </tr>\n",
       "    <tr>\n",
       "      <th>1</th>\n",
       "      <td>2001-09-15</td>\n",
       "      <td>29.4730</td>\n",
       "      <td>29.3500</td>\n",
       "      <td>29.4800</td>\n",
       "      <td>29.3500</td>\n",
       "      <td>0.00</td>\n",
       "    </tr>\n",
       "    <tr>\n",
       "      <th>2</th>\n",
       "      <td>2001-09-16</td>\n",
       "      <td>29.4730</td>\n",
       "      <td>29.3500</td>\n",
       "      <td>29.4800</td>\n",
       "      <td>29.3500</td>\n",
       "      <td>0.00</td>\n",
       "    </tr>\n",
       "    <tr>\n",
       "      <th>3</th>\n",
       "      <td>2001-09-17</td>\n",
       "      <td>29.4610</td>\n",
       "      <td>29.4600</td>\n",
       "      <td>29.4730</td>\n",
       "      <td>29.4400</td>\n",
       "      <td>-0.04</td>\n",
       "    </tr>\n",
       "    <tr>\n",
       "      <th>4</th>\n",
       "      <td>2001-09-18</td>\n",
       "      <td>29.4600</td>\n",
       "      <td>29.4450</td>\n",
       "      <td>29.4750</td>\n",
       "      <td>29.4400</td>\n",
       "      <td>0.00</td>\n",
       "    </tr>\n",
       "    <tr>\n",
       "      <th>...</th>\n",
       "      <td>...</td>\n",
       "      <td>...</td>\n",
       "      <td>...</td>\n",
       "      <td>...</td>\n",
       "      <td>...</td>\n",
       "      <td>...</td>\n",
       "    </tr>\n",
       "    <tr>\n",
       "      <th>8270</th>\n",
       "      <td>2024-05-06</td>\n",
       "      <td>91.3475</td>\n",
       "      <td>91.6000</td>\n",
       "      <td>92.0779</td>\n",
       "      <td>90.8618</td>\n",
       "      <td>-0.28</td>\n",
       "    </tr>\n",
       "    <tr>\n",
       "      <th>8271</th>\n",
       "      <td>2024-05-07</td>\n",
       "      <td>91.1075</td>\n",
       "      <td>91.3475</td>\n",
       "      <td>91.4175</td>\n",
       "      <td>90.9277</td>\n",
       "      <td>-0.26</td>\n",
       "    </tr>\n",
       "    <tr>\n",
       "      <th>8272</th>\n",
       "      <td>2024-05-08</td>\n",
       "      <td>91.9500</td>\n",
       "      <td>91.1075</td>\n",
       "      <td>92.1281</td>\n",
       "      <td>91.1075</td>\n",
       "      <td>0.92</td>\n",
       "    </tr>\n",
       "    <tr>\n",
       "      <th>8273</th>\n",
       "      <td>2024-05-09</td>\n",
       "      <td>91.9500</td>\n",
       "      <td>91.1075</td>\n",
       "      <td>92.1281</td>\n",
       "      <td>91.1075</td>\n",
       "      <td>0.92</td>\n",
       "    </tr>\n",
       "    <tr>\n",
       "      <th>8274</th>\n",
       "      <td>2024-05-10</td>\n",
       "      <td>92.2550</td>\n",
       "      <td>91.9500</td>\n",
       "      <td>92.4407</td>\n",
       "      <td>91.7275</td>\n",
       "      <td>0.33</td>\n",
       "    </tr>\n",
       "  </tbody>\n",
       "</table>\n",
       "<p>8275 rows × 6 columns</p>\n",
       "</div>"
      ],
      "text/plain": [
       "           Date    Price     Open      Max      Min  Change \n",
       "0    2001-09-14  29.4730  29.3500  29.4800  29.3500     0.00\n",
       "1    2001-09-15  29.4730  29.3500  29.4800  29.3500     0.00\n",
       "2    2001-09-16  29.4730  29.3500  29.4800  29.3500     0.00\n",
       "3    2001-09-17  29.4610  29.4600  29.4730  29.4400    -0.04\n",
       "4    2001-09-18  29.4600  29.4450  29.4750  29.4400     0.00\n",
       "...         ...      ...      ...      ...      ...      ...\n",
       "8270 2024-05-06  91.3475  91.6000  92.0779  90.8618    -0.28\n",
       "8271 2024-05-07  91.1075  91.3475  91.4175  90.9277    -0.26\n",
       "8272 2024-05-08  91.9500  91.1075  92.1281  91.1075     0.92\n",
       "8273 2024-05-09  91.9500  91.1075  92.1281  91.1075     0.92\n",
       "8274 2024-05-10  92.2550  91.9500  92.4407  91.7275     0.33\n",
       "\n",
       "[8275 rows x 6 columns]"
      ]
     },
     "execution_count": 224,
     "metadata": {},
     "output_type": "execute_result"
    }
   ],
   "source": [
    "usd"
   ]
  },
  {
   "cell_type": "code",
   "execution_count": 225,
   "metadata": {},
   "outputs": [],
   "source": [
    "usd.to_csv('ready_data/usd.csv',encoding='utf-8')"
   ]
  },
  {
   "cell_type": "code",
   "execution_count": 227,
   "metadata": {},
   "outputs": [
    {
     "data": {
      "text/plain": [
       "<Axes: xlabel='Date'>"
      ]
     },
     "execution_count": 227,
     "metadata": {},
     "output_type": "execute_result"
    },
    {
     "data": {
      "image/png": "[encoded data removed]",
      "text/plain": [
       "<Figure size 2000x700 with 1 Axes>"
      ]
     },
     "metadata": {},
     "output_type": "display_data"
    }
   ],
   "source": [
    "plt.figure(figsize=(20,7))\n",
    "sns.lineplot(data=usd.set_index('Date')[['Price','Open','Max','Min']],palette=['blue','gold','red','green'])"
   ]
  },
  {
   "cell_type": "markdown",
   "metadata": {},
   "source": [
    "# ОБРАБОТКА GDP"
   ]
  },
  {
   "cell_type": "code",
   "execution_count": 62,
   "metadata": {},
   "outputs": [],
   "source": [
    "vvp = pd.read_csv('data/vvp.csv',sep = ';')"
   ]
  },
  {
   "cell_type": "code",
   "execution_count": 11,
   "metadata": {},
   "outputs": [],
   "source": [
    "# vvp['vvp'] = vvp['vvp']*1000000000.0 "
   ]
  },
  {
   "cell_type": "code",
   "execution_count": 63,
   "metadata": {},
   "outputs": [
    {
     "data": {
      "text/html": [
       "<div>\n",
       "<style scoped>\n",
       "    .dataframe tbody tr th:only-of-type {\n",
       "        vertical-align: middle;\n",
       "    }\n",
       "\n",
       "    .dataframe tbody tr th {\n",
       "        vertical-align: top;\n",
       "    }\n",
       "\n",
       "    .dataframe thead th {\n",
       "        text-align: right;\n",
       "    }\n",
       "</style>\n",
       "<table border=\"1\" class=\"dataframe\">\n",
       "  <thead>\n",
       "    <tr style=\"text-align: right;\">\n",
       "      <th></th>\n",
       "      <th>year</th>\n",
       "      <th>vvp</th>\n",
       "    </tr>\n",
       "  </thead>\n",
       "  <tbody>\n",
       "    <tr>\n",
       "      <th>0</th>\n",
       "      <td>2001</td>\n",
       "      <td>328.5</td>\n",
       "    </tr>\n",
       "    <tr>\n",
       "      <th>1</th>\n",
       "      <td>2002</td>\n",
       "      <td>370.1</td>\n",
       "    </tr>\n",
       "    <tr>\n",
       "      <th>2</th>\n",
       "      <td>2003</td>\n",
       "      <td>461.5</td>\n",
       "    </tr>\n",
       "    <tr>\n",
       "      <th>3</th>\n",
       "      <td>2004</td>\n",
       "      <td>633.3</td>\n",
       "    </tr>\n",
       "    <tr>\n",
       "      <th>4</th>\n",
       "      <td>2005</td>\n",
       "      <td>817.7</td>\n",
       "    </tr>\n",
       "    <tr>\n",
       "      <th>5</th>\n",
       "      <td>2006</td>\n",
       "      <td>1060.9</td>\n",
       "    </tr>\n",
       "    <tr>\n",
       "      <th>6</th>\n",
       "      <td>2007</td>\n",
       "      <td>1393.4</td>\n",
       "    </tr>\n",
       "    <tr>\n",
       "      <th>7</th>\n",
       "      <td>2008</td>\n",
       "      <td>1779.1</td>\n",
       "    </tr>\n",
       "    <tr>\n",
       "      <th>8</th>\n",
       "      <td>2009</td>\n",
       "      <td>1307.9</td>\n",
       "    </tr>\n",
       "    <tr>\n",
       "      <th>9</th>\n",
       "      <td>2010</td>\n",
       "      <td>1633.1</td>\n",
       "    </tr>\n",
       "    <tr>\n",
       "      <th>10</th>\n",
       "      <td>2011</td>\n",
       "      <td>2046.6</td>\n",
       "    </tr>\n",
       "    <tr>\n",
       "      <th>11</th>\n",
       "      <td>2012</td>\n",
       "      <td>2191.5</td>\n",
       "    </tr>\n",
       "    <tr>\n",
       "      <th>12</th>\n",
       "      <td>2013</td>\n",
       "      <td>2288.4</td>\n",
       "    </tr>\n",
       "    <tr>\n",
       "      <th>13</th>\n",
       "      <td>2014</td>\n",
       "      <td>2048.8</td>\n",
       "    </tr>\n",
       "    <tr>\n",
       "      <th>14</th>\n",
       "      <td>2015</td>\n",
       "      <td>1356.7</td>\n",
       "    </tr>\n",
       "    <tr>\n",
       "      <th>15</th>\n",
       "      <td>2016</td>\n",
       "      <td>1280.6</td>\n",
       "    </tr>\n",
       "    <tr>\n",
       "      <th>16</th>\n",
       "      <td>2017</td>\n",
       "      <td>1575.1</td>\n",
       "    </tr>\n",
       "    <tr>\n",
       "      <th>17</th>\n",
       "      <td>2018</td>\n",
       "      <td>1653.0</td>\n",
       "    </tr>\n",
       "    <tr>\n",
       "      <th>18</th>\n",
       "      <td>2019</td>\n",
       "      <td>1695.7</td>\n",
       "    </tr>\n",
       "    <tr>\n",
       "      <th>19</th>\n",
       "      <td>2020</td>\n",
       "      <td>1488.1</td>\n",
       "    </tr>\n",
       "    <tr>\n",
       "      <th>20</th>\n",
       "      <td>2021</td>\n",
       "      <td>1843.1</td>\n",
       "    </tr>\n",
       "    <tr>\n",
       "      <th>21</th>\n",
       "      <td>2022</td>\n",
       "      <td>2272.3</td>\n",
       "    </tr>\n",
       "    <tr>\n",
       "      <th>22</th>\n",
       "      <td>2023</td>\n",
       "      <td>1997.0</td>\n",
       "    </tr>\n",
       "  </tbody>\n",
       "</table>\n",
       "</div>"
      ],
      "text/plain": [
       "    year     vvp\n",
       "0   2001   328.5\n",
       "1   2002   370.1\n",
       "2   2003   461.5\n",
       "3   2004   633.3\n",
       "4   2005   817.7\n",
       "5   2006  1060.9\n",
       "6   2007  1393.4\n",
       "7   2008  1779.1\n",
       "8   2009  1307.9\n",
       "9   2010  1633.1\n",
       "10  2011  2046.6\n",
       "11  2012  2191.5\n",
       "12  2013  2288.4\n",
       "13  2014  2048.8\n",
       "14  2015  1356.7\n",
       "15  2016  1280.6\n",
       "16  2017  1575.1\n",
       "17  2018  1653.0\n",
       "18  2019  1695.7\n",
       "19  2020  1488.1\n",
       "20  2021  1843.1\n",
       "21  2022  2272.3\n",
       "22  2023  1997.0"
      ]
     },
     "execution_count": 63,
     "metadata": {},
     "output_type": "execute_result"
    }
   ],
   "source": [
    "vvp"
   ]
  },
  {
   "cell_type": "code",
   "execution_count": 64,
   "metadata": {},
   "outputs": [],
   "source": [
    "vvp['year'] ='01-01-' + vvp['year'].astype('str')"
   ]
  },
  {
   "cell_type": "code",
   "execution_count": 71,
   "metadata": {},
   "outputs": [],
   "source": [
    "vvp.year = vvp.year.astype('datetime64[ns]')"
   ]
  },
  {
   "cell_type": "code",
   "execution_count": 72,
   "metadata": {},
   "outputs": [],
   "source": [
    "r = pd.date_range(start='01-01-2001', end='05-10-2024', freq='D')\n",
    "rr = pd.DataFrame(r, columns=['year'])\n",
    "\n",
    "# Объединяем исходный df с df_full\n",
    "vvp = rr.merge(vvp, on='year', how='left')"
   ]
  },
  {
   "cell_type": "code",
   "execution_count": 75,
   "metadata": {},
   "outputs": [
    {
     "name": "stderr",
     "output_type": "stream",
     "text": [
      "C:\\Users\\pelik\\AppData\\Local\\Temp\\ipykernel_4328\\3343703737.py:1: FutureWarning: A value is trying to be set on a copy of a DataFrame or Series through chained assignment using an inplace method.\n",
      "The behavior will change in pandas 3.0. This inplace method will never work because the intermediate object on which we are setting values always behaves as a copy.\n",
      "\n",
      "For example, when doing 'df[col].method(value, inplace=True)', try using 'df.method({col: value}, inplace=True)' or df[col] = df[col].method(value) instead, to perform the operation inplace on the original object.\n",
      "\n",
      "\n",
      "  vvp.vvp.ffill(inplace=True)\n"
     ]
    }
   ],
   "source": [
    "vvp.vvp.ffill(inplace=True)"
   ]
  },
  {
   "cell_type": "code",
   "execution_count": 82,
   "metadata": {},
   "outputs": [
    {
     "data": {
      "text/html": [
       "<div>\n",
       "<style scoped>\n",
       "    .dataframe tbody tr th:only-of-type {\n",
       "        vertical-align: middle;\n",
       "    }\n",
       "\n",
       "    .dataframe tbody tr th {\n",
       "        vertical-align: top;\n",
       "    }\n",
       "\n",
       "    .dataframe thead th {\n",
       "        text-align: right;\n",
       "    }\n",
       "</style>\n",
       "<table border=\"1\" class=\"dataframe\">\n",
       "  <thead>\n",
       "    <tr style=\"text-align: right;\">\n",
       "      <th></th>\n",
       "      <th>year</th>\n",
       "      <th>vvp</th>\n",
       "    </tr>\n",
       "  </thead>\n",
       "  <tbody>\n",
       "    <tr>\n",
       "      <th>0</th>\n",
       "      <td>2001-01-01</td>\n",
       "      <td>328.5</td>\n",
       "    </tr>\n",
       "    <tr>\n",
       "      <th>1</th>\n",
       "      <td>2001-01-02</td>\n",
       "      <td>328.5</td>\n",
       "    </tr>\n",
       "    <tr>\n",
       "      <th>2</th>\n",
       "      <td>2001-01-03</td>\n",
       "      <td>328.5</td>\n",
       "    </tr>\n",
       "    <tr>\n",
       "      <th>3</th>\n",
       "      <td>2001-01-04</td>\n",
       "      <td>328.5</td>\n",
       "    </tr>\n",
       "    <tr>\n",
       "      <th>4</th>\n",
       "      <td>2001-01-05</td>\n",
       "      <td>328.5</td>\n",
       "    </tr>\n",
       "    <tr>\n",
       "      <th>...</th>\n",
       "      <td>...</td>\n",
       "      <td>...</td>\n",
       "    </tr>\n",
       "    <tr>\n",
       "      <th>8526</th>\n",
       "      <td>2024-05-06</td>\n",
       "      <td>1997.0</td>\n",
       "    </tr>\n",
       "    <tr>\n",
       "      <th>8527</th>\n",
       "      <td>2024-05-07</td>\n",
       "      <td>1997.0</td>\n",
       "    </tr>\n",
       "    <tr>\n",
       "      <th>8528</th>\n",
       "      <td>2024-05-08</td>\n",
       "      <td>1997.0</td>\n",
       "    </tr>\n",
       "    <tr>\n",
       "      <th>8529</th>\n",
       "      <td>2024-05-09</td>\n",
       "      <td>1997.0</td>\n",
       "    </tr>\n",
       "    <tr>\n",
       "      <th>8530</th>\n",
       "      <td>2024-05-10</td>\n",
       "      <td>1997.0</td>\n",
       "    </tr>\n",
       "  </tbody>\n",
       "</table>\n",
       "<p>8531 rows × 2 columns</p>\n",
       "</div>"
      ],
      "text/plain": [
       "           year     vvp\n",
       "0    2001-01-01   328.5\n",
       "1    2001-01-02   328.5\n",
       "2    2001-01-03   328.5\n",
       "3    2001-01-04   328.5\n",
       "4    2001-01-05   328.5\n",
       "...         ...     ...\n",
       "8526 2024-05-06  1997.0\n",
       "8527 2024-05-07  1997.0\n",
       "8528 2024-05-08  1997.0\n",
       "8529 2024-05-09  1997.0\n",
       "8530 2024-05-10  1997.0\n",
       "\n",
       "[8531 rows x 2 columns]"
      ]
     },
     "execution_count": 82,
     "metadata": {},
     "output_type": "execute_result"
    }
   ],
   "source": [
    "vvp"
   ]
  },
  {
   "cell_type": "code",
   "execution_count": 77,
   "metadata": {},
   "outputs": [],
   "source": [
    "vvp.to_csv('ready_data/vvp.csv',encoding='utf-8')"
   ]
  },
  {
   "cell_type": "code",
   "execution_count": 84,
   "metadata": {},
   "outputs": [
    {
     "data": {
      "text/plain": [
       "<Axes: xlabel='year', ylabel='vvp'>"
      ]
     },
     "execution_count": 84,
     "metadata": {},
     "output_type": "execute_result"
    },
    {
     "data": {
      "image/png": "[encoded data removed]",
      "text/plain": [
       "<Figure size 1200x700 with 1 Axes>"
      ]
     },
     "metadata": {},
     "output_type": "display_data"
    }
   ],
   "source": [
    "plt.figure(figsize=(12,7))\n",
    "sns.lineplot(data=vvp,y='vvp',x='year')"
   ]
  },
  {
   "cell_type": "markdown",
   "metadata": {},
   "source": [
    "# CREATING DF"
   ]
  },
  {
   "cell_type": "code",
   "execution_count": 209,
   "metadata": {},
   "outputs": [],
   "source": [
    "tatn = pd.read_csv('data/TATN.csv',sep=',',parse_dates=['Date'], dayfirst=True)"
   ]
  },
  {
   "cell_type": "code",
   "execution_count": 214,
   "metadata": {},
   "outputs": [
    {
     "data": {
      "text/html": [
       "<div>\n",
       "<style scoped>\n",
       "    .dataframe tbody tr th:only-of-type {\n",
       "        vertical-align: middle;\n",
       "    }\n",
       "\n",
       "    .dataframe tbody tr th {\n",
       "        vertical-align: top;\n",
       "    }\n",
       "\n",
       "    .dataframe thead th {\n",
       "        text-align: right;\n",
       "    }\n",
       "</style>\n",
       "<table border=\"1\" class=\"dataframe\">\n",
       "  <thead>\n",
       "    <tr style=\"text-align: right;\">\n",
       "      <th></th>\n",
       "      <th>Date</th>\n",
       "      <th>Price</th>\n",
       "      <th>Open</th>\n",
       "      <th>Max</th>\n",
       "      <th>Min</th>\n",
       "      <th>Volume</th>\n",
       "      <th>Change</th>\n",
       "    </tr>\n",
       "  </thead>\n",
       "  <tbody>\n",
       "    <tr>\n",
       "      <th>0</th>\n",
       "      <td>2024-05-10</td>\n",
       "      <td>728.90</td>\n",
       "      <td>722.00</td>\n",
       "      <td>728.90</td>\n",
       "      <td>722.00</td>\n",
       "      <td>545.75K</td>\n",
       "      <td>0.98%</td>\n",
       "    </tr>\n",
       "    <tr>\n",
       "      <th>1</th>\n",
       "      <td>2024-05-08</td>\n",
       "      <td>721.80</td>\n",
       "      <td>718.00</td>\n",
       "      <td>723.80</td>\n",
       "      <td>717.20</td>\n",
       "      <td>744.91K</td>\n",
       "      <td>0.53%</td>\n",
       "    </tr>\n",
       "    <tr>\n",
       "      <th>2</th>\n",
       "      <td>2024-05-07</td>\n",
       "      <td>718.00</td>\n",
       "      <td>715.10</td>\n",
       "      <td>721.20</td>\n",
       "      <td>714.10</td>\n",
       "      <td>1.27000K</td>\n",
       "      <td>0.41%</td>\n",
       "    </tr>\n",
       "    <tr>\n",
       "      <th>3</th>\n",
       "      <td>2024-05-06</td>\n",
       "      <td>715.10</td>\n",
       "      <td>718.40</td>\n",
       "      <td>719.70</td>\n",
       "      <td>711.20</td>\n",
       "      <td>2.29000K</td>\n",
       "      <td>-0.46%</td>\n",
       "    </tr>\n",
       "    <tr>\n",
       "      <th>4</th>\n",
       "      <td>2024-05-03</td>\n",
       "      <td>718.40</td>\n",
       "      <td>719.90</td>\n",
       "      <td>721.90</td>\n",
       "      <td>717.30</td>\n",
       "      <td>689.23K</td>\n",
       "      <td>-0.18%</td>\n",
       "    </tr>\n",
       "    <tr>\n",
       "      <th>...</th>\n",
       "      <td>...</td>\n",
       "      <td>...</td>\n",
       "      <td>...</td>\n",
       "      <td>...</td>\n",
       "      <td>...</td>\n",
       "      <td>...</td>\n",
       "      <td>...</td>\n",
       "    </tr>\n",
       "    <tr>\n",
       "      <th>5583</th>\n",
       "      <td>2001-12-18</td>\n",
       "      <td>14.41</td>\n",
       "      <td>14.55</td>\n",
       "      <td>14.72</td>\n",
       "      <td>14.35</td>\n",
       "      <td>585.30K</td>\n",
       "      <td>-0.89%</td>\n",
       "    </tr>\n",
       "    <tr>\n",
       "      <th>5584</th>\n",
       "      <td>2001-12-17</td>\n",
       "      <td>14.54</td>\n",
       "      <td>14.58</td>\n",
       "      <td>14.60</td>\n",
       "      <td>14.16</td>\n",
       "      <td>171.80K</td>\n",
       "      <td>1.32%</td>\n",
       "    </tr>\n",
       "    <tr>\n",
       "      <th>5585</th>\n",
       "      <td>2001-12-14</td>\n",
       "      <td>14.35</td>\n",
       "      <td>14.50</td>\n",
       "      <td>14.50</td>\n",
       "      <td>14.24</td>\n",
       "      <td>156.70K</td>\n",
       "      <td>0.00%</td>\n",
       "    </tr>\n",
       "    <tr>\n",
       "      <th>5586</th>\n",
       "      <td>2001-12-13</td>\n",
       "      <td>14.35</td>\n",
       "      <td>15.04</td>\n",
       "      <td>15.04</td>\n",
       "      <td>14.35</td>\n",
       "      <td>681.30K</td>\n",
       "      <td>-4.90%</td>\n",
       "    </tr>\n",
       "    <tr>\n",
       "      <th>5587</th>\n",
       "      <td>2001-12-11</td>\n",
       "      <td>15.09</td>\n",
       "      <td>14.90</td>\n",
       "      <td>15.10</td>\n",
       "      <td>14.88</td>\n",
       "      <td>348.30K</td>\n",
       "      <td>1.96%</td>\n",
       "    </tr>\n",
       "  </tbody>\n",
       "</table>\n",
       "<p>5588 rows × 7 columns</p>\n",
       "</div>"
      ],
      "text/plain": [
       "           Date   Price    Open     Max     Min    Volume  Change\n",
       "0    2024-05-10  728.90  722.00  728.90  722.00   545.75K   0.98%\n",
       "1    2024-05-08  721.80  718.00  723.80  717.20   744.91K   0.53%\n",
       "2    2024-05-07  718.00  715.10  721.20  714.10  1.27000K   0.41%\n",
       "3    2024-05-06  715.10  718.40  719.70  711.20  2.29000K  -0.46%\n",
       "4    2024-05-03  718.40  719.90  721.90  717.30   689.23K  -0.18%\n",
       "...         ...     ...     ...     ...     ...       ...     ...\n",
       "5583 2001-12-18   14.41   14.55   14.72   14.35   585.30K  -0.89%\n",
       "5584 2001-12-17   14.54   14.58   14.60   14.16   171.80K   1.32%\n",
       "5585 2001-12-14   14.35   14.50   14.50   14.24   156.70K   0.00%\n",
       "5586 2001-12-13   14.35   15.04   15.04   14.35   681.30K  -4.90%\n",
       "5587 2001-12-11   15.09   14.90   15.10   14.88   348.30K   1.96%\n",
       "\n",
       "[5588 rows x 7 columns]"
      ]
     },
     "execution_count": 214,
     "metadata": {},
     "output_type": "execute_result"
    }
   ],
   "source": [
    "tatn"
   ]
  },
  {
   "cell_type": "code",
   "execution_count": 215,
   "metadata": {},
   "outputs": [],
   "source": [
    "p = pd.date_range(start='12-11-2001', end='05-10-2024', freq='D')\n",
    "pp = pd.DataFrame(p, columns=['Date'])\n",
    "\n",
    "# Объединяем исходный df с df_full\n",
    "tatn = pp.merge(tatn, on='Date', how='left')"
   ]
  },
  {
   "cell_type": "code",
   "execution_count": 217,
   "metadata": {},
   "outputs": [],
   "source": [
    "tatn.ffill(inplace=True)"
   ]
  },
  {
   "cell_type": "code",
   "execution_count": 218,
   "metadata": {},
   "outputs": [
    {
     "data": {
      "text/html": [
       "<div>\n",
       "<style scoped>\n",
       "    .dataframe tbody tr th:only-of-type {\n",
       "        vertical-align: middle;\n",
       "    }\n",
       "\n",
       "    .dataframe tbody tr th {\n",
       "        vertical-align: top;\n",
       "    }\n",
       "\n",
       "    .dataframe thead th {\n",
       "        text-align: right;\n",
       "    }\n",
       "</style>\n",
       "<table border=\"1\" class=\"dataframe\">\n",
       "  <thead>\n",
       "    <tr style=\"text-align: right;\">\n",
       "      <th></th>\n",
       "      <th>Date</th>\n",
       "      <th>Price</th>\n",
       "      <th>Open</th>\n",
       "      <th>Max</th>\n",
       "      <th>Min</th>\n",
       "      <th>Volume</th>\n",
       "      <th>Change</th>\n",
       "    </tr>\n",
       "  </thead>\n",
       "  <tbody>\n",
       "    <tr>\n",
       "      <th>0</th>\n",
       "      <td>2001-12-11</td>\n",
       "      <td>15.09</td>\n",
       "      <td>14.90</td>\n",
       "      <td>15.10</td>\n",
       "      <td>14.88</td>\n",
       "      <td>348.30K</td>\n",
       "      <td>1.96%</td>\n",
       "    </tr>\n",
       "    <tr>\n",
       "      <th>1</th>\n",
       "      <td>2001-12-12</td>\n",
       "      <td>15.09</td>\n",
       "      <td>14.90</td>\n",
       "      <td>15.10</td>\n",
       "      <td>14.88</td>\n",
       "      <td>348.30K</td>\n",
       "      <td>1.96%</td>\n",
       "    </tr>\n",
       "    <tr>\n",
       "      <th>2</th>\n",
       "      <td>2001-12-13</td>\n",
       "      <td>14.35</td>\n",
       "      <td>15.04</td>\n",
       "      <td>15.04</td>\n",
       "      <td>14.35</td>\n",
       "      <td>681.30K</td>\n",
       "      <td>-4.90%</td>\n",
       "    </tr>\n",
       "    <tr>\n",
       "      <th>3</th>\n",
       "      <td>2001-12-14</td>\n",
       "      <td>14.35</td>\n",
       "      <td>14.50</td>\n",
       "      <td>14.50</td>\n",
       "      <td>14.24</td>\n",
       "      <td>156.70K</td>\n",
       "      <td>0.00%</td>\n",
       "    </tr>\n",
       "    <tr>\n",
       "      <th>4</th>\n",
       "      <td>2001-12-15</td>\n",
       "      <td>14.35</td>\n",
       "      <td>14.50</td>\n",
       "      <td>14.50</td>\n",
       "      <td>14.24</td>\n",
       "      <td>156.70K</td>\n",
       "      <td>0.00%</td>\n",
       "    </tr>\n",
       "    <tr>\n",
       "      <th>...</th>\n",
       "      <td>...</td>\n",
       "      <td>...</td>\n",
       "      <td>...</td>\n",
       "      <td>...</td>\n",
       "      <td>...</td>\n",
       "      <td>...</td>\n",
       "      <td>...</td>\n",
       "    </tr>\n",
       "    <tr>\n",
       "      <th>8182</th>\n",
       "      <td>2024-05-06</td>\n",
       "      <td>715.10</td>\n",
       "      <td>718.40</td>\n",
       "      <td>719.70</td>\n",
       "      <td>711.20</td>\n",
       "      <td>2.29000K</td>\n",
       "      <td>-0.46%</td>\n",
       "    </tr>\n",
       "    <tr>\n",
       "      <th>8183</th>\n",
       "      <td>2024-05-07</td>\n",
       "      <td>718.00</td>\n",
       "      <td>715.10</td>\n",
       "      <td>721.20</td>\n",
       "      <td>714.10</td>\n",
       "      <td>1.27000K</td>\n",
       "      <td>0.41%</td>\n",
       "    </tr>\n",
       "    <tr>\n",
       "      <th>8184</th>\n",
       "      <td>2024-05-08</td>\n",
       "      <td>721.80</td>\n",
       "      <td>718.00</td>\n",
       "      <td>723.80</td>\n",
       "      <td>717.20</td>\n",
       "      <td>744.91K</td>\n",
       "      <td>0.53%</td>\n",
       "    </tr>\n",
       "    <tr>\n",
       "      <th>8185</th>\n",
       "      <td>2024-05-09</td>\n",
       "      <td>721.80</td>\n",
       "      <td>718.00</td>\n",
       "      <td>723.80</td>\n",
       "      <td>717.20</td>\n",
       "      <td>744.91K</td>\n",
       "      <td>0.53%</td>\n",
       "    </tr>\n",
       "    <tr>\n",
       "      <th>8186</th>\n",
       "      <td>2024-05-10</td>\n",
       "      <td>728.90</td>\n",
       "      <td>722.00</td>\n",
       "      <td>728.90</td>\n",
       "      <td>722.00</td>\n",
       "      <td>545.75K</td>\n",
       "      <td>0.98%</td>\n",
       "    </tr>\n",
       "  </tbody>\n",
       "</table>\n",
       "<p>8187 rows × 7 columns</p>\n",
       "</div>"
      ],
      "text/plain": [
       "           Date   Price    Open     Max     Min    Volume  Change\n",
       "0    2001-12-11   15.09   14.90   15.10   14.88   348.30K   1.96%\n",
       "1    2001-12-12   15.09   14.90   15.10   14.88   348.30K   1.96%\n",
       "2    2001-12-13   14.35   15.04   15.04   14.35   681.30K  -4.90%\n",
       "3    2001-12-14   14.35   14.50   14.50   14.24   156.70K   0.00%\n",
       "4    2001-12-15   14.35   14.50   14.50   14.24   156.70K   0.00%\n",
       "...         ...     ...     ...     ...     ...       ...     ...\n",
       "8182 2024-05-06  715.10  718.40  719.70  711.20  2.29000K  -0.46%\n",
       "8183 2024-05-07  718.00  715.10  721.20  714.10  1.27000K   0.41%\n",
       "8184 2024-05-08  721.80  718.00  723.80  717.20   744.91K   0.53%\n",
       "8185 2024-05-09  721.80  718.00  723.80  717.20   744.91K   0.53%\n",
       "8186 2024-05-10  728.90  722.00  728.90  722.00   545.75K   0.98%\n",
       "\n",
       "[8187 rows x 7 columns]"
      ]
     },
     "execution_count": 218,
     "metadata": {},
     "output_type": "execute_result"
    }
   ],
   "source": [
    "tatn"
   ]
  },
  {
   "cell_type": "markdown",
   "metadata": {},
   "source": [
    "# MB RF"
   ]
  },
  {
   "cell_type": "code",
   "execution_count": 484,
   "metadata": {},
   "outputs": [],
   "source": [
    "mb = pd.read_csv('data/ms_m21.csv',sep =';',parse_dates=['Date'],dayfirst=True)"
   ]
  },
  {
   "cell_type": "code",
   "execution_count": 485,
   "metadata": {},
   "outputs": [
    {
     "data": {
      "text/html": [
       "<div>\n",
       "<style scoped>\n",
       "    .dataframe tbody tr th:only-of-type {\n",
       "        vertical-align: middle;\n",
       "    }\n",
       "\n",
       "    .dataframe tbody tr th {\n",
       "        vertical-align: top;\n",
       "    }\n",
       "\n",
       "    .dataframe thead th {\n",
       "        text-align: right;\n",
       "    }\n",
       "</style>\n",
       "<table border=\"1\" class=\"dataframe\">\n",
       "  <thead>\n",
       "    <tr style=\"text-align: right;\">\n",
       "      <th></th>\n",
       "      <th>Date</th>\n",
       "      <th>M2</th>\n",
       "    </tr>\n",
       "  </thead>\n",
       "  <tbody>\n",
       "    <tr>\n",
       "      <th>0</th>\n",
       "      <td>1993-01-01</td>\n",
       "      <td>6.5</td>\n",
       "    </tr>\n",
       "    <tr>\n",
       "      <th>1</th>\n",
       "      <td>1993-02-01</td>\n",
       "      <td>7.7</td>\n",
       "    </tr>\n",
       "    <tr>\n",
       "      <th>2</th>\n",
       "      <td>1993-03-01</td>\n",
       "      <td>8.4</td>\n",
       "    </tr>\n",
       "    <tr>\n",
       "      <th>3</th>\n",
       "      <td>1993-04-01</td>\n",
       "      <td>9.6</td>\n",
       "    </tr>\n",
       "    <tr>\n",
       "      <th>4</th>\n",
       "      <td>1993-05-01</td>\n",
       "      <td>11.8</td>\n",
       "    </tr>\n",
       "    <tr>\n",
       "      <th>...</th>\n",
       "      <td>...</td>\n",
       "      <td>...</td>\n",
       "    </tr>\n",
       "    <tr>\n",
       "      <th>371</th>\n",
       "      <td>2023-12-01</td>\n",
       "      <td>92546.9</td>\n",
       "    </tr>\n",
       "    <tr>\n",
       "      <th>372</th>\n",
       "      <td>2024-01-01</td>\n",
       "      <td>98385.4</td>\n",
       "    </tr>\n",
       "    <tr>\n",
       "      <th>373</th>\n",
       "      <td>2024-02-01</td>\n",
       "      <td>97816.7</td>\n",
       "    </tr>\n",
       "    <tr>\n",
       "      <th>374</th>\n",
       "      <td>2024-03-01</td>\n",
       "      <td>99422.0</td>\n",
       "    </tr>\n",
       "    <tr>\n",
       "      <th>375</th>\n",
       "      <td>2024-04-01</td>\n",
       "      <td>99595.8</td>\n",
       "    </tr>\n",
       "  </tbody>\n",
       "</table>\n",
       "<p>376 rows × 2 columns</p>\n",
       "</div>"
      ],
      "text/plain": [
       "          Date       M2\n",
       "0   1993-01-01      6.5\n",
       "1   1993-02-01      7.7\n",
       "2   1993-03-01      8.4\n",
       "3   1993-04-01      9.6\n",
       "4   1993-05-01     11.8\n",
       "..         ...      ...\n",
       "371 2023-12-01  92546.9\n",
       "372 2024-01-01  98385.4\n",
       "373 2024-02-01  97816.7\n",
       "374 2024-03-01  99422.0\n",
       "375 2024-04-01  99595.8\n",
       "\n",
       "[376 rows x 2 columns]"
      ]
     },
     "execution_count": 485,
     "metadata": {},
     "output_type": "execute_result"
    }
   ],
   "source": [
    "mb"
   ]
  },
  {
   "cell_type": "code",
   "execution_count": 486,
   "metadata": {},
   "outputs": [],
   "source": [
    "p = pd.date_range(start='01-01-1993', end='05-10-2024', freq='D')\n",
    "pp = pd.DataFrame(p, columns=['Date'])\n",
    "\n",
    "# Объединяем исходный df с df_full\n",
    "mb = pp.merge(mb, on='Date', how='left')"
   ]
  },
  {
   "cell_type": "code",
   "execution_count": 489,
   "metadata": {},
   "outputs": [],
   "source": [
    "mb.ffill(inplace=True)"
   ]
  },
  {
   "cell_type": "markdown",
   "metadata": {},
   "source": [
    "# COMBINING IT ALL"
   ]
  },
  {
   "cell_type": "code",
   "execution_count": 812,
   "metadata": {},
   "outputs": [],
   "source": [
    "df = tatn[['Date','Price']]"
   ]
  },
  {
   "cell_type": "code",
   "execution_count": 813,
   "metadata": {},
   "outputs": [],
   "source": [
    "vvp.rename(columns={'year':'Date'},inplace=True)"
   ]
  },
  {
   "cell_type": "code",
   "execution_count": 814,
   "metadata": {},
   "outputs": [],
   "source": [
    "df = df.merge(vvp, on='Date', how='left')"
   ]
  },
  {
   "cell_type": "code",
   "execution_count": 815,
   "metadata": {},
   "outputs": [],
   "source": [
    "usd.rename(columns={'Price':'USD/RUB'},inplace=True)"
   ]
  },
  {
   "cell_type": "code",
   "execution_count": 816,
   "metadata": {},
   "outputs": [],
   "source": [
    "df = df.merge(usd[['Date','USD/RUB']], on='Date', how='left')"
   ]
  },
  {
   "cell_type": "code",
   "execution_count": 817,
   "metadata": {},
   "outputs": [],
   "source": [
    "kluch.rename(columns={'date':'Date'},inplace=True)"
   ]
  },
  {
   "cell_type": "code",
   "execution_count": 818,
   "metadata": {},
   "outputs": [],
   "source": [
    "df = df.merge(kluch, on='Date', how='left')"
   ]
  },
  {
   "cell_type": "code",
   "execution_count": 819,
   "metadata": {},
   "outputs": [],
   "source": [
    "inflation.rename(columns={'Year':'Date',' Total':'Inflation/year'},inplace=True)"
   ]
  },
  {
   "cell_type": "code",
   "execution_count": 820,
   "metadata": {},
   "outputs": [],
   "source": [
    "df = df.merge(inflation, on='Date', how='left')"
   ]
  },
  {
   "cell_type": "code",
   "execution_count": 821,
   "metadata": {},
   "outputs": [],
   "source": [
    "brent.rename(columns={'Price':'Brent'},inplace=True)"
   ]
  },
  {
   "cell_type": "code",
   "execution_count": 822,
   "metadata": {},
   "outputs": [],
   "source": [
    "df = df.merge(brent[['Date','Brent']], on='Date', how='left')"
   ]
  },
  {
   "cell_type": "code",
   "execution_count": 823,
   "metadata": {},
   "outputs": [],
   "source": [
    "df = df.merge(mb, on='Date', how='left')"
   ]
  },
  {
   "cell_type": "code",
   "execution_count": 785,
   "metadata": {},
   "outputs": [
    {
     "data": {
      "text/html": [
       "<div>\n",
       "<style scoped>\n",
       "    .dataframe tbody tr th:only-of-type {\n",
       "        vertical-align: middle;\n",
       "    }\n",
       "\n",
       "    .dataframe tbody tr th {\n",
       "        vertical-align: top;\n",
       "    }\n",
       "\n",
       "    .dataframe thead th {\n",
       "        text-align: right;\n",
       "    }\n",
       "</style>\n",
       "<table border=\"1\" class=\"dataframe\">\n",
       "  <thead>\n",
       "    <tr style=\"text-align: right;\">\n",
       "      <th></th>\n",
       "      <th>Date</th>\n",
       "      <th>Price</th>\n",
       "      <th>vvp</th>\n",
       "      <th>USD/RUB</th>\n",
       "      <th>stavka</th>\n",
       "      <th>Inflation/year</th>\n",
       "      <th>Brent</th>\n",
       "      <th>M2</th>\n",
       "    </tr>\n",
       "  </thead>\n",
       "  <tbody>\n",
       "    <tr>\n",
       "      <th>0</th>\n",
       "      <td>2001-12-11</td>\n",
       "      <td>15.09</td>\n",
       "      <td>328.5</td>\n",
       "      <td>30.0750</td>\n",
       "      <td>25.0</td>\n",
       "      <td>18.58</td>\n",
       "      <td>17.91</td>\n",
       "      <td>1448.2</td>\n",
       "    </tr>\n",
       "    <tr>\n",
       "      <th>1</th>\n",
       "      <td>2001-12-12</td>\n",
       "      <td>15.09</td>\n",
       "      <td>328.5</td>\n",
       "      <td>30.1080</td>\n",
       "      <td>25.0</td>\n",
       "      <td>18.58</td>\n",
       "      <td>18.20</td>\n",
       "      <td>1448.2</td>\n",
       "    </tr>\n",
       "    <tr>\n",
       "      <th>2</th>\n",
       "      <td>2001-12-13</td>\n",
       "      <td>14.35</td>\n",
       "      <td>328.5</td>\n",
       "      <td>30.3350</td>\n",
       "      <td>25.0</td>\n",
       "      <td>18.58</td>\n",
       "      <td>17.80</td>\n",
       "      <td>1448.2</td>\n",
       "    </tr>\n",
       "    <tr>\n",
       "      <th>3</th>\n",
       "      <td>2001-12-14</td>\n",
       "      <td>14.35</td>\n",
       "      <td>328.5</td>\n",
       "      <td>30.3350</td>\n",
       "      <td>25.0</td>\n",
       "      <td>18.58</td>\n",
       "      <td>18.38</td>\n",
       "      <td>1448.2</td>\n",
       "    </tr>\n",
       "    <tr>\n",
       "      <th>4</th>\n",
       "      <td>2001-12-15</td>\n",
       "      <td>14.35</td>\n",
       "      <td>328.5</td>\n",
       "      <td>30.3350</td>\n",
       "      <td>25.0</td>\n",
       "      <td>18.58</td>\n",
       "      <td>18.38</td>\n",
       "      <td>1448.2</td>\n",
       "    </tr>\n",
       "    <tr>\n",
       "      <th>...</th>\n",
       "      <td>...</td>\n",
       "      <td>...</td>\n",
       "      <td>...</td>\n",
       "      <td>...</td>\n",
       "      <td>...</td>\n",
       "      <td>...</td>\n",
       "      <td>...</td>\n",
       "      <td>...</td>\n",
       "    </tr>\n",
       "    <tr>\n",
       "      <th>8182</th>\n",
       "      <td>2024-05-06</td>\n",
       "      <td>715.10</td>\n",
       "      <td>1997.0</td>\n",
       "      <td>91.3475</td>\n",
       "      <td>16.0</td>\n",
       "      <td>7.42</td>\n",
       "      <td>83.60</td>\n",
       "      <td>99595.8</td>\n",
       "    </tr>\n",
       "    <tr>\n",
       "      <th>8183</th>\n",
       "      <td>2024-05-07</td>\n",
       "      <td>718.00</td>\n",
       "      <td>1997.0</td>\n",
       "      <td>91.1075</td>\n",
       "      <td>16.0</td>\n",
       "      <td>7.42</td>\n",
       "      <td>82.99</td>\n",
       "      <td>99595.8</td>\n",
       "    </tr>\n",
       "    <tr>\n",
       "      <th>8184</th>\n",
       "      <td>2024-05-08</td>\n",
       "      <td>721.80</td>\n",
       "      <td>1997.0</td>\n",
       "      <td>91.9500</td>\n",
       "      <td>16.0</td>\n",
       "      <td>7.42</td>\n",
       "      <td>83.58</td>\n",
       "      <td>99595.8</td>\n",
       "    </tr>\n",
       "    <tr>\n",
       "      <th>8185</th>\n",
       "      <td>2024-05-09</td>\n",
       "      <td>721.80</td>\n",
       "      <td>1997.0</td>\n",
       "      <td>91.9500</td>\n",
       "      <td>16.0</td>\n",
       "      <td>7.42</td>\n",
       "      <td>83.88</td>\n",
       "      <td>99595.8</td>\n",
       "    </tr>\n",
       "    <tr>\n",
       "      <th>8186</th>\n",
       "      <td>2024-05-10</td>\n",
       "      <td>728.90</td>\n",
       "      <td>1997.0</td>\n",
       "      <td>92.2550</td>\n",
       "      <td>16.0</td>\n",
       "      <td>7.42</td>\n",
       "      <td>82.79</td>\n",
       "      <td>99595.8</td>\n",
       "    </tr>\n",
       "  </tbody>\n",
       "</table>\n",
       "<p>8187 rows × 8 columns</p>\n",
       "</div>"
      ],
      "text/plain": [
       "           Date   Price     vvp  USD/RUB  stavka  Inflation/year  Brent  \\\n",
       "0    2001-12-11   15.09   328.5  30.0750    25.0           18.58  17.91   \n",
       "1    2001-12-12   15.09   328.5  30.1080    25.0           18.58  18.20   \n",
       "2    2001-12-13   14.35   328.5  30.3350    25.0           18.58  17.80   \n",
       "3    2001-12-14   14.35   328.5  30.3350    25.0           18.58  18.38   \n",
       "4    2001-12-15   14.35   328.5  30.3350    25.0           18.58  18.38   \n",
       "...         ...     ...     ...      ...     ...             ...    ...   \n",
       "8182 2024-05-06  715.10  1997.0  91.3475    16.0            7.42  83.60   \n",
       "8183 2024-05-07  718.00  1997.0  91.1075    16.0            7.42  82.99   \n",
       "8184 2024-05-08  721.80  1997.0  91.9500    16.0            7.42  83.58   \n",
       "8185 2024-05-09  721.80  1997.0  91.9500    16.0            7.42  83.88   \n",
       "8186 2024-05-10  728.90  1997.0  92.2550    16.0            7.42  82.79   \n",
       "\n",
       "           M2  \n",
       "0      1448.2  \n",
       "1      1448.2  \n",
       "2      1448.2  \n",
       "3      1448.2  \n",
       "4      1448.2  \n",
       "...       ...  \n",
       "8182  99595.8  \n",
       "8183  99595.8  \n",
       "8184  99595.8  \n",
       "8185  99595.8  \n",
       "8186  99595.8  \n",
       "\n",
       "[8187 rows x 8 columns]"
      ]
     },
     "execution_count": 785,
     "metadata": {},
     "output_type": "execute_result"
    }
   ],
   "source": [
    "df"
   ]
  },
  {
   "cell_type": "code",
   "execution_count": 545,
   "metadata": {},
   "outputs": [
    {
     "data": {
      "text/plain": [
       "Index(['Date', 'M2'], dtype='object')"
      ]
     },
     "execution_count": 545,
     "metadata": {},
     "output_type": "execute_result"
    }
   ],
   "source": [
    "mb.columns"
   ]
  },
  {
   "cell_type": "code",
   "execution_count": 824,
   "metadata": {},
   "outputs": [],
   "source": [
    "df = df.reset_index()[['Price','index','USD/RUB','Inflation/year','Brent','vvp','M2']]"
   ]
  },
  {
   "cell_type": "code",
   "execution_count": 825,
   "metadata": {},
   "outputs": [],
   "source": [
    "df['Brent'] = df['Brent'] * df['USD/RUB']\n",
    "df['vvp'] = df['vvp'] * df['USD/RUB'] * 1000000\n",
    "df['M2'] = df['M2'] * 1000000"
   ]
  },
  {
   "cell_type": "code",
   "execution_count": 805,
   "metadata": {},
   "outputs": [
    {
     "data": {
      "text/html": [
       "<div>\n",
       "<style scoped>\n",
       "    .dataframe tbody tr th:only-of-type {\n",
       "        vertical-align: middle;\n",
       "    }\n",
       "\n",
       "    .dataframe tbody tr th {\n",
       "        vertical-align: top;\n",
       "    }\n",
       "\n",
       "    .dataframe thead th {\n",
       "        text-align: right;\n",
       "    }\n",
       "</style>\n",
       "<table border=\"1\" class=\"dataframe\">\n",
       "  <thead>\n",
       "    <tr style=\"text-align: right;\">\n",
       "      <th></th>\n",
       "      <th>Price</th>\n",
       "      <th>index</th>\n",
       "      <th>USD/RUB</th>\n",
       "      <th>Inflation/year</th>\n",
       "      <th>Brent</th>\n",
       "      <th>vvp</th>\n",
       "      <th>M2</th>\n",
       "    </tr>\n",
       "  </thead>\n",
       "  <tbody>\n",
       "    <tr>\n",
       "      <th>count</th>\n",
       "      <td>8187.000000</td>\n",
       "      <td>8187.00000</td>\n",
       "      <td>8187.000000</td>\n",
       "      <td>8187.000000</td>\n",
       "      <td>8187.000000</td>\n",
       "      <td>8187.000000</td>\n",
       "      <td>8187.000000</td>\n",
       "    </tr>\n",
       "    <tr>\n",
       "      <th>mean</th>\n",
       "      <td>280.658714</td>\n",
       "      <td>4093.00000</td>\n",
       "      <td>46.352322</td>\n",
       "      <td>8.762177</td>\n",
       "      <td>3202.831578</td>\n",
       "      <td>73998.931163</td>\n",
       "      <td>30236.165677</td>\n",
       "    </tr>\n",
       "    <tr>\n",
       "      <th>std</th>\n",
       "      <td>221.995222</td>\n",
       "      <td>2363.52766</td>\n",
       "      <td>20.817270</td>\n",
       "      <td>3.477143</td>\n",
       "      <td>1828.015382</td>\n",
       "      <td>47136.660096</td>\n",
       "      <td>24458.760365</td>\n",
       "    </tr>\n",
       "    <tr>\n",
       "      <th>min</th>\n",
       "      <td>14.350000</td>\n",
       "      <td>0.00000</td>\n",
       "      <td>23.156000</td>\n",
       "      <td>2.520000</td>\n",
       "      <td>538.643250</td>\n",
       "      <td>9879.637500</td>\n",
       "      <td>1448.200000</td>\n",
       "    </tr>\n",
       "    <tr>\n",
       "      <th>25%</th>\n",
       "      <td>122.020000</td>\n",
       "      <td>2046.50000</td>\n",
       "      <td>29.217500</td>\n",
       "      <td>6.100000</td>\n",
       "      <td>1826.238095</td>\n",
       "      <td>35905.131200</td>\n",
       "      <td>10827.400000</td>\n",
       "    </tr>\n",
       "    <tr>\n",
       "      <th>50%</th>\n",
       "      <td>201.010000</td>\n",
       "      <td>4093.00000</td>\n",
       "      <td>32.404300</td>\n",
       "      <td>8.780000</td>\n",
       "      <td>3154.512256</td>\n",
       "      <td>70204.702500</td>\n",
       "      <td>26768.400000</td>\n",
       "    </tr>\n",
       "    <tr>\n",
       "      <th>75%</th>\n",
       "      <td>417.100000</td>\n",
       "      <td>6139.50000</td>\n",
       "      <td>64.476850</td>\n",
       "      <td>11.870000</td>\n",
       "      <td>3818.756840</td>\n",
       "      <td>104735.898300</td>\n",
       "      <td>44254.700000</td>\n",
       "    </tr>\n",
       "    <tr>\n",
       "      <th>max</th>\n",
       "      <td>837.000000</td>\n",
       "      <td>8186.00000</td>\n",
       "      <td>143.000000</td>\n",
       "      <td>18.580000</td>\n",
       "      <td>17619.030000</td>\n",
       "      <td>324938.900000</td>\n",
       "      <td>99595.800000</td>\n",
       "    </tr>\n",
       "  </tbody>\n",
       "</table>\n",
       "</div>"
      ],
      "text/plain": [
       "             Price       index      USD/RUB  Inflation/year         Brent  \\\n",
       "count  8187.000000  8187.00000  8187.000000     8187.000000   8187.000000   \n",
       "mean    280.658714  4093.00000    46.352322        8.762177   3202.831578   \n",
       "std     221.995222  2363.52766    20.817270        3.477143   1828.015382   \n",
       "min      14.350000     0.00000    23.156000        2.520000    538.643250   \n",
       "25%     122.020000  2046.50000    29.217500        6.100000   1826.238095   \n",
       "50%     201.010000  4093.00000    32.404300        8.780000   3154.512256   \n",
       "75%     417.100000  6139.50000    64.476850       11.870000   3818.756840   \n",
       "max     837.000000  8186.00000   143.000000       18.580000  17619.030000   \n",
       "\n",
       "                 vvp            M2  \n",
       "count    8187.000000   8187.000000  \n",
       "mean    73998.931163  30236.165677  \n",
       "std     47136.660096  24458.760365  \n",
       "min      9879.637500   1448.200000  \n",
       "25%     35905.131200  10827.400000  \n",
       "50%     70204.702500  26768.400000  \n",
       "75%    104735.898300  44254.700000  \n",
       "max    324938.900000  99595.800000  "
      ]
     },
     "execution_count": 805,
     "metadata": {},
     "output_type": "execute_result"
    }
   ],
   "source": [
    "df.describe()"
   ]
  },
  {
   "cell_type": "code",
   "execution_count": 549,
   "metadata": {},
   "outputs": [
    {
     "data": {
      "text/html": [
       "<div>\n",
       "<style scoped>\n",
       "    .dataframe tbody tr th:only-of-type {\n",
       "        vertical-align: middle;\n",
       "    }\n",
       "\n",
       "    .dataframe tbody tr th {\n",
       "        vertical-align: top;\n",
       "    }\n",
       "\n",
       "    .dataframe thead th {\n",
       "        text-align: right;\n",
       "    }\n",
       "</style>\n",
       "<table border=\"1\" class=\"dataframe\">\n",
       "  <thead>\n",
       "    <tr style=\"text-align: right;\">\n",
       "      <th></th>\n",
       "      <th>Price</th>\n",
       "      <th>index</th>\n",
       "      <th>vvp</th>\n",
       "      <th>USD/RUB</th>\n",
       "      <th>Inflation/year</th>\n",
       "      <th>Brent</th>\n",
       "      <th>M2</th>\n",
       "    </tr>\n",
       "  </thead>\n",
       "  <tbody>\n",
       "    <tr>\n",
       "      <th>0</th>\n",
       "      <td>15.09</td>\n",
       "      <td>0</td>\n",
       "      <td>9.879637e+12</td>\n",
       "      <td>30.075</td>\n",
       "      <td>18.58</td>\n",
       "      <td>538.64325</td>\n",
       "      <td>1.448200e+12</td>\n",
       "    </tr>\n",
       "    <tr>\n",
       "      <th>1</th>\n",
       "      <td>15.09</td>\n",
       "      <td>1</td>\n",
       "      <td>9.890478e+12</td>\n",
       "      <td>30.108</td>\n",
       "      <td>18.58</td>\n",
       "      <td>547.96560</td>\n",
       "      <td>1.448200e+12</td>\n",
       "    </tr>\n",
       "    <tr>\n",
       "      <th>2</th>\n",
       "      <td>14.35</td>\n",
       "      <td>2</td>\n",
       "      <td>9.965048e+12</td>\n",
       "      <td>30.335</td>\n",
       "      <td>18.58</td>\n",
       "      <td>539.96300</td>\n",
       "      <td>1.448200e+12</td>\n",
       "    </tr>\n",
       "    <tr>\n",
       "      <th>3</th>\n",
       "      <td>14.35</td>\n",
       "      <td>3</td>\n",
       "      <td>9.965048e+12</td>\n",
       "      <td>30.335</td>\n",
       "      <td>18.58</td>\n",
       "      <td>557.55730</td>\n",
       "      <td>1.448200e+12</td>\n",
       "    </tr>\n",
       "    <tr>\n",
       "      <th>4</th>\n",
       "      <td>14.35</td>\n",
       "      <td>4</td>\n",
       "      <td>9.965048e+12</td>\n",
       "      <td>30.335</td>\n",
       "      <td>18.58</td>\n",
       "      <td>557.55730</td>\n",
       "      <td>1.448200e+12</td>\n",
       "    </tr>\n",
       "  </tbody>\n",
       "</table>\n",
       "</div>"
      ],
      "text/plain": [
       "   Price  index           vvp  USD/RUB  Inflation/year      Brent  \\\n",
       "0  15.09      0  9.879637e+12   30.075           18.58  538.64325   \n",
       "1  15.09      1  9.890478e+12   30.108           18.58  547.96560   \n",
       "2  14.35      2  9.965048e+12   30.335           18.58  539.96300   \n",
       "3  14.35      3  9.965048e+12   30.335           18.58  557.55730   \n",
       "4  14.35      4  9.965048e+12   30.335           18.58  557.55730   \n",
       "\n",
       "             M2  \n",
       "0  1.448200e+12  \n",
       "1  1.448200e+12  \n",
       "2  1.448200e+12  \n",
       "3  1.448200e+12  \n",
       "4  1.448200e+12  "
      ]
     },
     "execution_count": 549,
     "metadata": {},
     "output_type": "execute_result"
    }
   ],
   "source": [
    "df.head()"
   ]
  },
  {
   "cell_type": "markdown",
   "metadata": {},
   "source": [
    "# ANALYSIS"
   ]
  },
  {
   "cell_type": "code",
   "execution_count": 575,
   "metadata": {},
   "outputs": [
    {
     "data": {
      "text/plain": [
       "<Axes: >"
      ]
     },
     "execution_count": 575,
     "metadata": {},
     "output_type": "execute_result"
    },
    {
     "data": {
      "image/png": "[encoded data removed]",
      "text/plain": [
       "<Figure size 1440x840 with 2 Axes>"
      ]
     },
     "metadata": {},
     "output_type": "display_data"
    }
   ],
   "source": [
    "plt.figure(figsize=(12,7))\n",
    "sns.heatmap(data=df.corr(),annot = True, fmt='.2f')"
   ]
  },
  {
   "cell_type": "code",
   "execution_count": 298,
   "metadata": {},
   "outputs": [],
   "source": [
    "import warnings\n",
    "warnings.simplefilter(\"ignore\")\n",
    "\n",
    "from scipy.stats import kstest, spearmanr, mannwhitneyu, ttest_ind, levene, kruskal, pearsonr\n",
    "\n",
    "from sklearn.model_selection import train_test_split, GridSearchCV, KFold\n",
    "from sklearn.linear_model import LinearRegression, Lasso, Ridge, ElasticNet\n",
    "from sklearn.metrics import mean_absolute_percentage_error, mean_squared_error, mean_absolute_error\n",
    "from sklearn.metrics import r2_score"
   ]
  },
  {
   "cell_type": "code",
   "execution_count": 581,
   "metadata": {},
   "outputs": [
    {
     "name": "stdout",
     "output_type": "stream",
     "text": [
      "Price:PearsonRResult(statistic=0.9999999999999997, pvalue=0.0)\n",
      "index:PearsonRResult(statistic=0.8687954930312227, pvalue=0.0)\n",
      "USD/RUB:PearsonRResult(statistic=0.8337987136557656, pvalue=0.0)\n",
      "Inflation/year:PearsonRResult(statistic=-0.6434121991972096, pvalue=0.0)\n",
      "Brent:PearsonRResult(statistic=0.7094451193183776, pvalue=0.0)\n",
      "vvp:PearsonRResult(statistic=0.8115348218422024, pvalue=0.0)\n",
      "M2:PearsonRResult(statistic=0.8143858245495624, pvalue=0.0)\n"
     ]
    }
   ],
   "source": [
    "for i in df.columns:\n",
    "    print(f\"{i}:{pearsonr(df['Price'], df[i])}\")"
   ]
  },
  {
   "cell_type": "code",
   "execution_count": 556,
   "metadata": {},
   "outputs": [
    {
     "data": {
      "image/png": "[encoded data removed]",
      "text/plain": [
       "<Figure size 1080x360 with 6 Axes>"
      ]
     },
     "metadata": {},
     "output_type": "display_data"
    }
   ],
   "source": [
    "df.hist(sharex=False, sharey=False, xlabelsize=1, ylabelsize=1)\n",
    "plt.show()"
   ]
  },
  {
   "cell_type": "code",
   "execution_count": 307,
   "metadata": {},
   "outputs": [],
   "source": [
    "from sklearn.preprocessing import StandardScaler"
   ]
  },
  {
   "cell_type": "code",
   "execution_count": 308,
   "metadata": {},
   "outputs": [],
   "source": [
    "from sklearn.linear_model import LinearRegression, Lasso, Ridge, ElasticNet\n",
    "from sklearn.metrics import mean_absolute_percentage_error, mean_squared_error, mean_absolute_error \n",
    "import statsmodels.api as sm"
   ]
  },
  {
   "cell_type": "code",
   "execution_count": 310,
   "metadata": {},
   "outputs": [
    {
     "data": {
      "text/plain": [
       "Index(['Price', 'index', 'vvp', 'USD/RUB', 'Inflation/year', 'Brent'], dtype='object')"
      ]
     },
     "execution_count": 310,
     "metadata": {},
     "output_type": "execute_result"
    }
   ],
   "source": [
    "df.columns"
   ]
  },
  {
   "cell_type": "code",
   "execution_count": 578,
   "metadata": {},
   "outputs": [
    {
     "name": "stdout",
     "output_type": "stream",
     "text": [
      "[ 158.56926823    2.83291479 -198.74532567  141.38489738  -51.39979852\n",
      "   78.40144517] \n",
      "\n",
      "280.65871381458413\n"
     ]
    }
   ],
   "source": [
    "df_1 = df.copy()\n",
    "\n",
    "# Определяем зависимые и не зависимые переменные\n",
    "X = df_1[['index', 'M2','vvp', 'USD/RUB', 'Inflation/year', 'Brent']]\n",
    "y = df_1['Price']\n",
    "\n",
    "# Стандартизируем данные\n",
    "scaler = StandardScaler()\n",
    "X_scaled = scaler.fit_transform(X)\n",
    "\n",
    "# Создаем модель\n",
    "model_1 = LinearRegression()\n",
    "model_1.fit(X_scaled, y)\n",
    "\n",
    "# Получаем коэфф. / веса параметров\n",
    "coefficients = model_1.coef_\n",
    "print(coefficients,'\\n')\n",
    "\n",
    "# Свободный коэф.\n",
    "intercept = model_1.intercept_\n",
    "print(intercept)"
   ]
  },
  {
   "cell_type": "code",
   "execution_count": 579,
   "metadata": {},
   "outputs": [
    {
     "name": "stdout",
     "output_type": "stream",
     "text": [
      "                            OLS Regression Results                            \n",
      "==============================================================================\n",
      "Dep. Variable:                  Price   R-squared:                       0.835\n",
      "Model:                            OLS   Adj. R-squared:                  0.835\n",
      "Method:                 Least Squares   F-statistic:                     6901.\n",
      "Date:                Tue, 14 May 2024   Prob (F-statistic):               0.00\n",
      "Time:                        17:17:53   Log-Likelihood:                -48471.\n",
      "No. Observations:                8187   AIC:                         9.696e+04\n",
      "Df Residuals:                    8180   BIC:                         9.701e+04\n",
      "Df Model:                           6                                         \n",
      "Covariance Type:            nonrobust                                         \n",
      "==============================================================================\n",
      "                 coef    std err          t      P>|t|      [0.025      0.975]\n",
      "------------------------------------------------------------------------------\n",
      "const        280.6587      0.997    281.539      0.000     278.705     282.613\n",
      "x1           158.5693      4.627     34.271      0.000     149.499     167.639\n",
      "x2             2.8329      4.616      0.614      0.539      -6.215      11.881\n",
      "x3          -198.7453      7.745    -25.660      0.000    -213.928    -183.562\n",
      "x4           141.3849      2.988     47.319      0.000     135.528     147.242\n",
      "x5           -51.3998      1.390    -36.974      0.000     -54.125     -48.675\n",
      "x6            78.4014      3.804     20.612      0.000      70.945      85.857\n",
      "==============================================================================\n",
      "Omnibus:                      578.803   Durbin-Watson:                   0.008\n",
      "Prob(Omnibus):                  0.000   Jarque-Bera (JB):              812.014\n",
      "Skew:                           0.604   Prob(JB):                    4.71e-177\n",
      "Kurtosis:                       3.959   Cond. No.                         19.7\n",
      "==============================================================================\n",
      "\n",
      "Notes:\n",
      "[1] Standard Errors assume that the covariance matrix of the errors is correctly specified.\n"
     ]
    }
   ],
   "source": [
    "X = sm.add_constant(np.array(X_scaled))\n",
    "est = sm.OLS(y, X)\n",
    "result = est.fit()\n",
    "print(result.summary())"
   ]
  },
  {
   "cell_type": "code",
   "execution_count": 582,
   "metadata": {},
   "outputs": [
    {
     "name": "stdout",
     "output_type": "stream",
     "text": [
      "90.1604724630424\n",
      "66.24606015844836\n",
      "0.3789666521990633\n"
     ]
    }
   ],
   "source": [
    "predictions = result.predict(X)\n",
    "rmse = np.sqrt(mean_squared_error(y, predictions))\n",
    "print(rmse)\n",
    "print(mean_absolute_error(y, predictions))\n",
    "print(mean_absolute_percentage_error(y, predictions))"
   ]
  },
  {
   "cell_type": "markdown",
   "metadata": {},
   "source": [
    "# При разделении на 2 выборки"
   ]
  },
  {
   "cell_type": "code",
   "execution_count": 589,
   "metadata": {},
   "outputs": [],
   "source": [
    "from sklearn.model_selection import train_test_split\n",
    "from sklearn.model_selection import TimeSeriesSplit\n",
    "\n",
    "tscv = TimeSeriesSplit(n_splits=5)\n",
    "\n",
    "# Итерация по разбиениям и обучение модели\n",
    "for train_index, test_index in tscv.split(X):\n",
    "    X_train, X_test = X[train_index], X[test_index]\n",
    "    y_train, y_test = y[train_index], y[test_index]"
   ]
  },
  {
   "cell_type": "code",
   "execution_count": 591,
   "metadata": {},
   "outputs": [],
   "source": [
    "scaler = StandardScaler()\n",
    "X_train_scaled = scaler.fit_transform(X_train)\n",
    "X_test_scaled = scaler.fit_transform(X_test)"
   ]
  },
  {
   "cell_type": "code",
   "execution_count": 592,
   "metadata": {},
   "outputs": [
    {
     "name": "stdout",
     "output_type": "stream",
     "text": [
      "[   0.         -304.45120407  511.42362761 -105.39697165  120.74445731\n",
      "  -39.55090712  158.18214113] \n",
      "\n",
      "381.86234175416325\n"
     ]
    }
   ],
   "source": [
    "model_2 = LinearRegression()\n",
    "model_2.fit(X_train, y_train)\n",
    "\n",
    "# Получаем коэфф. / веса параметров\n",
    "coefficients = model_2.coef_\n",
    "print(coefficients,'\\n')\n",
    "\n",
    "# Свободный коэф.\n",
    "intercept = model_2.intercept_\n",
    "print(intercept)"
   ]
  },
  {
   "cell_type": "code",
   "execution_count": 593,
   "metadata": {},
   "outputs": [
    {
     "name": "stdout",
     "output_type": "stream",
     "text": [
      "Mean Absolute Error (MAE): 265.55905232957303\n",
      "Mean Squared Error (MSE): 90859.45438182546\n",
      "Mean Absolute Percentage Error (MAPE): 55.295746221183265\n"
     ]
    }
   ],
   "source": [
    "est = sm.OLS(y_train, sm.add_constant(X_train_scaled))\n",
    "result = est.fit()\n",
    "\n",
    "# Делаем предсказания на тестовых данных\n",
    "X_test_const = sm.add_constant(X_test_scaled)\n",
    "predictions = result.predict(X_test_const)\n",
    "\n",
    "# Вычисляем метрики\n",
    "mae = mean_absolute_error(y_test, predictions)\n",
    "mse = mean_squared_error(y_test, predictions)\n",
    "mape = np.mean(np.abs((y_test - predictions) / y_test)) * 100\n",
    "\n",
    "print(\"Mean Absolute Error (MAE):\", mae)\n",
    "print(\"Mean Squared Error (MSE):\", mse)\n",
    "print(\"Mean Absolute Percentage Error (MAPE):\", mape)"
   ]
  },
  {
   "cell_type": "code",
   "execution_count": 594,
   "metadata": {},
   "outputs": [
    {
     "name": "stdout",
     "output_type": "stream",
     "text": [
      "Regression Equation:\n",
      "y = 237.15 + 0.00 * Price + -253.73 * index + 319.86 * USD/RUB + -70.79 * Inflation/year + 93.11 * Brent + -41.85 * vvp + 96.86 * M2\n"
     ]
    }
   ],
   "source": [
    "# Выводим формулу регрессии\n",
    "coefficients = result.params\n",
    "variable_names = df.columns\n",
    "equation = \"y = {:.2f}\".format(coefficients[0])\n",
    "for i in range(1, len(coefficients)):\n",
    "    equation += \" + {:.2f} * {}\".format(coefficients[i], variable_names[i-1])\n",
    "print(\"Regression Equation:\")\n",
    "print(equation)\n"
   ]
  },
  {
   "cell_type": "markdown",
   "metadata": {},
   "source": [
    "# Lasso"
   ]
  },
  {
   "cell_type": "code",
   "execution_count": 595,
   "metadata": {},
   "outputs": [],
   "source": [
    "lasso = Lasso()\n",
    "\n",
    "lasso.fit(X_train_scaled, y_train)\n",
    "\n",
    "y_approx_1 = lasso.predict(X_train_scaled)\n",
    "y_pred_1 = lasso.predict(X_test_scaled)"
   ]
  },
  {
   "cell_type": "code",
   "execution_count": 596,
   "metadata": {},
   "outputs": [
    {
     "name": "stdout",
     "output_type": "stream",
     "text": [
      "MAPE on train: 31.37%\n",
      "MSE on train: 5386.23\n",
      "R^2 on train: 0.88 \n",
      "\n",
      "MAPE on test: 55.38%\n",
      "MSE on test: 89389.15\n",
      "R^2 on test: -6.5\n"
     ]
    }
   ],
   "source": [
    "mape_approx_1 = mean_absolute_percentage_error(y_train, y_approx_1)\n",
    "print('MAPE on train: {:.2%}'.format(mape_approx_1))\n",
    "\n",
    "mse_approx_1 = mean_squared_error(y_train, y_approx_1)\n",
    "print('MSE on train: {:.2f}'.format(mse_approx_1))\n",
    "\n",
    "r2_approx_1 = r2_score(y_train, y_approx_1)\n",
    "print('R^2 on train: {:.2}'.format(r2_approx_1),'\\n')\n",
    "\n",
    "mape_test_1 = mean_absolute_percentage_error(y_test, y_pred_1)\n",
    "print('MAPE on test: {:.2%}'.format(mape_test_1))\n",
    "\n",
    "\n",
    "mse_test_1 = mean_squared_error(y_test, y_pred_1)\n",
    "print('MSE on test: {:.2f}'.format(mse_test_1))\n",
    "\n",
    "\n",
    "r2_approx_1 = r2_score(y_test, y_pred_1)\n",
    "print('R^2 on test: {:.2}'.format(r2_approx_1))"
   ]
  },
  {
   "cell_type": "markdown",
   "metadata": {},
   "source": [
    "# Ridge"
   ]
  },
  {
   "cell_type": "code",
   "execution_count": 597,
   "metadata": {},
   "outputs": [],
   "source": [
    "ridge = Ridge()\n",
    "\n",
    "ridge.fit(X_train_scaled, y_train)\n",
    "\n",
    "y_approx_3 = ridge.predict(X_train_scaled)\n",
    "y_pred_3 = ridge.predict(X_test_scaled)"
   ]
  },
  {
   "cell_type": "code",
   "execution_count": 598,
   "metadata": {},
   "outputs": [
    {
     "name": "stdout",
     "output_type": "stream",
     "text": [
      "MAPE on train: 42.24%\n",
      "MSE on train: 5120.74\n",
      "R^2 on train: 0.89 \n",
      "\n",
      "MAPE on test: 55.28%\n",
      "MSE on test: 90779.94\n",
      "R^2 on test: -6.6\n"
     ]
    }
   ],
   "source": [
    "mape_approx_1 = mean_absolute_percentage_error(y_train, y_approx_3)\n",
    "print('MAPE on train: {:.2%}'.format(mape_approx_1))\n",
    "\n",
    "mse_approx_1 = mean_squared_error(y_train, y_approx_3)\n",
    "print('MSE on train: {:.2f}'.format(mse_approx_1))\n",
    "\n",
    "r2_approx_1 = r2_score(y_train, y_approx_3)\n",
    "print('R^2 on train: {:.2}'.format(r2_approx_1),'\\n')\n",
    "\n",
    "mape_test_1 = mean_absolute_percentage_error(y_test, y_pred_3)\n",
    "print('MAPE on test: {:.2%}'.format(mape_test_1))\n",
    "\n",
    "\n",
    "mse_test_1 = mean_squared_error(y_test, y_pred_3)\n",
    "print('MSE on test: {:.2f}'.format(mse_test_1))\n",
    "\n",
    "\n",
    "r2_approx_1 = r2_score(y_test, y_pred_3)\n",
    "print('R^2 on test: {:.2}'.format(r2_approx_1))"
   ]
  },
  {
   "cell_type": "markdown",
   "metadata": {},
   "source": [
    "# Валидация"
   ]
  },
  {
   "cell_type": "markdown",
   "metadata": {},
   "source": [
    "## Лассо"
   ]
  },
  {
   "cell_type": "code",
   "execution_count": 599,
   "metadata": {},
   "outputs": [],
   "source": [
    "cv = KFold(n_splits=4, shuffle=False, random_state=None)"
   ]
  },
  {
   "cell_type": "code",
   "execution_count": 600,
   "metadata": {},
   "outputs": [],
   "source": [
    "grid = {'alpha': np.linspace(0.1, 1, 20)}"
   ]
  },
  {
   "cell_type": "code",
   "execution_count": 601,
   "metadata": {},
   "outputs": [],
   "source": [
    "gs_lasso = GridSearchCV(Lasso(), \n",
    "                  grid, \n",
    "                  n_jobs=-1,\n",
    "                  cv=cv) "
   ]
  },
  {
   "cell_type": "code",
   "execution_count": 602,
   "metadata": {},
   "outputs": [
    {
     "data": {
      "text/html": [
       "<style>#sk-container-id-7 {color: black;}#sk-container-id-7 pre{padding: 0;}#sk-container-id-7 div.sk-toggleable {background-color: white;}#sk-container-id-7 label.sk-toggleable__label {cursor: pointer;display: block;width: 100%;margin-bottom: 0;padding: 0.3em;box-sizing: border-box;text-align: center;}#sk-container-id-7 label.sk-toggleable__label-arrow:before {content: \"▸\";float: left;margin-right: 0.25em;color: #696969;}#sk-container-id-7 label.sk-toggleable__label-arrow:hover:before {color: black;}#sk-container-id-7 div.sk-estimator:hover label.sk-toggleable__label-arrow:before {color: black;}#sk-container-id-7 div.sk-toggleable__content {max-height: 0;max-width: 0;overflow: hidden;text-align: left;background-color: #f0f8ff;}#sk-container-id-7 div.sk-toggleable__content pre {margin: 0.2em;color: black;border-radius: 0.25em;background-color: #f0f8ff;}#sk-container-id-7 input.sk-toggleable__control:checked~div.sk-toggleable__content {max-height: 200px;max-width: 100%;overflow: auto;}#sk-container-id-7 input.sk-toggleable__control:checked~label.sk-toggleable__label-arrow:before {content: \"▾\";}#sk-container-id-7 div.sk-estimator input.sk-toggleable__control:checked~label.sk-toggleable__label {background-color: #d4ebff;}#sk-container-id-7 div.sk-label input.sk-toggleable__control:checked~label.sk-toggleable__label {background-color: #d4ebff;}#sk-container-id-7 input.sk-hidden--visually {border: 0;clip: rect(1px 1px 1px 1px);clip: rect(1px, 1px, 1px, 1px);height: 1px;margin: -1px;overflow: hidden;padding: 0;position: absolute;width: 1px;}#sk-container-id-7 div.sk-estimator {font-family: monospace;background-color: #f0f8ff;border: 1px dotted black;border-radius: 0.25em;box-sizing: border-box;margin-bottom: 0.5em;}#sk-container-id-7 div.sk-estimator:hover {background-color: #d4ebff;}#sk-container-id-7 div.sk-parallel-item::after {content: \"\";width: 100%;border-bottom: 1px solid gray;flex-grow: 1;}#sk-container-id-7 div.sk-label:hover label.sk-toggleable__label {background-color: #d4ebff;}#sk-container-id-7 div.sk-serial::before {content: \"\";position: absolute;border-left: 1px solid gray;box-sizing: border-box;top: 0;bottom: 0;left: 50%;z-index: 0;}#sk-container-id-7 div.sk-serial {display: flex;flex-direction: column;align-items: center;background-color: white;padding-right: 0.2em;padding-left: 0.2em;position: relative;}#sk-container-id-7 div.sk-item {position: relative;z-index: 1;}#sk-container-id-7 div.sk-parallel {display: flex;align-items: stretch;justify-content: center;background-color: white;position: relative;}#sk-container-id-7 div.sk-item::before, #sk-container-id-7 div.sk-parallel-item::before {content: \"\";position: absolute;border-left: 1px solid gray;box-sizing: border-box;top: 0;bottom: 0;left: 50%;z-index: -1;}#sk-container-id-7 div.sk-parallel-item {display: flex;flex-direction: column;z-index: 1;position: relative;background-color: white;}#sk-container-id-7 div.sk-parallel-item:first-child::after {align-self: flex-end;width: 50%;}#sk-container-id-7 div.sk-parallel-item:last-child::after {align-self: flex-start;width: 50%;}#sk-container-id-7 div.sk-parallel-item:only-child::after {width: 0;}#sk-container-id-7 div.sk-dashed-wrapped {border: 1px dashed gray;margin: 0 0.4em 0.5em 0.4em;box-sizing: border-box;padding-bottom: 0.4em;background-color: white;}#sk-container-id-7 div.sk-label label {font-family: monospace;font-weight: bold;display: inline-block;line-height: 1.2em;}#sk-container-id-7 div.sk-label-container {text-align: center;}#sk-container-id-7 div.sk-container {/* jupyter's `normalize.less` sets `[hidden] { display: none; }` but bootstrap.min.css set `[hidden] { display: none !important; }` so we also need the `!important` here to be able to override the default hidden behavior on the sphinx rendered scikit-learn.org. See: https://github.com/scikit-learn/scikit-learn/issues/21755 */display: inline-block !important;position: relative;}#sk-container-id-7 div.sk-text-repr-fallback {display: none;}</style><div id=\"sk-container-id-7\" class=\"sk-top-container\"><div class=\"sk-text-repr-fallback\"><pre>GridSearchCV(cv=KFold(n_splits=4, random_state=None, shuffle=False),\n",
       "             estimator=Lasso(), n_jobs=-1,\n",
       "             param_grid={&#x27;alpha&#x27;: array([0.1       , 0.14736842, 0.19473684, 0.24210526, 0.28947368,\n",
       "       0.33684211, 0.38421053, 0.43157895, 0.47894737, 0.52631579,\n",
       "       0.57368421, 0.62105263, 0.66842105, 0.71578947, 0.76315789,\n",
       "       0.81052632, 0.85789474, 0.90526316, 0.95263158, 1.        ])})</pre><b>In a Jupyter environment, please rerun this cell to show the HTML representation or trust the notebook. <br />On GitHub, the HTML representation is unable to render, please try loading this page with nbviewer.org.</b></div><div class=\"sk-container\" hidden><div class=\"sk-item sk-dashed-wrapped\"><div class=\"sk-label-container\"><div class=\"sk-label sk-toggleable\"><input class=\"sk-toggleable__control sk-hidden--visually\" id=\"sk-estimator-id-13\" type=\"checkbox\" ><label for=\"sk-estimator-id-13\" class=\"sk-toggleable__label sk-toggleable__label-arrow\">GridSearchCV</label><div class=\"sk-toggleable__content\"><pre>GridSearchCV(cv=KFold(n_splits=4, random_state=None, shuffle=False),\n",
       "             estimator=Lasso(), n_jobs=-1,\n",
       "             param_grid={&#x27;alpha&#x27;: array([0.1       , 0.14736842, 0.19473684, 0.24210526, 0.28947368,\n",
       "       0.33684211, 0.38421053, 0.43157895, 0.47894737, 0.52631579,\n",
       "       0.57368421, 0.62105263, 0.66842105, 0.71578947, 0.76315789,\n",
       "       0.81052632, 0.85789474, 0.90526316, 0.95263158, 1.        ])})</pre></div></div></div><div class=\"sk-parallel\"><div class=\"sk-parallel-item\"><div class=\"sk-item\"><div class=\"sk-label-container\"><div class=\"sk-label sk-toggleable\"><input class=\"sk-toggleable__control sk-hidden--visually\" id=\"sk-estimator-id-14\" type=\"checkbox\" ><label for=\"sk-estimator-id-14\" class=\"sk-toggleable__label sk-toggleable__label-arrow\">estimator: Lasso</label><div class=\"sk-toggleable__content\"><pre>Lasso()</pre></div></div></div><div class=\"sk-serial\"><div class=\"sk-item\"><div class=\"sk-estimator sk-toggleable\"><input class=\"sk-toggleable__control sk-hidden--visually\" id=\"sk-estimator-id-15\" type=\"checkbox\" ><label for=\"sk-estimator-id-15\" class=\"sk-toggleable__label sk-toggleable__label-arrow\">Lasso</label><div class=\"sk-toggleable__content\"><pre>Lasso()</pre></div></div></div></div></div></div></div></div></div></div>"
      ],
      "text/plain": [
       "GridSearchCV(cv=KFold(n_splits=4, random_state=None, shuffle=False),\n",
       "             estimator=Lasso(), n_jobs=-1,\n",
       "             param_grid={'alpha': array([0.1       , 0.14736842, 0.19473684, 0.24210526, 0.28947368,\n",
       "       0.33684211, 0.38421053, 0.43157895, 0.47894737, 0.52631579,\n",
       "       0.57368421, 0.62105263, 0.66842105, 0.71578947, 0.76315789,\n",
       "       0.81052632, 0.85789474, 0.90526316, 0.95263158, 1.        ])})"
      ]
     },
     "execution_count": 602,
     "metadata": {},
     "output_type": "execute_result"
    }
   ],
   "source": [
    "gs_lasso.fit(X_train_scaled, y_train)"
   ]
  },
  {
   "cell_type": "code",
   "execution_count": 603,
   "metadata": {},
   "outputs": [
    {
     "name": "stdout",
     "output_type": "stream",
     "text": [
      "best alpha = 1.0\n"
     ]
    }
   ],
   "source": [
    "a = gs_lasso.best_params_['alpha']\n",
    "print(f'best alpha = {a}')"
   ]
  },
  {
   "cell_type": "code",
   "execution_count": 604,
   "metadata": {},
   "outputs": [
    {
     "name": "stdout",
     "output_type": "stream",
     "text": [
      "MAPE on train: 31.37%\n",
      "MSE on train: 5386.23\n",
      "MAE on train: 57.1089458806003 \n",
      "\n",
      "R^2 = -5.6166 \n",
      "\n",
      "MAPE on test: 55.38%\n",
      "MSE on test: 89389.15\n",
      "MSE on test: 89389.15\n",
      "MAE on train: 267.28960035854686\n"
     ]
    }
   ],
   "source": [
    "mape_train_best_lasso = mean_absolute_percentage_error(y_train, gs_lasso.best_estimator_.predict(X_train_scaled))\n",
    "mse_train_best_lasso = mean_squared_error(y_train, gs_lasso.best_estimator_.predict(X_train_scaled))\n",
    "mae_train_best_lasso = mean_absolute_error(y_train, gs_lasso.best_estimator_.predict(X_train_scaled))\n",
    "\n",
    "mape_test_best_lasso = mean_absolute_percentage_error(y_test, gs_lasso.best_estimator_.predict(X_test_scaled))\n",
    "mse_test_best_lasso = mean_squared_error(y_test, gs_lasso.best_estimator_.predict(X_test_scaled))\n",
    "mae_test_best_lasso = mean_absolute_error(y_test, gs_lasso.best_estimator_.predict(X_test_scaled))\n",
    "\n",
    "print('MAPE on train: {:.2%}'.format(mape_train_best_lasso))\n",
    "print('MSE on train: {:.2f}'.format(mse_train_best_lasso))\n",
    "print('MAE on train:', mae_train_best_lasso,'\\n') \n",
    "\n",
    "print(f'R^2 = {round(gs_lasso.best_score_, 4)}','\\n')\n",
    "\n",
    "print('MAPE on test: {:.2%}'.format(mape_test_best_lasso))\n",
    "print('MSE on test: {:.2f}'.format(mse_test_best_lasso))\n",
    "print('MSE on test: {:.2f}'.format(mse_test_best_lasso))\n",
    "print('MAE on train:', mae_test_best_lasso) "
   ]
  },
  {
   "cell_type": "code",
   "execution_count": 605,
   "metadata": {},
   "outputs": [
    {
     "name": "stdout",
     "output_type": "stream",
     "text": [
      "Coefficient for feature 0: 0.0\n",
      "Coefficient for feature 1: -157.42\n",
      "Coefficient for feature 2: 218.6\n",
      "Coefficient for feature 3: -36.52\n",
      "Coefficient for feature 4: 86.73\n",
      "Coefficient for feature 5: -36.61\n",
      "Coefficient for feature 6: 74.38\n"
     ]
    }
   ],
   "source": [
    "for i, coef in enumerate(gs_lasso.best_estimator_.coef_):\n",
    "    print(f'Coefficient for feature {i}: {round(coef, 2)}')\n"
   ]
  },
  {
   "cell_type": "markdown",
   "metadata": {},
   "source": [
    "## Гребневая"
   ]
  },
  {
   "cell_type": "code",
   "execution_count": 606,
   "metadata": {},
   "outputs": [],
   "source": [
    "gs_ridge = GridSearchCV(Ridge(), \n",
    "                  grid, \n",
    "                  n_jobs=-1,\n",
    "                  cv=cv) "
   ]
  },
  {
   "cell_type": "code",
   "execution_count": 607,
   "metadata": {},
   "outputs": [
    {
     "data": {
      "text/html": [
       "<style>#sk-container-id-8 {color: black;}#sk-container-id-8 pre{padding: 0;}#sk-container-id-8 div.sk-toggleable {background-color: white;}#sk-container-id-8 label.sk-toggleable__label {cursor: pointer;display: block;width: 100%;margin-bottom: 0;padding: 0.3em;box-sizing: border-box;text-align: center;}#sk-container-id-8 label.sk-toggleable__label-arrow:before {content: \"▸\";float: left;margin-right: 0.25em;color: #696969;}#sk-container-id-8 label.sk-toggleable__label-arrow:hover:before {color: black;}#sk-container-id-8 div.sk-estimator:hover label.sk-toggleable__label-arrow:before {color: black;}#sk-container-id-8 div.sk-toggleable__content {max-height: 0;max-width: 0;overflow: hidden;text-align: left;background-color: #f0f8ff;}#sk-container-id-8 div.sk-toggleable__content pre {margin: 0.2em;color: black;border-radius: 0.25em;background-color: #f0f8ff;}#sk-container-id-8 input.sk-toggleable__control:checked~div.sk-toggleable__content {max-height: 200px;max-width: 100%;overflow: auto;}#sk-container-id-8 input.sk-toggleable__control:checked~label.sk-toggleable__label-arrow:before {content: \"▾\";}#sk-container-id-8 div.sk-estimator input.sk-toggleable__control:checked~label.sk-toggleable__label {background-color: #d4ebff;}#sk-container-id-8 div.sk-label input.sk-toggleable__control:checked~label.sk-toggleable__label {background-color: #d4ebff;}#sk-container-id-8 input.sk-hidden--visually {border: 0;clip: rect(1px 1px 1px 1px);clip: rect(1px, 1px, 1px, 1px);height: 1px;margin: -1px;overflow: hidden;padding: 0;position: absolute;width: 1px;}#sk-container-id-8 div.sk-estimator {font-family: monospace;background-color: #f0f8ff;border: 1px dotted black;border-radius: 0.25em;box-sizing: border-box;margin-bottom: 0.5em;}#sk-container-id-8 div.sk-estimator:hover {background-color: #d4ebff;}#sk-container-id-8 div.sk-parallel-item::after {content: \"\";width: 100%;border-bottom: 1px solid gray;flex-grow: 1;}#sk-container-id-8 div.sk-label:hover label.sk-toggleable__label {background-color: #d4ebff;}#sk-container-id-8 div.sk-serial::before {content: \"\";position: absolute;border-left: 1px solid gray;box-sizing: border-box;top: 0;bottom: 0;left: 50%;z-index: 0;}#sk-container-id-8 div.sk-serial {display: flex;flex-direction: column;align-items: center;background-color: white;padding-right: 0.2em;padding-left: 0.2em;position: relative;}#sk-container-id-8 div.sk-item {position: relative;z-index: 1;}#sk-container-id-8 div.sk-parallel {display: flex;align-items: stretch;justify-content: center;background-color: white;position: relative;}#sk-container-id-8 div.sk-item::before, #sk-container-id-8 div.sk-parallel-item::before {content: \"\";position: absolute;border-left: 1px solid gray;box-sizing: border-box;top: 0;bottom: 0;left: 50%;z-index: -1;}#sk-container-id-8 div.sk-parallel-item {display: flex;flex-direction: column;z-index: 1;position: relative;background-color: white;}#sk-container-id-8 div.sk-parallel-item:first-child::after {align-self: flex-end;width: 50%;}#sk-container-id-8 div.sk-parallel-item:last-child::after {align-self: flex-start;width: 50%;}#sk-container-id-8 div.sk-parallel-item:only-child::after {width: 0;}#sk-container-id-8 div.sk-dashed-wrapped {border: 1px dashed gray;margin: 0 0.4em 0.5em 0.4em;box-sizing: border-box;padding-bottom: 0.4em;background-color: white;}#sk-container-id-8 div.sk-label label {font-family: monospace;font-weight: bold;display: inline-block;line-height: 1.2em;}#sk-container-id-8 div.sk-label-container {text-align: center;}#sk-container-id-8 div.sk-container {/* jupyter's `normalize.less` sets `[hidden] { display: none; }` but bootstrap.min.css set `[hidden] { display: none !important; }` so we also need the `!important` here to be able to override the default hidden behavior on the sphinx rendered scikit-learn.org. See: https://github.com/scikit-learn/scikit-learn/issues/21755 */display: inline-block !important;position: relative;}#sk-container-id-8 div.sk-text-repr-fallback {display: none;}</style><div id=\"sk-container-id-8\" class=\"sk-top-container\"><div class=\"sk-text-repr-fallback\"><pre>GridSearchCV(cv=KFold(n_splits=4, random_state=None, shuffle=False),\n",
       "             estimator=Ridge(), n_jobs=-1,\n",
       "             param_grid={&#x27;alpha&#x27;: array([0.1       , 0.14736842, 0.19473684, 0.24210526, 0.28947368,\n",
       "       0.33684211, 0.38421053, 0.43157895, 0.47894737, 0.52631579,\n",
       "       0.57368421, 0.62105263, 0.66842105, 0.71578947, 0.76315789,\n",
       "       0.81052632, 0.85789474, 0.90526316, 0.95263158, 1.        ])})</pre><b>In a Jupyter environment, please rerun this cell to show the HTML representation or trust the notebook. <br />On GitHub, the HTML representation is unable to render, please try loading this page with nbviewer.org.</b></div><div class=\"sk-container\" hidden><div class=\"sk-item sk-dashed-wrapped\"><div class=\"sk-label-container\"><div class=\"sk-label sk-toggleable\"><input class=\"sk-toggleable__control sk-hidden--visually\" id=\"sk-estimator-id-16\" type=\"checkbox\" ><label for=\"sk-estimator-id-16\" class=\"sk-toggleable__label sk-toggleable__label-arrow\">GridSearchCV</label><div class=\"sk-toggleable__content\"><pre>GridSearchCV(cv=KFold(n_splits=4, random_state=None, shuffle=False),\n",
       "             estimator=Ridge(), n_jobs=-1,\n",
       "             param_grid={&#x27;alpha&#x27;: array([0.1       , 0.14736842, 0.19473684, 0.24210526, 0.28947368,\n",
       "       0.33684211, 0.38421053, 0.43157895, 0.47894737, 0.52631579,\n",
       "       0.57368421, 0.62105263, 0.66842105, 0.71578947, 0.76315789,\n",
       "       0.81052632, 0.85789474, 0.90526316, 0.95263158, 1.        ])})</pre></div></div></div><div class=\"sk-parallel\"><div class=\"sk-parallel-item\"><div class=\"sk-item\"><div class=\"sk-label-container\"><div class=\"sk-label sk-toggleable\"><input class=\"sk-toggleable__control sk-hidden--visually\" id=\"sk-estimator-id-17\" type=\"checkbox\" ><label for=\"sk-estimator-id-17\" class=\"sk-toggleable__label sk-toggleable__label-arrow\">estimator: Ridge</label><div class=\"sk-toggleable__content\"><pre>Ridge()</pre></div></div></div><div class=\"sk-serial\"><div class=\"sk-item\"><div class=\"sk-estimator sk-toggleable\"><input class=\"sk-toggleable__control sk-hidden--visually\" id=\"sk-estimator-id-18\" type=\"checkbox\" ><label for=\"sk-estimator-id-18\" class=\"sk-toggleable__label sk-toggleable__label-arrow\">Ridge</label><div class=\"sk-toggleable__content\"><pre>Ridge()</pre></div></div></div></div></div></div></div></div></div></div>"
      ],
      "text/plain": [
       "GridSearchCV(cv=KFold(n_splits=4, random_state=None, shuffle=False),\n",
       "             estimator=Ridge(), n_jobs=-1,\n",
       "             param_grid={'alpha': array([0.1       , 0.14736842, 0.19473684, 0.24210526, 0.28947368,\n",
       "       0.33684211, 0.38421053, 0.43157895, 0.47894737, 0.52631579,\n",
       "       0.57368421, 0.62105263, 0.66842105, 0.71578947, 0.76315789,\n",
       "       0.81052632, 0.85789474, 0.90526316, 0.95263158, 1.        ])})"
      ]
     },
     "execution_count": 607,
     "metadata": {},
     "output_type": "execute_result"
    }
   ],
   "source": [
    "gs_ridge.fit(X_train_scaled, y_train)"
   ]
  },
  {
   "cell_type": "code",
   "execution_count": 608,
   "metadata": {},
   "outputs": [
    {
     "name": "stdout",
     "output_type": "stream",
     "text": [
      "best alpha = 1.0\n"
     ]
    }
   ],
   "source": [
    "a = gs_ridge.best_params_['alpha']\n",
    "print(f'best alpha = {a}')"
   ]
  },
  {
   "cell_type": "code",
   "execution_count": 609,
   "metadata": {},
   "outputs": [
    {
     "name": "stdout",
     "output_type": "stream",
     "text": [
      "Coefficient for feature 0: 0.0\n",
      "Coefficient for feature 1: -249.22\n",
      "Coefficient for feature 2: 315.56\n",
      "Coefficient for feature 3: -70.82\n",
      "Coefficient for feature 4: 93.35\n",
      "Coefficient for feature 5: -41.75\n",
      "Coefficient for feature 6: 96.5\n"
     ]
    }
   ],
   "source": [
    "for i, coef in enumerate(gs_ridge.best_estimator_.coef_):\n",
    "    print(f'Coefficient for feature {i}: {round(coef, 2)}')\n"
   ]
  },
  {
   "cell_type": "code",
   "execution_count": 610,
   "metadata": {},
   "outputs": [
    {
     "name": "stdout",
     "output_type": "stream",
     "text": [
      "MAPE on train: 42.24%\n",
      "MSE on train: 5120.74\n",
      "MAE on train: 58.82 \n",
      "\n",
      "R^2 = -12.2422 \n",
      "\n",
      "MAPE on test: 55.28%\n",
      "MSE on test: 90779.94\n",
      "MAE on test: 265.56\n"
     ]
    }
   ],
   "source": [
    "mape_train_best_ridge = mean_absolute_percentage_error(y_train, gs_ridge.best_estimator_.predict(X_train_scaled))\n",
    "mse_train_best_ridge = mean_squared_error(y_train, gs_ridge.best_estimator_.predict(X_train_scaled))\n",
    "mae_train_best_ridge = mean_absolute_error(y_train, gs_ridge.best_estimator_.predict(X_train_scaled))\n",
    "\n",
    "mape_test_best_ridge = mean_absolute_percentage_error(y_test, gs_ridge.best_estimator_.predict(X_test_scaled))\n",
    "mse_test_best_ridge = mean_squared_error(y_test, gs_ridge.best_estimator_.predict(X_test_scaled))\n",
    "mae_test_best_ridge = mean_absolute_error(y_test, gs_ridge.best_estimator_.predict(X_test_scaled))\n",
    "\n",
    "print('MAPE on train: {:.2%}'.format(mape_train_best_ridge))\n",
    "print('MSE on train: {:.2f}'.format(mse_train_best_ridge))\n",
    "print('MAE on train: {:.2f}'.format(mae_train_best_ridge),'\\n') \n",
    "\n",
    "print(f'R^2 = {round(gs_ridge.best_score_, 4)}','\\n')\n",
    "\n",
    "print('MAPE on test: {:.2%}'.format(mape_test_best_ridge))\n",
    "print('MSE on test: {:.2f}'.format(mse_test_best_ridge))\n",
    "print('MAE on test: {:.2f}'.format(mae_test_best_ridge))"
   ]
  },
  {
   "cell_type": "markdown",
   "metadata": {},
   "source": [
    "# L1 & L2"
   ]
  },
  {
   "cell_type": "code",
   "execution_count": 611,
   "metadata": {},
   "outputs": [],
   "source": [
    "grid_combo = {'alpha': np.linspace(0.1, 1, 20),\n",
    "        'l1_ratio':np.linspace(0.1, 1, 20)}"
   ]
  },
  {
   "cell_type": "code",
   "execution_count": 612,
   "metadata": {},
   "outputs": [],
   "source": [
    "gs_ElasticNet = GridSearchCV(ElasticNet(), \n",
    "                  grid_combo, \n",
    "                  n_jobs=-1,\n",
    "                  cv=cv) "
   ]
  },
  {
   "cell_type": "code",
   "execution_count": 613,
   "metadata": {},
   "outputs": [
    {
     "data": {
      "text/html": [
       "<style>#sk-container-id-9 {color: black;}#sk-container-id-9 pre{padding: 0;}#sk-container-id-9 div.sk-toggleable {background-color: white;}#sk-container-id-9 label.sk-toggleable__label {cursor: pointer;display: block;width: 100%;margin-bottom: 0;padding: 0.3em;box-sizing: border-box;text-align: center;}#sk-container-id-9 label.sk-toggleable__label-arrow:before {content: \"▸\";float: left;margin-right: 0.25em;color: #696969;}#sk-container-id-9 label.sk-toggleable__label-arrow:hover:before {color: black;}#sk-container-id-9 div.sk-estimator:hover label.sk-toggleable__label-arrow:before {color: black;}#sk-container-id-9 div.sk-toggleable__content {max-height: 0;max-width: 0;overflow: hidden;text-align: left;background-color: #f0f8ff;}#sk-container-id-9 div.sk-toggleable__content pre {margin: 0.2em;color: black;border-radius: 0.25em;background-color: #f0f8ff;}#sk-container-id-9 input.sk-toggleable__control:checked~div.sk-toggleable__content {max-height: 200px;max-width: 100%;overflow: auto;}#sk-container-id-9 input.sk-toggleable__control:checked~label.sk-toggleable__label-arrow:before {content: \"▾\";}#sk-container-id-9 div.sk-estimator input.sk-toggleable__control:checked~label.sk-toggleable__label {background-color: #d4ebff;}#sk-container-id-9 div.sk-label input.sk-toggleable__control:checked~label.sk-toggleable__label {background-color: #d4ebff;}#sk-container-id-9 input.sk-hidden--visually {border: 0;clip: rect(1px 1px 1px 1px);clip: rect(1px, 1px, 1px, 1px);height: 1px;margin: -1px;overflow: hidden;padding: 0;position: absolute;width: 1px;}#sk-container-id-9 div.sk-estimator {font-family: monospace;background-color: #f0f8ff;border: 1px dotted black;border-radius: 0.25em;box-sizing: border-box;margin-bottom: 0.5em;}#sk-container-id-9 div.sk-estimator:hover {background-color: #d4ebff;}#sk-container-id-9 div.sk-parallel-item::after {content: \"\";width: 100%;border-bottom: 1px solid gray;flex-grow: 1;}#sk-container-id-9 div.sk-label:hover label.sk-toggleable__label {background-color: #d4ebff;}#sk-container-id-9 div.sk-serial::before {content: \"\";position: absolute;border-left: 1px solid gray;box-sizing: border-box;top: 0;bottom: 0;left: 50%;z-index: 0;}#sk-container-id-9 div.sk-serial {display: flex;flex-direction: column;align-items: center;background-color: white;padding-right: 0.2em;padding-left: 0.2em;position: relative;}#sk-container-id-9 div.sk-item {position: relative;z-index: 1;}#sk-container-id-9 div.sk-parallel {display: flex;align-items: stretch;justify-content: center;background-color: white;position: relative;}#sk-container-id-9 div.sk-item::before, #sk-container-id-9 div.sk-parallel-item::before {content: \"\";position: absolute;border-left: 1px solid gray;box-sizing: border-box;top: 0;bottom: 0;left: 50%;z-index: -1;}#sk-container-id-9 div.sk-parallel-item {display: flex;flex-direction: column;z-index: 1;position: relative;background-color: white;}#sk-container-id-9 div.sk-parallel-item:first-child::after {align-self: flex-end;width: 50%;}#sk-container-id-9 div.sk-parallel-item:last-child::after {align-self: flex-start;width: 50%;}#sk-container-id-9 div.sk-parallel-item:only-child::after {width: 0;}#sk-container-id-9 div.sk-dashed-wrapped {border: 1px dashed gray;margin: 0 0.4em 0.5em 0.4em;box-sizing: border-box;padding-bottom: 0.4em;background-color: white;}#sk-container-id-9 div.sk-label label {font-family: monospace;font-weight: bold;display: inline-block;line-height: 1.2em;}#sk-container-id-9 div.sk-label-container {text-align: center;}#sk-container-id-9 div.sk-container {/* jupyter's `normalize.less` sets `[hidden] { display: none; }` but bootstrap.min.css set `[hidden] { display: none !important; }` so we also need the `!important` here to be able to override the default hidden behavior on the sphinx rendered scikit-learn.org. See: https://github.com/scikit-learn/scikit-learn/issues/21755 */display: inline-block !important;position: relative;}#sk-container-id-9 div.sk-text-repr-fallback {display: none;}</style><div id=\"sk-container-id-9\" class=\"sk-top-container\"><div class=\"sk-text-repr-fallback\"><pre>GridSearchCV(cv=KFold(n_splits=4, random_state=None, shuffle=False),\n",
       "             estimator=ElasticNet(), n_jobs=-1,\n",
       "             param_grid={&#x27;alpha&#x27;: array([0.1       , 0.14736842, 0.19473684, 0.24210526, 0.28947368,\n",
       "       0.33684211, 0.38421053, 0.43157895, 0.47894737, 0.52631579,\n",
       "       0.57368421, 0.62105263, 0.66842105, 0.71578947, 0.76315789,\n",
       "       0.81052632, 0.85789474, 0.90526316, 0.95263158, 1.        ]),\n",
       "                         &#x27;l1_ratio&#x27;: array([0.1       , 0.14736842, 0.19473684, 0.24210526, 0.28947368,\n",
       "       0.33684211, 0.38421053, 0.43157895, 0.47894737, 0.52631579,\n",
       "       0.57368421, 0.62105263, 0.66842105, 0.71578947, 0.76315789,\n",
       "       0.81052632, 0.85789474, 0.90526316, 0.95263158, 1.        ])})</pre><b>In a Jupyter environment, please rerun this cell to show the HTML representation or trust the notebook. <br />On GitHub, the HTML representation is unable to render, please try loading this page with nbviewer.org.</b></div><div class=\"sk-container\" hidden><div class=\"sk-item sk-dashed-wrapped\"><div class=\"sk-label-container\"><div class=\"sk-label sk-toggleable\"><input class=\"sk-toggleable__control sk-hidden--visually\" id=\"sk-estimator-id-19\" type=\"checkbox\" ><label for=\"sk-estimator-id-19\" class=\"sk-toggleable__label sk-toggleable__label-arrow\">GridSearchCV</label><div class=\"sk-toggleable__content\"><pre>GridSearchCV(cv=KFold(n_splits=4, random_state=None, shuffle=False),\n",
       "             estimator=ElasticNet(), n_jobs=-1,\n",
       "             param_grid={&#x27;alpha&#x27;: array([0.1       , 0.14736842, 0.19473684, 0.24210526, 0.28947368,\n",
       "       0.33684211, 0.38421053, 0.43157895, 0.47894737, 0.52631579,\n",
       "       0.57368421, 0.62105263, 0.66842105, 0.71578947, 0.76315789,\n",
       "       0.81052632, 0.85789474, 0.90526316, 0.95263158, 1.        ]),\n",
       "                         &#x27;l1_ratio&#x27;: array([0.1       , 0.14736842, 0.19473684, 0.24210526, 0.28947368,\n",
       "       0.33684211, 0.38421053, 0.43157895, 0.47894737, 0.52631579,\n",
       "       0.57368421, 0.62105263, 0.66842105, 0.71578947, 0.76315789,\n",
       "       0.81052632, 0.85789474, 0.90526316, 0.95263158, 1.        ])})</pre></div></div></div><div class=\"sk-parallel\"><div class=\"sk-parallel-item\"><div class=\"sk-item\"><div class=\"sk-label-container\"><div class=\"sk-label sk-toggleable\"><input class=\"sk-toggleable__control sk-hidden--visually\" id=\"sk-estimator-id-20\" type=\"checkbox\" ><label for=\"sk-estimator-id-20\" class=\"sk-toggleable__label sk-toggleable__label-arrow\">estimator: ElasticNet</label><div class=\"sk-toggleable__content\"><pre>ElasticNet()</pre></div></div></div><div class=\"sk-serial\"><div class=\"sk-item\"><div class=\"sk-estimator sk-toggleable\"><input class=\"sk-toggleable__control sk-hidden--visually\" id=\"sk-estimator-id-21\" type=\"checkbox\" ><label for=\"sk-estimator-id-21\" class=\"sk-toggleable__label sk-toggleable__label-arrow\">ElasticNet</label><div class=\"sk-toggleable__content\"><pre>ElasticNet()</pre></div></div></div></div></div></div></div></div></div></div>"
      ],
      "text/plain": [
       "GridSearchCV(cv=KFold(n_splits=4, random_state=None, shuffle=False),\n",
       "             estimator=ElasticNet(), n_jobs=-1,\n",
       "             param_grid={'alpha': array([0.1       , 0.14736842, 0.19473684, 0.24210526, 0.28947368,\n",
       "       0.33684211, 0.38421053, 0.43157895, 0.47894737, 0.52631579,\n",
       "       0.57368421, 0.62105263, 0.66842105, 0.71578947, 0.76315789,\n",
       "       0.81052632, 0.85789474, 0.90526316, 0.95263158, 1.        ]),\n",
       "                         'l1_ratio': array([0.1       , 0.14736842, 0.19473684, 0.24210526, 0.28947368,\n",
       "       0.33684211, 0.38421053, 0.43157895, 0.47894737, 0.52631579,\n",
       "       0.57368421, 0.62105263, 0.66842105, 0.71578947, 0.76315789,\n",
       "       0.81052632, 0.85789474, 0.90526316, 0.95263158, 1.        ])})"
      ]
     },
     "execution_count": 613,
     "metadata": {},
     "output_type": "execute_result"
    }
   ],
   "source": [
    "gs_ElasticNet.fit(X_train_scaled, y_train)"
   ]
  },
  {
   "cell_type": "code",
   "execution_count": 614,
   "metadata": {},
   "outputs": [
    {
     "name": "stdout",
     "output_type": "stream",
     "text": [
      "best alpha = 1.0\n",
      "best l1 ratio = 0.1\n"
     ]
    }
   ],
   "source": [
    "a, b = gs_ElasticNet.best_params_['alpha'], gs_ElasticNet.best_params_['l1_ratio']\n",
    "print(f'best alpha = {a}')\n",
    "print(f'best l1 ratio = {b}')"
   ]
  },
  {
   "cell_type": "code",
   "execution_count": 615,
   "metadata": {},
   "outputs": [
    {
     "name": "stdout",
     "output_type": "stream",
     "text": [
      "Coefficient for feature 0: 0.0\n",
      "Coefficient for feature 1: 26.97\n",
      "Coefficient for feature 2: 34.41\n",
      "Coefficient for feature 3: 27.51\n",
      "Coefficient for feature 4: 39.29\n",
      "Coefficient for feature 5: -25.05\n",
      "Coefficient for feature 6: 25.34\n"
     ]
    }
   ],
   "source": [
    "for i, coef in enumerate(gs_ElasticNet.best_estimator_.coef_):\n",
    "    print(f'Coefficient for feature {i}: {round(coef, 2)}')\n"
   ]
  },
  {
   "cell_type": "code",
   "execution_count": 616,
   "metadata": {},
   "outputs": [
    {
     "name": "stdout",
     "output_type": "stream",
     "text": [
      "R^2 = -2.1147\n"
     ]
    }
   ],
   "source": [
    "print(f'R^2 = {round(gs_ElasticNet.best_score_, 4)}')"
   ]
  },
  {
   "cell_type": "code",
   "execution_count": 617,
   "metadata": {},
   "outputs": [
    {
     "name": "stdout",
     "output_type": "stream",
     "text": [
      "MAPE on train: 34.18%\n",
      "MSE on train: 8630.63 \n",
      "\n",
      "R^2 = -2.1147\n",
      "\n",
      "MAPE on test: 53.53%\n",
      "MSE on test: 84698.18\n"
     ]
    }
   ],
   "source": [
    "mape_train_best_ElasticNet = mean_absolute_percentage_error(y_train, gs_ElasticNet.best_estimator_.predict(X_train_scaled))\n",
    "mse_train_best_ElasticNet = mean_squared_error(y_train, gs_ElasticNet.best_estimator_.predict(X_train_scaled))\n",
    "\n",
    "mape_test_best_ElasticNet = mean_absolute_percentage_error(y_test, gs_ElasticNet.best_estimator_.predict(X_test_scaled))\n",
    "mse_test_best_ElasticNet = mean_squared_error(y_test, gs_ElasticNet.best_estimator_.predict(X_test_scaled))\n",
    "\n",
    "\n",
    "print('MAPE on train: {:.2%}'.format(mape_train_best_ElasticNet))\n",
    "print('MSE on train: {:.2f}'.format(mse_train_best_ElasticNet),'\\n')\n",
    "\n",
    "print(f'R^2 = {round(gs_ElasticNet.best_score_, 4)}\\n')\n",
    "\n",
    "print('MAPE on test: {:.2%}'.format(mape_test_best_ElasticNet))\n",
    "print('MSE on test: {:.2f}'.format(mse_test_best_ElasticNet))"
   ]
  },
  {
   "cell_type": "code",
   "execution_count": 618,
   "metadata": {},
   "outputs": [
    {
     "data": {
      "text/html": [
       "<div>\n",
       "<style scoped>\n",
       "    .dataframe tbody tr th:only-of-type {\n",
       "        vertical-align: middle;\n",
       "    }\n",
       "\n",
       "    .dataframe tbody tr th {\n",
       "        vertical-align: top;\n",
       "    }\n",
       "\n",
       "    .dataframe thead th {\n",
       "        text-align: right;\n",
       "    }\n",
       "</style>\n",
       "<table border=\"1\" class=\"dataframe\">\n",
       "  <thead>\n",
       "    <tr style=\"text-align: right;\">\n",
       "      <th></th>\n",
       "      <th>Price</th>\n",
       "      <th>index</th>\n",
       "      <th>USD/RUB</th>\n",
       "      <th>Inflation/year</th>\n",
       "      <th>Brent</th>\n",
       "      <th>vvp</th>\n",
       "      <th>M2</th>\n",
       "    </tr>\n",
       "  </thead>\n",
       "  <tbody>\n",
       "    <tr>\n",
       "      <th>0</th>\n",
       "      <td>15.09</td>\n",
       "      <td>0</td>\n",
       "      <td>30.0750</td>\n",
       "      <td>18.58</td>\n",
       "      <td>538.643250</td>\n",
       "      <td>9.879637e+12</td>\n",
       "      <td>1.448200e+12</td>\n",
       "    </tr>\n",
       "    <tr>\n",
       "      <th>1</th>\n",
       "      <td>15.09</td>\n",
       "      <td>1</td>\n",
       "      <td>30.1080</td>\n",
       "      <td>18.58</td>\n",
       "      <td>547.965600</td>\n",
       "      <td>9.890478e+12</td>\n",
       "      <td>1.448200e+12</td>\n",
       "    </tr>\n",
       "    <tr>\n",
       "      <th>2</th>\n",
       "      <td>14.35</td>\n",
       "      <td>2</td>\n",
       "      <td>30.3350</td>\n",
       "      <td>18.58</td>\n",
       "      <td>539.963000</td>\n",
       "      <td>9.965048e+12</td>\n",
       "      <td>1.448200e+12</td>\n",
       "    </tr>\n",
       "    <tr>\n",
       "      <th>3</th>\n",
       "      <td>14.35</td>\n",
       "      <td>3</td>\n",
       "      <td>30.3350</td>\n",
       "      <td>18.58</td>\n",
       "      <td>557.557300</td>\n",
       "      <td>9.965048e+12</td>\n",
       "      <td>1.448200e+12</td>\n",
       "    </tr>\n",
       "    <tr>\n",
       "      <th>4</th>\n",
       "      <td>14.35</td>\n",
       "      <td>4</td>\n",
       "      <td>30.3350</td>\n",
       "      <td>18.58</td>\n",
       "      <td>557.557300</td>\n",
       "      <td>9.965048e+12</td>\n",
       "      <td>1.448200e+12</td>\n",
       "    </tr>\n",
       "    <tr>\n",
       "      <th>...</th>\n",
       "      <td>...</td>\n",
       "      <td>...</td>\n",
       "      <td>...</td>\n",
       "      <td>...</td>\n",
       "      <td>...</td>\n",
       "      <td>...</td>\n",
       "      <td>...</td>\n",
       "    </tr>\n",
       "    <tr>\n",
       "      <th>8182</th>\n",
       "      <td>715.10</td>\n",
       "      <td>8182</td>\n",
       "      <td>91.3475</td>\n",
       "      <td>7.42</td>\n",
       "      <td>7636.651000</td>\n",
       "      <td>1.824210e+14</td>\n",
       "      <td>9.959580e+13</td>\n",
       "    </tr>\n",
       "    <tr>\n",
       "      <th>8183</th>\n",
       "      <td>718.00</td>\n",
       "      <td>8183</td>\n",
       "      <td>91.1075</td>\n",
       "      <td>7.42</td>\n",
       "      <td>7561.011425</td>\n",
       "      <td>1.819417e+14</td>\n",
       "      <td>9.959580e+13</td>\n",
       "    </tr>\n",
       "    <tr>\n",
       "      <th>8184</th>\n",
       "      <td>721.80</td>\n",
       "      <td>8184</td>\n",
       "      <td>91.9500</td>\n",
       "      <td>7.42</td>\n",
       "      <td>7685.181000</td>\n",
       "      <td>1.836242e+14</td>\n",
       "      <td>9.959580e+13</td>\n",
       "    </tr>\n",
       "    <tr>\n",
       "      <th>8185</th>\n",
       "      <td>721.80</td>\n",
       "      <td>8185</td>\n",
       "      <td>91.9500</td>\n",
       "      <td>7.42</td>\n",
       "      <td>7712.766000</td>\n",
       "      <td>1.836242e+14</td>\n",
       "      <td>9.959580e+13</td>\n",
       "    </tr>\n",
       "    <tr>\n",
       "      <th>8186</th>\n",
       "      <td>728.90</td>\n",
       "      <td>8186</td>\n",
       "      <td>92.2550</td>\n",
       "      <td>7.42</td>\n",
       "      <td>7637.791450</td>\n",
       "      <td>1.842332e+14</td>\n",
       "      <td>9.959580e+13</td>\n",
       "    </tr>\n",
       "  </tbody>\n",
       "</table>\n",
       "<p>8187 rows × 7 columns</p>\n",
       "</div>"
      ],
      "text/plain": [
       "       Price  index  USD/RUB  Inflation/year        Brent           vvp  \\\n",
       "0      15.09      0  30.0750           18.58   538.643250  9.879637e+12   \n",
       "1      15.09      1  30.1080           18.58   547.965600  9.890478e+12   \n",
       "2      14.35      2  30.3350           18.58   539.963000  9.965048e+12   \n",
       "3      14.35      3  30.3350           18.58   557.557300  9.965048e+12   \n",
       "4      14.35      4  30.3350           18.58   557.557300  9.965048e+12   \n",
       "...      ...    ...      ...             ...          ...           ...   \n",
       "8182  715.10   8182  91.3475            7.42  7636.651000  1.824210e+14   \n",
       "8183  718.00   8183  91.1075            7.42  7561.011425  1.819417e+14   \n",
       "8184  721.80   8184  91.9500            7.42  7685.181000  1.836242e+14   \n",
       "8185  721.80   8185  91.9500            7.42  7712.766000  1.836242e+14   \n",
       "8186  728.90   8186  92.2550            7.42  7637.791450  1.842332e+14   \n",
       "\n",
       "                M2  \n",
       "0     1.448200e+12  \n",
       "1     1.448200e+12  \n",
       "2     1.448200e+12  \n",
       "3     1.448200e+12  \n",
       "4     1.448200e+12  \n",
       "...            ...  \n",
       "8182  9.959580e+13  \n",
       "8183  9.959580e+13  \n",
       "8184  9.959580e+13  \n",
       "8185  9.959580e+13  \n",
       "8186  9.959580e+13  \n",
       "\n",
       "[8187 rows x 7 columns]"
      ]
     },
     "execution_count": 618,
     "metadata": {},
     "output_type": "execute_result"
    }
   ],
   "source": [
    "df"
   ]
  },
  {
   "cell_type": "markdown",
   "metadata": {},
   "source": [
    "# ENSEMBLES"
   ]
  },
  {
   "cell_type": "code",
   "execution_count": 663,
   "metadata": {},
   "outputs": [],
   "source": [
    "from sklearn.preprocessing import StandardScaler\n",
    "from sklearn.model_selection import train_test_split\n",
    "from sklearn.model_selection import KFold\n",
    "from sklearn.model_selection import cross_val_score\n",
    "from sklearn.model_selection import GridSearchCV\n",
    "from sklearn.linear_model import LinearRegression\n",
    "from sklearn.linear_model import Lasso\n",
    "from sklearn.linear_model import ElasticNet\n",
    "from sklearn.tree import DecisionTreeRegressor\n",
    "from sklearn.neighbors import KNeighborsRegressor\n",
    "from sklearn.svm import SVR\n",
    "from sklearn.pipeline import Pipeline\n",
    "from sklearn.ensemble import RandomForestRegressor\n",
    "from sklearn.ensemble import GradientBoostingRegressor\n",
    "from sklearn.ensemble import ExtraTreesRegressor\n",
    "from sklearn.ensemble import AdaBoostRegressor\n",
    "from sklearn.metrics import mean_squared_error, mean_absolute_percentage_error, mean_absolute_error"
   ]
  },
  {
   "cell_type": "code",
   "execution_count": 907,
   "metadata": {},
   "outputs": [],
   "source": [
    "# Split-out validation dataset\n",
    "array = df.values\n",
    "X = array[:,1:7]\n",
    "Y = array[:,0]\n",
    "validation_size = 0.3\n",
    "seed = 7\n",
    "X_train, X_test, y_train, y_test = train_test_split(X, Y, test_size=validation_size, shuffle=True)\n",
    "\n",
    "# Создание объекта TimeSeriesSplit с учетом тренда\n",
    "# tscv = TimeSeriesSplit(n_splits=10)\n",
    "\n",
    "# # Итерация по разбиениям и обучение модели\n",
    "# for train_index, test_index in tscv.split(X_train):\n",
    "#     X_train, X_test = x_train[train_index], x_train[test_index]\n",
    "#     y_train, y_test = Y_train[train_index], Y_train[test_index]"
   ]
  },
  {
   "cell_type": "code",
   "execution_count": 763,
   "metadata": {},
   "outputs": [
    {
     "data": {
      "text/plain": [
       "array([110, 111, 112, 113, 114, 115, 116, 117, 118, 119, 120])"
      ]
     },
     "execution_count": 763,
     "metadata": {},
     "output_type": "execute_result"
    }
   ],
   "source": [
    "test_index"
   ]
  },
  {
   "cell_type": "markdown",
   "metadata": {},
   "source": [
    "### 4. Evaluate Algorithms: Baseline"
   ]
  },
  {
   "cell_type": "code",
   "execution_count": 871,
   "metadata": {},
   "outputs": [],
   "source": [
    "# Test options and evaluation metric\n",
    "num_folds = 2\n",
    "seed = 7\n",
    "scoring = 'neg_mean_absolute_percentage_error'\n",
    "# scoring = 'r2'"
   ]
  },
  {
   "cell_type": "code",
   "execution_count": 872,
   "metadata": {},
   "outputs": [
    {
     "name": "stdout",
     "output_type": "stream",
     "text": [
      "LR: -0.388474 (0.018861)\n",
      "LASSO: -0.387268 (0.018803)\n",
      "EN: -0.379426 (0.018254)\n",
      "KNN: -0.054141 (0.000277)\n",
      "CART: -0.028278 (0.001026)\n",
      "SVR: -0.482633 (0.009149)\n"
     ]
    }
   ],
   "source": [
    "# Spot-Check Algorithms\n",
    "models = []\n",
    "models.append(('LR', LinearRegression()))\n",
    "models.append(('LASSO', Lasso()))\n",
    "models.append(('EN', ElasticNet()))\n",
    "models.append(('KNN', KNeighborsRegressor()))\n",
    "models.append(('CART', DecisionTreeRegressor()))\n",
    "models.append(('SVR', SVR()))\n",
    "# evaluate each model in turn\n",
    "results = []\n",
    "names = []\n",
    "for name, model in models:\n",
    "    kfold = KFold(n_splits=num_folds, random_state=seed, shuffle=True)\n",
    "    cv_results = cross_val_score(model, X_train, y_train, cv=kfold, scoring=scoring)\n",
    "    results.append(cv_results)\n",
    "    names.append(name)\n",
    "    msg = \"%s: %f (%f)\" % (name, cv_results.mean(), cv_results.std())\n",
    "    print(msg)"
   ]
  },
  {
   "cell_type": "code",
   "execution_count": 873,
   "metadata": {},
   "outputs": [
    {
     "data": {
      "image/png": "[encoded data removed]",
      "text/plain": [
       "<Figure size 1080x360 with 1 Axes>"
      ]
     },
     "metadata": {},
     "output_type": "display_data"
    }
   ],
   "source": [
    "# Compare Algorithms\n",
    "fig = plt.figure()\n",
    "fig.suptitle('Algorithm Comparison')\n",
    "ax = fig.add_subplot(111)\n",
    "plt.boxplot(results)\n",
    "ax.set_xticklabels(names)\n",
    "plt.show()"
   ]
  },
  {
   "cell_type": "markdown",
   "metadata": {},
   "source": [
    "### 5. Evaluate Algorithms: Standardize Data"
   ]
  },
  {
   "cell_type": "code",
   "execution_count": 874,
   "metadata": {},
   "outputs": [
    {
     "name": "stdout",
     "output_type": "stream",
     "text": [
      "ScaledLR: -0.388474 (0.018861)\n",
      "ScaledLASSO: -0.376086 (0.018119)\n",
      "ScaledEN: -0.388118 (0.015455)\n",
      "ScaledKNN: -0.039420 (0.000024)\n",
      "ScaledCART: -0.028199 (0.000837)\n",
      "ScaledSVR: -0.517738 (0.019226)\n"
     ]
    }
   ],
   "source": [
    "# Standardize the dataset\n",
    "pipelines = []\n",
    "pipelines.append(('ScaledLR', Pipeline([('Scaler', StandardScaler()),('LR',\n",
    "LinearRegression())])))\n",
    "pipelines.append(('ScaledLASSO', Pipeline([('Scaler', StandardScaler()),('LASSO',\n",
    "Lasso())])))\n",
    "pipelines.append(('ScaledEN', Pipeline([('Scaler', StandardScaler()),('EN',\n",
    "ElasticNet())])))\n",
    "pipelines.append(('ScaledKNN', Pipeline([('Scaler', StandardScaler()),('KNN',\n",
    "KNeighborsRegressor())])))\n",
    "pipelines.append(('ScaledCART', Pipeline([('Scaler', StandardScaler()),('CART',\n",
    "DecisionTreeRegressor())])))\n",
    "pipelines.append(('ScaledSVR', Pipeline([('Scaler', StandardScaler()),('SVR', SVR())])))\n",
    "results = []\n",
    "names = []\n",
    "for name, model in pipelines:\n",
    "    kfold = KFold(n_splits=num_folds, random_state=seed, shuffle=True)\n",
    "    cv_results = cross_val_score(model, X_train, y_train, cv=kfold, scoring=scoring)\n",
    "    results.append(cv_results)\n",
    "    names.append(name)\n",
    "    msg = \"%s: %f (%f)\" % (name, cv_results.mean(), cv_results.std())\n",
    "    print(msg)"
   ]
  },
  {
   "cell_type": "code",
   "execution_count": 875,
   "metadata": {},
   "outputs": [
    {
     "data": {
      "image/png": "[encoded data removed]",
      "text/plain": [
       "<Figure size 1080x360 with 1 Axes>"
      ]
     },
     "metadata": {},
     "output_type": "display_data"
    }
   ],
   "source": [
    "# Compare Algorithms\n",
    "fig = plt.figure()\n",
    "fig.suptitle('Scaled Algorithm Comparison')\n",
    "ax = fig.add_subplot(111)\n",
    "plt.boxplot(results)\n",
    "ax.set_xticklabels(names)\n",
    "plt.show()"
   ]
  },
  {
   "cell_type": "code",
   "execution_count": null,
   "metadata": {},
   "outputs": [],
   "source": []
  },
  {
   "cell_type": "markdown",
   "metadata": {},
   "source": [
    "### 6. Algorithm Tuning"
   ]
  },
  {
   "cell_type": "code",
   "execution_count": 876,
   "metadata": {},
   "outputs": [
    {
     "name": "stdout",
     "output_type": "stream",
     "text": [
      "Best: -0.027780 using {'max_depth': 17}\n",
      "-0.873338 (0.017303) with: {'max_depth': 1}\n",
      "-0.181490 (0.002615) with: {'max_depth': 3}\n",
      "-0.078755 (0.000523) with: {'max_depth': 5}\n",
      "-0.049155 (0.000044) with: {'max_depth': 7}\n",
      "-0.037089 (0.002136) with: {'max_depth': 9}\n",
      "-0.031127 (0.001771) with: {'max_depth': 11}\n",
      "-0.029316 (0.001626) with: {'max_depth': 13}\n",
      "-0.028532 (0.001537) with: {'max_depth': 15}\n",
      "-0.027780 (0.001231) with: {'max_depth': 17}\n",
      "-0.028385 (0.001566) with: {'max_depth': 19}\n",
      "-0.028324 (0.001266) with: {'max_depth': 21}\n"
     ]
    }
   ],
   "source": [
    "# KNN Algorithm tuning\n",
    "scaler = StandardScaler().fit(X_train)\n",
    "rescaledX = scaler.transform(X_train)\n",
    "k_values = np.array([1,3,5,7,9,11,13,15,17,19,21])\n",
    "param_grid = dict(max_depth=k_values)\n",
    "model = DecisionTreeRegressor()\n",
    "kfold = KFold(n_splits=num_folds, random_state=seed, shuffle=True)\n",
    "grid = GridSearchCV(estimator=model, param_grid=param_grid, scoring=scoring, cv=kfold)\n",
    "grid_result = grid.fit(rescaledX, y_train)\n",
    "print(\"Best: %f using %s\" % (grid_result.best_score_, grid_result.best_params_))\n",
    "means = grid_result.cv_results_['mean_test_score']\n",
    "stds = grid_result.cv_results_['std_test_score']\n",
    "params = grid_result.cv_results_['params']\n",
    "for mean, stdev, param in zip(means, stds, params):\n",
    "    print(\"%f (%f) with: %r\" % (mean, stdev, param))"
   ]
  },
  {
   "cell_type": "markdown",
   "metadata": {},
   "source": [
    "### 7. Ensemble Methods"
   ]
  },
  {
   "cell_type": "code",
   "execution_count": 877,
   "metadata": {},
   "outputs": [
    {
     "name": "stdout",
     "output_type": "stream",
     "text": [
      "ScaledAB: -0.152536 (0.019689)\n",
      "ScaledGBM: -0.058643 (0.002918)\n",
      "ScaledRF: -0.027934 (0.001355)\n",
      "ScaledET: -0.022977 (0.000617)\n"
     ]
    }
   ],
   "source": [
    "# ensembles\n",
    "ensembles = []\n",
    "ensembles.append(('ScaledAB', Pipeline([('Scaler', StandardScaler()),('AB',\n",
    "AdaBoostRegressor())])))\n",
    "ensembles.append(('ScaledGBM', Pipeline([('Scaler', StandardScaler()),('GBM',\n",
    "GradientBoostingRegressor())])))\n",
    "ensembles.append(('ScaledRF', Pipeline([('Scaler', StandardScaler()),('RF',\n",
    "RandomForestRegressor(n_estimators=10))])))\n",
    "ensembles.append(('ScaledET', Pipeline([('Scaler', StandardScaler()),('ET',\n",
    "ExtraTreesRegressor(n_estimators=10))])))\n",
    "results = []\n",
    "names = []\n",
    "for name, model in ensembles:\n",
    "    kfold = KFold(n_splits=num_folds, random_state=seed, shuffle=True)\n",
    "    cv_results = cross_val_score(model, X_train, y_train, cv=kfold, scoring=scoring)\n",
    "    results.append(cv_results)\n",
    "    names.append(name)\n",
    "    msg = \"%s: %f (%f)\" % (name, cv_results.mean(), cv_results.std())\n",
    "    print(msg)"
   ]
  },
  {
   "cell_type": "code",
   "execution_count": 878,
   "metadata": {},
   "outputs": [
    {
     "data": {
      "image/png": "[encoded data removed]",
      "text/plain": [
       "<Figure size 1080x360 with 1 Axes>"
      ]
     },
     "metadata": {},
     "output_type": "display_data"
    }
   ],
   "source": [
    "# Compare Algorithms\n",
    "fig = plt.figure()\n",
    "fig.suptitle('Scaled Ensemble Algorithm Comparison')\n",
    "ax = fig.add_subplot(111)\n",
    "plt.boxplot(results)\n",
    "ax.set_xticklabels(names)\n",
    "plt.show()"
   ]
  },
  {
   "cell_type": "code",
   "execution_count": 879,
   "metadata": {},
   "outputs": [],
   "source": [
    "# Tune scaled GBM\n",
    "scaler = StandardScaler().fit(X_train)\n",
    "rescaledX = scaler.transform(X_train)\n",
    "param_grid = dict(n_estimators=np.array([50,100,150,200,250,300,350,400]))\n",
    "model = ExtraTreesRegressor(random_state=seed)\n",
    "kfold = KFold(n_splits=num_folds, random_state=seed, shuffle=True)\n",
    "grid = GridSearchCV(estimator=model, param_grid=param_grid, scoring=scoring, cv=kfold)\n",
    "grid_result = grid.fit(rescaledX, y_train)"
   ]
  },
  {
   "cell_type": "code",
   "execution_count": 880,
   "metadata": {},
   "outputs": [
    {
     "name": "stdout",
     "output_type": "stream",
     "text": [
      "Best: -0.021180 using {'n_estimators': 400}\n",
      "-0.021447 (0.000399) with: {'n_estimators': 50}\n",
      "-0.021389 (0.000488) with: {'n_estimators': 100}\n",
      "-0.021274 (0.000467) with: {'n_estimators': 150}\n",
      "-0.021290 (0.000478) with: {'n_estimators': 200}\n",
      "-0.021267 (0.000511) with: {'n_estimators': 250}\n",
      "-0.021248 (0.000568) with: {'n_estimators': 300}\n",
      "-0.021219 (0.000566) with: {'n_estimators': 350}\n",
      "-0.021180 (0.000570) with: {'n_estimators': 400}\n"
     ]
    }
   ],
   "source": [
    "print(\"Best: %f using %s\" % (grid_result.best_score_, grid_result.best_params_))\n",
    "means = grid_result.cv_results_['mean_test_score']\n",
    "stds = grid_result.cv_results_['std_test_score']\n",
    "params = grid_result.cv_results_['params']\n",
    "for mean, stdev, param in zip(means, stds, params):\n",
    "    print(\"%f (%f) with: %r\" % (mean, stdev, param))"
   ]
  },
  {
   "cell_type": "markdown",
   "metadata": {},
   "source": [
    "### 8. Finalize Model"
   ]
  },
  {
   "cell_type": "code",
   "execution_count": 908,
   "metadata": {},
   "outputs": [
    {
     "data": {
      "text/html": [
       "<style>#sk-container-id-36 {color: black;}#sk-container-id-36 pre{padding: 0;}#sk-container-id-36 div.sk-toggleable {background-color: white;}#sk-container-id-36 label.sk-toggleable__label {cursor: pointer;display: block;width: 100%;margin-bottom: 0;padding: 0.3em;box-sizing: border-box;text-align: center;}#sk-container-id-36 label.sk-toggleable__label-arrow:before {content: \"▸\";float: left;margin-right: 0.25em;color: #696969;}#sk-container-id-36 label.sk-toggleable__label-arrow:hover:before {color: black;}#sk-container-id-36 div.sk-estimator:hover label.sk-toggleable__label-arrow:before {color: black;}#sk-container-id-36 div.sk-toggleable__content {max-height: 0;max-width: 0;overflow: hidden;text-align: left;background-color: #f0f8ff;}#sk-container-id-36 div.sk-toggleable__content pre {margin: 0.2em;color: black;border-radius: 0.25em;background-color: #f0f8ff;}#sk-container-id-36 input.sk-toggleable__control:checked~div.sk-toggleable__content {max-height: 200px;max-width: 100%;overflow: auto;}#sk-container-id-36 input.sk-toggleable__control:checked~label.sk-toggleable__label-arrow:before {content: \"▾\";}#sk-container-id-36 div.sk-estimator input.sk-toggleable__control:checked~label.sk-toggleable__label {background-color: #d4ebff;}#sk-container-id-36 div.sk-label input.sk-toggleable__control:checked~label.sk-toggleable__label {background-color: #d4ebff;}#sk-container-id-36 input.sk-hidden--visually {border: 0;clip: rect(1px 1px 1px 1px);clip: rect(1px, 1px, 1px, 1px);height: 1px;margin: -1px;overflow: hidden;padding: 0;position: absolute;width: 1px;}#sk-container-id-36 div.sk-estimator {font-family: monospace;background-color: #f0f8ff;border: 1px dotted black;border-radius: 0.25em;box-sizing: border-box;margin-bottom: 0.5em;}#sk-container-id-36 div.sk-estimator:hover {background-color: #d4ebff;}#sk-container-id-36 div.sk-parallel-item::after {content: \"\";width: 100%;border-bottom: 1px solid gray;flex-grow: 1;}#sk-container-id-36 div.sk-label:hover label.sk-toggleable__label {background-color: #d4ebff;}#sk-container-id-36 div.sk-serial::before {content: \"\";position: absolute;border-left: 1px solid gray;box-sizing: border-box;top: 0;bottom: 0;left: 50%;z-index: 0;}#sk-container-id-36 div.sk-serial {display: flex;flex-direction: column;align-items: center;background-color: white;padding-right: 0.2em;padding-left: 0.2em;position: relative;}#sk-container-id-36 div.sk-item {position: relative;z-index: 1;}#sk-container-id-36 div.sk-parallel {display: flex;align-items: stretch;justify-content: center;background-color: white;position: relative;}#sk-container-id-36 div.sk-item::before, #sk-container-id-36 div.sk-parallel-item::before {content: \"\";position: absolute;border-left: 1px solid gray;box-sizing: border-box;top: 0;bottom: 0;left: 50%;z-index: -1;}#sk-container-id-36 div.sk-parallel-item {display: flex;flex-direction: column;z-index: 1;position: relative;background-color: white;}#sk-container-id-36 div.sk-parallel-item:first-child::after {align-self: flex-end;width: 50%;}#sk-container-id-36 div.sk-parallel-item:last-child::after {align-self: flex-start;width: 50%;}#sk-container-id-36 div.sk-parallel-item:only-child::after {width: 0;}#sk-container-id-36 div.sk-dashed-wrapped {border: 1px dashed gray;margin: 0 0.4em 0.5em 0.4em;box-sizing: border-box;padding-bottom: 0.4em;background-color: white;}#sk-container-id-36 div.sk-label label {font-family: monospace;font-weight: bold;display: inline-block;line-height: 1.2em;}#sk-container-id-36 div.sk-label-container {text-align: center;}#sk-container-id-36 div.sk-container {/* jupyter's `normalize.less` sets `[hidden] { display: none; }` but bootstrap.min.css set `[hidden] { display: none !important; }` so we also need the `!important` here to be able to override the default hidden behavior on the sphinx rendered scikit-learn.org. See: https://github.com/scikit-learn/scikit-learn/issues/21755 */display: inline-block !important;position: relative;}#sk-container-id-36 div.sk-text-repr-fallback {display: none;}</style><div id=\"sk-container-id-36\" class=\"sk-top-container\"><div class=\"sk-text-repr-fallback\"><pre>ExtraTreesRegressor(n_estimators=400, random_state=7)</pre><b>In a Jupyter environment, please rerun this cell to show the HTML representation or trust the notebook. <br />On GitHub, the HTML representation is unable to render, please try loading this page with nbviewer.org.</b></div><div class=\"sk-container\" hidden><div class=\"sk-item\"><div class=\"sk-estimator sk-toggleable\"><input class=\"sk-toggleable__control sk-hidden--visually\" id=\"sk-estimator-id-48\" type=\"checkbox\" checked><label for=\"sk-estimator-id-48\" class=\"sk-toggleable__label sk-toggleable__label-arrow\">ExtraTreesRegressor</label><div class=\"sk-toggleable__content\"><pre>ExtraTreesRegressor(n_estimators=400, random_state=7)</pre></div></div></div></div></div>"
      ],
      "text/plain": [
       "ExtraTreesRegressor(n_estimators=400, random_state=7)"
      ]
     },
     "execution_count": 908,
     "metadata": {},
     "output_type": "execute_result"
    }
   ],
   "source": [
    "# prepare the model\n",
    "scaler = StandardScaler().fit(X_train)\n",
    "rescaledX = scaler.transform(X_train)\n",
    "model = ExtraTreesRegressor(random_state=seed, n_estimators=400)\n",
    "model.fit(rescaledX, y_train)"
   ]
  },
  {
   "cell_type": "code",
   "execution_count": 909,
   "metadata": {},
   "outputs": [
    {
     "name": "stdout",
     "output_type": "stream",
     "text": [
      "0.9991814728737879\n",
      "39.12456713305329\n",
      "2.879074420024507\n",
      "0.011342786867555335\n"
     ]
    }
   ],
   "source": [
    "# transform the validation dataset\n",
    "rescaledValidationX = scaler.transform(X_test)\n",
    "predictions = model.predict(rescaledValidationX)\n",
    "print(r2_score(y_test, predictions))\n",
    "print(mean_squared_error(y_test, predictions))\n",
    "print(mean_absolute_error(y_test, predictions))\n",
    "print(mean_absolute_percentage_error(y_test, predictions))"
   ]
  },
  {
   "cell_type": "code",
   "execution_count": 924,
   "metadata": {},
   "outputs": [
    {
     "data": {
      "text/plain": [
       "array([[8.18300000e+03, 9.11075000e+01, 7.42000000e+00, 7.56101142e+03,\n",
       "        1.81941678e+11, 9.95958000e+10],\n",
       "       [8.18400000e+03, 9.19500000e+01, 7.42000000e+00, 7.68518100e+03,\n",
       "        1.83624150e+11, 9.95958000e+10],\n",
       "       [8.18500000e+03, 9.19500000e+01, 7.42000000e+00, 7.71276600e+03,\n",
       "        1.83624150e+11, 9.95958000e+10]])"
      ]
     },
     "execution_count": 924,
     "metadata": {},
     "output_type": "execute_result"
    }
   ],
   "source": [
    "np.array(df.iloc[-4:-1, 1:])"
   ]
  },
  {
   "cell_type": "code",
   "execution_count": 916,
   "metadata": {},
   "outputs": [
    {
     "data": {
      "text/plain": [
       "array([[7.69800000e+03, 7.21225000e+01, 7.42000000e+00, 5.66666482e+03,\n",
       "        1.44028632e+11, 8.23880000e+10],\n",
       "       [3.54100000e+03, 2.90975000e+01, 6.10000000e+00, 3.15300510e+03,\n",
       "        5.95509435e+10, 2.08281000e+10],\n",
       "       [2.84400000e+03, 3.01345000e+01, 8.80000000e+00, 1.95331829e+03,\n",
       "        3.94129126e+10, 1.27973000e+10],\n",
       "       ...,\n",
       "       [4.21900000e+03, 3.28350000e+01, 6.45000000e+00, 3.35442360e+03,\n",
       "        7.51396140e+10, 2.75934000e+10],\n",
       "       [3.31900000e+03, 3.00995000e+01, 6.10000000e+00, 2.95336294e+03,\n",
       "        6.16016367e+10, 2.00119000e+10],\n",
       "       [2.64700000e+03, 3.49970000e+01, 8.80000000e+00, 1.44887580e+03,\n",
       "        4.57725763e+10, 1.14652000e+10]])"
      ]
     },
     "execution_count": 916,
     "metadata": {},
     "output_type": "execute_result"
    }
   ],
   "source": []
  },
  {
   "cell_type": "code",
   "execution_count": 925,
   "metadata": {},
   "outputs": [
    {
     "data": {
      "text/plain": [
       "array([[ 1.7303264 ,  2.13622882, -0.38258841,  2.36544485,  2.27583061,\n",
       "         2.82913539],\n",
       "       [ 1.73074966,  2.17650701, -0.38258841,  2.43297479,  2.31136207,\n",
       "         2.82913539],\n",
       "       [ 1.73117292,  2.17650701, -0.38258841,  2.44797696,  2.31136207,\n",
       "         2.82913539]])"
      ]
     },
     "execution_count": 925,
     "metadata": {},
     "output_type": "execute_result"
    }
   ],
   "source": [
    "scaler.transform(np.array(df.iloc[-4:-1, 1:]))"
   ]
  },
  {
   "cell_type": "code",
   "execution_count": 957,
   "metadata": {},
   "outputs": [
    {
     "name": "stdout",
     "output_type": "stream",
     "text": [
      "Forecasted Values: [719.56975]\n"
     ]
    }
   ],
   "source": [
    "factors = scaler.transform(np.array([[8187,94.163,7.42,7595.3,184233200000.0,99595800000.0]]))  # Example list of factors\n",
    "\n",
    "# Make predictions\n",
    "pep = model.predict(factors)\n",
    "\n",
    "# Print or use the forecasted values\n",
    "print(\"Forecasted Values:\", pep)"
   ]
  },
  {
   "cell_type": "code",
   "execution_count": 956,
   "metadata": {},
   "outputs": [
    {
     "name": "stdout",
     "output_type": "stream",
     "text": [
      "Forecasted Values: [455.30615]\n"
     ]
    }
   ],
   "source": [
    "factors = scaler.transform(np.array([[8419,104.65,5.1,8058.05,173606615000.0,112000000.0]]))  # Example list of factors\n",
    "\n",
    "# Make predictions\n",
    "pep = model.predict(factors)\n",
    "\n",
    "# Print or use the forecasted values\n",
    "print(\"Forecasted Values:\", pep)"
   ]
  },
  {
   "cell_type": "code",
   "execution_count": 941,
   "metadata": {},
   "outputs": [
    {
     "data": {
      "text/html": [
       "<div>\n",
       "<style scoped>\n",
       "    .dataframe tbody tr th:only-of-type {\n",
       "        vertical-align: middle;\n",
       "    }\n",
       "\n",
       "    .dataframe tbody tr th {\n",
       "        vertical-align: top;\n",
       "    }\n",
       "\n",
       "    .dataframe thead th {\n",
       "        text-align: right;\n",
       "    }\n",
       "</style>\n",
       "<table border=\"1\" class=\"dataframe\">\n",
       "  <thead>\n",
       "    <tr style=\"text-align: right;\">\n",
       "      <th></th>\n",
       "      <th>Price</th>\n",
       "      <th>index</th>\n",
       "      <th>USD/RUB</th>\n",
       "      <th>Inflation/year</th>\n",
       "      <th>Brent</th>\n",
       "      <th>vvp</th>\n",
       "      <th>M2</th>\n",
       "    </tr>\n",
       "  </thead>\n",
       "  <tbody>\n",
       "    <tr>\n",
       "      <th>0</th>\n",
       "      <td>15.09</td>\n",
       "      <td>0</td>\n",
       "      <td>30.0750</td>\n",
       "      <td>18.58</td>\n",
       "      <td>538.643250</td>\n",
       "      <td>9.879637e+09</td>\n",
       "      <td>1.448200e+09</td>\n",
       "    </tr>\n",
       "    <tr>\n",
       "      <th>1</th>\n",
       "      <td>15.09</td>\n",
       "      <td>1</td>\n",
       "      <td>30.1080</td>\n",
       "      <td>18.58</td>\n",
       "      <td>547.965600</td>\n",
       "      <td>9.890478e+09</td>\n",
       "      <td>1.448200e+09</td>\n",
       "    </tr>\n",
       "    <tr>\n",
       "      <th>2</th>\n",
       "      <td>14.35</td>\n",
       "      <td>2</td>\n",
       "      <td>30.3350</td>\n",
       "      <td>18.58</td>\n",
       "      <td>539.963000</td>\n",
       "      <td>9.965048e+09</td>\n",
       "      <td>1.448200e+09</td>\n",
       "    </tr>\n",
       "    <tr>\n",
       "      <th>3</th>\n",
       "      <td>14.35</td>\n",
       "      <td>3</td>\n",
       "      <td>30.3350</td>\n",
       "      <td>18.58</td>\n",
       "      <td>557.557300</td>\n",
       "      <td>9.965048e+09</td>\n",
       "      <td>1.448200e+09</td>\n",
       "    </tr>\n",
       "    <tr>\n",
       "      <th>4</th>\n",
       "      <td>14.35</td>\n",
       "      <td>4</td>\n",
       "      <td>30.3350</td>\n",
       "      <td>18.58</td>\n",
       "      <td>557.557300</td>\n",
       "      <td>9.965048e+09</td>\n",
       "      <td>1.448200e+09</td>\n",
       "    </tr>\n",
       "    <tr>\n",
       "      <th>...</th>\n",
       "      <td>...</td>\n",
       "      <td>...</td>\n",
       "      <td>...</td>\n",
       "      <td>...</td>\n",
       "      <td>...</td>\n",
       "      <td>...</td>\n",
       "      <td>...</td>\n",
       "    </tr>\n",
       "    <tr>\n",
       "      <th>8182</th>\n",
       "      <td>715.10</td>\n",
       "      <td>8182</td>\n",
       "      <td>91.3475</td>\n",
       "      <td>7.42</td>\n",
       "      <td>7636.651000</td>\n",
       "      <td>1.824210e+11</td>\n",
       "      <td>9.959580e+10</td>\n",
       "    </tr>\n",
       "    <tr>\n",
       "      <th>8183</th>\n",
       "      <td>718.00</td>\n",
       "      <td>8183</td>\n",
       "      <td>91.1075</td>\n",
       "      <td>7.42</td>\n",
       "      <td>7561.011425</td>\n",
       "      <td>1.819417e+11</td>\n",
       "      <td>9.959580e+10</td>\n",
       "    </tr>\n",
       "    <tr>\n",
       "      <th>8184</th>\n",
       "      <td>721.80</td>\n",
       "      <td>8184</td>\n",
       "      <td>91.9500</td>\n",
       "      <td>7.42</td>\n",
       "      <td>7685.181000</td>\n",
       "      <td>1.836242e+11</td>\n",
       "      <td>9.959580e+10</td>\n",
       "    </tr>\n",
       "    <tr>\n",
       "      <th>8185</th>\n",
       "      <td>721.80</td>\n",
       "      <td>8185</td>\n",
       "      <td>91.9500</td>\n",
       "      <td>7.42</td>\n",
       "      <td>7712.766000</td>\n",
       "      <td>1.836242e+11</td>\n",
       "      <td>9.959580e+10</td>\n",
       "    </tr>\n",
       "    <tr>\n",
       "      <th>8186</th>\n",
       "      <td>728.90</td>\n",
       "      <td>8186</td>\n",
       "      <td>92.2550</td>\n",
       "      <td>7.42</td>\n",
       "      <td>7637.791450</td>\n",
       "      <td>1.842332e+11</td>\n",
       "      <td>9.959580e+10</td>\n",
       "    </tr>\n",
       "  </tbody>\n",
       "</table>\n",
       "<p>8187 rows × 7 columns</p>\n",
       "</div>"
      ],
      "text/plain": [
       "       Price  index  USD/RUB  Inflation/year        Brent           vvp  \\\n",
       "0      15.09      0  30.0750           18.58   538.643250  9.879637e+09   \n",
       "1      15.09      1  30.1080           18.58   547.965600  9.890478e+09   \n",
       "2      14.35      2  30.3350           18.58   539.963000  9.965048e+09   \n",
       "3      14.35      3  30.3350           18.58   557.557300  9.965048e+09   \n",
       "4      14.35      4  30.3350           18.58   557.557300  9.965048e+09   \n",
       "...      ...    ...      ...             ...          ...           ...   \n",
       "8182  715.10   8182  91.3475            7.42  7636.651000  1.824210e+11   \n",
       "8183  718.00   8183  91.1075            7.42  7561.011425  1.819417e+11   \n",
       "8184  721.80   8184  91.9500            7.42  7685.181000  1.836242e+11   \n",
       "8185  721.80   8185  91.9500            7.42  7712.766000  1.836242e+11   \n",
       "8186  728.90   8186  92.2550            7.42  7637.791450  1.842332e+11   \n",
       "\n",
       "                M2  \n",
       "0     1.448200e+09  \n",
       "1     1.448200e+09  \n",
       "2     1.448200e+09  \n",
       "3     1.448200e+09  \n",
       "4     1.448200e+09  \n",
       "...            ...  \n",
       "8182  9.959580e+10  \n",
       "8183  9.959580e+10  \n",
       "8184  9.959580e+10  \n",
       "8185  9.959580e+10  \n",
       "8186  9.959580e+10  \n",
       "\n",
       "[8187 rows x 7 columns]"
      ]
     },
     "execution_count": 941,
     "metadata": {},
     "output_type": "execute_result"
    }
   ],
   "source": [
    "df"
   ]
  },
  {
   "cell_type": "code",
   "execution_count": 677,
   "metadata": {},
   "outputs": [],
   "source": [
    "\n",
    "X_train = pd.DataFrame(X_train, columns=['index', 'M2','vvp', 'USD/RUB', 'Inflation/year', 'Brent'])"
   ]
  },
  {
   "cell_type": "code",
   "execution_count": 678,
   "metadata": {},
   "outputs": [
    {
     "data": {
      "text/plain": [
       "Index(['Price', 'index', 'USD/RUB', 'Inflation/year', 'Brent', 'vvp', 'M2'], dtype='object')"
      ]
     },
     "execution_count": 678,
     "metadata": {},
     "output_type": "execute_result"
    }
   ],
   "source": [
    "df.columns"
   ]
  },
  {
   "cell_type": "markdown",
   "metadata": {},
   "source": [
    "# Интерпретация параметров"
   ]
  },
  {
   "cell_type": "code",
   "execution_count": 679,
   "metadata": {},
   "outputs": [
    {
     "name": "stdout",
     "output_type": "stream",
     "text": [
      "                importance\n",
      "index             0.277617\n",
      "USD/RUB           0.253782\n",
      "M2                0.215741\n",
      "Inflation/year    0.148413\n",
      "Brent             0.097505\n",
      "vvp               0.006943\n"
     ]
    }
   ],
   "source": [
    "feature_importances = pd.DataFrame(model.feature_importances_, index=X_train.columns, columns=['importance']).sort_values('importance', ascending=False)\n",
    "print(feature_importances)"
   ]
  },
  {
   "cell_type": "code",
   "execution_count": 680,
   "metadata": {},
   "outputs": [
    {
     "data": {
      "image/png": "[encoded data removed]",
      "text/plain": [
       "<Figure size 1200x720 with 1 Axes>"
      ]
     },
     "metadata": {},
     "output_type": "display_data"
    }
   ],
   "source": [
    "import matplotlib.pyplot as plt\n",
    "\n",
    "plt.figure(figsize=(10, 6))\n",
    "plt.barh(feature_importances.index, feature_importances['importance'])\n",
    "plt.xlabel('Важность признака')\n",
    "plt.ylabel('Признак')\n",
    "plt.title('Важность признаков')\n",
    "plt.show()"
   ]
  },
  {
   "cell_type": "code",
   "execution_count": 681,
   "metadata": {},
   "outputs": [
    {
     "name": "stdout",
     "output_type": "stream",
     "text": [
      "Requirement already satisfied: shap in c:\\users\\pelik\\anaconda\\lib\\site-packages (0.45.1)\n",
      "Requirement already satisfied: numpy in c:\\users\\pelik\\anaconda\\lib\\site-packages (from shap) (1.24.4)\n",
      "Requirement already satisfied: scipy in c:\\users\\pelik\\anaconda\\lib\\site-packages (from shap) (1.9.1)\n",
      "Requirement already satisfied: scikit-learn in c:\\users\\pelik\\anaconda\\lib\\site-packages (from shap) (1.3.0)\n",
      "Requirement already satisfied: pandas in c:\\users\\pelik\\anaconda\\lib\\site-packages (from shap) (2.2.2)\n",
      "Requirement already satisfied: tqdm>=4.27.0 in c:\\users\\pelik\\anaconda\\lib\\site-packages (from shap) (4.65.2)\n",
      "Requirement already satisfied: packaging>20.9 in c:\\users\\pelik\\anaconda\\lib\\site-packages (from shap) (21.3)\n",
      "Requirement already satisfied: slicer==0.0.8 in c:\\users\\pelik\\anaconda\\lib\\site-packages (from shap) (0.0.8)\n",
      "Requirement already satisfied: numba in c:\\users\\pelik\\appdata\\roaming\\python\\python39\\site-packages (from shap) (0.59.1)\n",
      "Requirement already satisfied: cloudpickle in c:\\users\\pelik\\anaconda\\lib\\site-packages (from shap) (2.0.0)\n",
      "Requirement already satisfied: pyparsing!=3.0.5,>=2.0.2 in c:\\users\\pelik\\anaconda\\lib\\site-packages (from packaging>20.9->shap) (3.0.9)\n",
      "Requirement already satisfied: colorama in c:\\users\\pelik\\anaconda\\lib\\site-packages (from tqdm>=4.27.0->shap) (0.4.6)\n",
      "Requirement already satisfied: llvmlite<0.43,>=0.42.0dev0 in c:\\users\\pelik\\appdata\\roaming\\python\\python39\\site-packages (from numba->shap) (0.42.0)\n",
      "Requirement already satisfied: python-dateutil>=2.8.2 in c:\\users\\pelik\\appdata\\roaming\\python\\python39\\site-packages (from pandas->shap) (2.9.0.post0)\n",
      "Requirement already satisfied: pytz>=2020.1 in c:\\users\\pelik\\anaconda\\lib\\site-packages (from pandas->shap) (2023.4)\n",
      "Requirement already satisfied: tzdata>=2022.7 in c:\\users\\pelik\\appdata\\roaming\\python\\python39\\site-packages (from pandas->shap) (2024.1)\n",
      "Requirement already satisfied: joblib>=1.1.1 in c:\\users\\pelik\\anaconda\\lib\\site-packages (from scikit-learn->shap) (1.2.0)\n",
      "Requirement already satisfied: threadpoolctl>=2.0.0 in c:\\users\\pelik\\anaconda\\lib\\site-packages (from scikit-learn->shap) (2.2.0)\n",
      "Requirement already satisfied: six>=1.5 in c:\\users\\pelik\\appdata\\roaming\\python\\python39\\site-packages (from python-dateutil>=2.8.2->pandas->shap) (1.16.0)\n",
      "Note: you may need to restart the kernel to use updated packages.\n"
     ]
    }
   ],
   "source": [
    "pip install shap"
   ]
  },
  {
   "cell_type": "code",
   "execution_count": 682,
   "metadata": {},
   "outputs": [
    {
     "data": {
      "image/png": "[encoded data removed]",
      "text/plain": [
       "<Figure size 960x468 with 2 Axes>"
      ]
     },
     "metadata": {},
     "output_type": "display_data"
    }
   ],
   "source": [
    "import shap\n",
    "\n",
    "explainer = shap.Explainer(model)\n",
    "shap_values = explainer.shap_values(X_train)\n",
    "shap.summary_plot(shap_values, X_train)"
   ]
  },
  {
   "cell_type": "code",
   "execution_count": 861,
   "metadata": {},
   "outputs": [
    {
     "ename": "AttributeError",
     "evalue": "'numpy.ndarray' object has no attribute 'columns'",
     "output_type": "error",
     "traceback": [
      "\u001b[1;31m---------------------------------------------------------------------------\u001b[0m",
      "\u001b[1;31mAttributeError\u001b[0m                            Traceback (most recent call last)",
      "\u001b[1;32m~\\AppData\\Local\\Temp\\ipykernel_4328\\829181101.py\u001b[0m in \u001b[0;36m<module>\u001b[1;34m\u001b[0m\n\u001b[1;32m----> 1\u001b[1;33m \u001b[0mX_train\u001b[0m\u001b[1;33m.\u001b[0m\u001b[0mcolumns\u001b[0m\u001b[1;33m\u001b[0m\u001b[1;33m\u001b[0m\u001b[0m\n\u001b[0m",
      "\u001b[1;31mAttributeError\u001b[0m: 'numpy.ndarray' object has no attribute 'columns'"
     ]
    }
   ],
   "source": [
    "X_train.columns"
   ]
  },
  {
   "cell_type": "code",
   "execution_count": 867,
   "metadata": {},
   "outputs": [
    {
     "data": {
      "text/html": [
       "<div>\n",
       "<style scoped>\n",
       "    .dataframe tbody tr th:only-of-type {\n",
       "        vertical-align: middle;\n",
       "    }\n",
       "\n",
       "    .dataframe tbody tr th {\n",
       "        vertical-align: top;\n",
       "    }\n",
       "\n",
       "    .dataframe thead th {\n",
       "        text-align: right;\n",
       "    }\n",
       "</style>\n",
       "<table border=\"1\" class=\"dataframe\">\n",
       "  <thead>\n",
       "    <tr style=\"text-align: right;\">\n",
       "      <th></th>\n",
       "      <th>Price</th>\n",
       "      <th>index</th>\n",
       "      <th>USD/RUB</th>\n",
       "      <th>Inflation/year</th>\n",
       "      <th>Brent</th>\n",
       "      <th>vvp</th>\n",
       "      <th>M2</th>\n",
       "    </tr>\n",
       "  </thead>\n",
       "  <tbody>\n",
       "    <tr>\n",
       "      <th>0</th>\n",
       "      <td>15.09</td>\n",
       "      <td>0</td>\n",
       "      <td>30.0750</td>\n",
       "      <td>18.58</td>\n",
       "      <td>538.643250</td>\n",
       "      <td>9.879637e+09</td>\n",
       "      <td>1.448200e+09</td>\n",
       "    </tr>\n",
       "    <tr>\n",
       "      <th>1</th>\n",
       "      <td>15.09</td>\n",
       "      <td>1</td>\n",
       "      <td>30.1080</td>\n",
       "      <td>18.58</td>\n",
       "      <td>547.965600</td>\n",
       "      <td>9.890478e+09</td>\n",
       "      <td>1.448200e+09</td>\n",
       "    </tr>\n",
       "    <tr>\n",
       "      <th>2</th>\n",
       "      <td>14.35</td>\n",
       "      <td>2</td>\n",
       "      <td>30.3350</td>\n",
       "      <td>18.58</td>\n",
       "      <td>539.963000</td>\n",
       "      <td>9.965048e+09</td>\n",
       "      <td>1.448200e+09</td>\n",
       "    </tr>\n",
       "    <tr>\n",
       "      <th>3</th>\n",
       "      <td>14.35</td>\n",
       "      <td>3</td>\n",
       "      <td>30.3350</td>\n",
       "      <td>18.58</td>\n",
       "      <td>557.557300</td>\n",
       "      <td>9.965048e+09</td>\n",
       "      <td>1.448200e+09</td>\n",
       "    </tr>\n",
       "    <tr>\n",
       "      <th>4</th>\n",
       "      <td>14.35</td>\n",
       "      <td>4</td>\n",
       "      <td>30.3350</td>\n",
       "      <td>18.58</td>\n",
       "      <td>557.557300</td>\n",
       "      <td>9.965048e+09</td>\n",
       "      <td>1.448200e+09</td>\n",
       "    </tr>\n",
       "    <tr>\n",
       "      <th>...</th>\n",
       "      <td>...</td>\n",
       "      <td>...</td>\n",
       "      <td>...</td>\n",
       "      <td>...</td>\n",
       "      <td>...</td>\n",
       "      <td>...</td>\n",
       "      <td>...</td>\n",
       "    </tr>\n",
       "    <tr>\n",
       "      <th>8182</th>\n",
       "      <td>715.10</td>\n",
       "      <td>8182</td>\n",
       "      <td>91.3475</td>\n",
       "      <td>7.42</td>\n",
       "      <td>7636.651000</td>\n",
       "      <td>1.824210e+11</td>\n",
       "      <td>9.959580e+10</td>\n",
       "    </tr>\n",
       "    <tr>\n",
       "      <th>8183</th>\n",
       "      <td>718.00</td>\n",
       "      <td>8183</td>\n",
       "      <td>91.1075</td>\n",
       "      <td>7.42</td>\n",
       "      <td>7561.011425</td>\n",
       "      <td>1.819417e+11</td>\n",
       "      <td>9.959580e+10</td>\n",
       "    </tr>\n",
       "    <tr>\n",
       "      <th>8184</th>\n",
       "      <td>721.80</td>\n",
       "      <td>8184</td>\n",
       "      <td>91.9500</td>\n",
       "      <td>7.42</td>\n",
       "      <td>7685.181000</td>\n",
       "      <td>1.836242e+11</td>\n",
       "      <td>9.959580e+10</td>\n",
       "    </tr>\n",
       "    <tr>\n",
       "      <th>8185</th>\n",
       "      <td>721.80</td>\n",
       "      <td>8185</td>\n",
       "      <td>91.9500</td>\n",
       "      <td>7.42</td>\n",
       "      <td>7712.766000</td>\n",
       "      <td>1.836242e+11</td>\n",
       "      <td>9.959580e+10</td>\n",
       "    </tr>\n",
       "    <tr>\n",
       "      <th>8186</th>\n",
       "      <td>728.90</td>\n",
       "      <td>8186</td>\n",
       "      <td>92.2550</td>\n",
       "      <td>7.42</td>\n",
       "      <td>7637.791450</td>\n",
       "      <td>1.842332e+11</td>\n",
       "      <td>9.959580e+10</td>\n",
       "    </tr>\n",
       "  </tbody>\n",
       "</table>\n",
       "<p>8187 rows × 7 columns</p>\n",
       "</div>"
      ],
      "text/plain": [
       "       Price  index  USD/RUB  Inflation/year        Brent           vvp  \\\n",
       "0      15.09      0  30.0750           18.58   538.643250  9.879637e+09   \n",
       "1      15.09      1  30.1080           18.58   547.965600  9.890478e+09   \n",
       "2      14.35      2  30.3350           18.58   539.963000  9.965048e+09   \n",
       "3      14.35      3  30.3350           18.58   557.557300  9.965048e+09   \n",
       "4      14.35      4  30.3350           18.58   557.557300  9.965048e+09   \n",
       "...      ...    ...      ...             ...          ...           ...   \n",
       "8182  715.10   8182  91.3475            7.42  7636.651000  1.824210e+11   \n",
       "8183  718.00   8183  91.1075            7.42  7561.011425  1.819417e+11   \n",
       "8184  721.80   8184  91.9500            7.42  7685.181000  1.836242e+11   \n",
       "8185  721.80   8185  91.9500            7.42  7712.766000  1.836242e+11   \n",
       "8186  728.90   8186  92.2550            7.42  7637.791450  1.842332e+11   \n",
       "\n",
       "                M2  \n",
       "0     1.448200e+09  \n",
       "1     1.448200e+09  \n",
       "2     1.448200e+09  \n",
       "3     1.448200e+09  \n",
       "4     1.448200e+09  \n",
       "...            ...  \n",
       "8182  9.959580e+10  \n",
       "8183  9.959580e+10  \n",
       "8184  9.959580e+10  \n",
       "8185  9.959580e+10  \n",
       "8186  9.959580e+10  \n",
       "\n",
       "[8187 rows x 7 columns]"
      ]
     },
     "execution_count": 867,
     "metadata": {},
     "output_type": "execute_result"
    }
   ],
   "source": [
    "df"
   ]
  },
  {
   "cell_type": "code",
   "execution_count": 897,
   "metadata": {},
   "outputs": [
    {
     "name": "stdout",
     "output_type": "stream",
     "text": [
      "Forecasted Values: [456.49775]\n"
     ]
    }
   ],
   "source": [
    "factors = [[850,1,74,75.9,1.82332,9.950]]  # Example list of factors\n",
    "\n",
    "# Make predictions\n",
    "pep = model.predict(factors)\n",
    "\n",
    "# Print or use the forecasted values\n",
    "print(\"Forecasted Values:\", pep)"
   ]
  },
  {
   "cell_type": "code",
   "execution_count": 700,
   "metadata": {},
   "outputs": [
    {
     "data": {
      "text/html": [
       "<style>#sk-container-id-16 {color: black;}#sk-container-id-16 pre{padding: 0;}#sk-container-id-16 div.sk-toggleable {background-color: white;}#sk-container-id-16 label.sk-toggleable__label {cursor: pointer;display: block;width: 100%;margin-bottom: 0;padding: 0.3em;box-sizing: border-box;text-align: center;}#sk-container-id-16 label.sk-toggleable__label-arrow:before {content: \"▸\";float: left;margin-right: 0.25em;color: #696969;}#sk-container-id-16 label.sk-toggleable__label-arrow:hover:before {color: black;}#sk-container-id-16 div.sk-estimator:hover label.sk-toggleable__label-arrow:before {color: black;}#sk-container-id-16 div.sk-toggleable__content {max-height: 0;max-width: 0;overflow: hidden;text-align: left;background-color: #f0f8ff;}#sk-container-id-16 div.sk-toggleable__content pre {margin: 0.2em;color: black;border-radius: 0.25em;background-color: #f0f8ff;}#sk-container-id-16 input.sk-toggleable__control:checked~div.sk-toggleable__content {max-height: 200px;max-width: 100%;overflow: auto;}#sk-container-id-16 input.sk-toggleable__control:checked~label.sk-toggleable__label-arrow:before {content: \"▾\";}#sk-container-id-16 div.sk-estimator input.sk-toggleable__control:checked~label.sk-toggleable__label {background-color: #d4ebff;}#sk-container-id-16 div.sk-label input.sk-toggleable__control:checked~label.sk-toggleable__label {background-color: #d4ebff;}#sk-container-id-16 input.sk-hidden--visually {border: 0;clip: rect(1px 1px 1px 1px);clip: rect(1px, 1px, 1px, 1px);height: 1px;margin: -1px;overflow: hidden;padding: 0;position: absolute;width: 1px;}#sk-container-id-16 div.sk-estimator {font-family: monospace;background-color: #f0f8ff;border: 1px dotted black;border-radius: 0.25em;box-sizing: border-box;margin-bottom: 0.5em;}#sk-container-id-16 div.sk-estimator:hover {background-color: #d4ebff;}#sk-container-id-16 div.sk-parallel-item::after {content: \"\";width: 100%;border-bottom: 1px solid gray;flex-grow: 1;}#sk-container-id-16 div.sk-label:hover label.sk-toggleable__label {background-color: #d4ebff;}#sk-container-id-16 div.sk-serial::before {content: \"\";position: absolute;border-left: 1px solid gray;box-sizing: border-box;top: 0;bottom: 0;left: 50%;z-index: 0;}#sk-container-id-16 div.sk-serial {display: flex;flex-direction: column;align-items: center;background-color: white;padding-right: 0.2em;padding-left: 0.2em;position: relative;}#sk-container-id-16 div.sk-item {position: relative;z-index: 1;}#sk-container-id-16 div.sk-parallel {display: flex;align-items: stretch;justify-content: center;background-color: white;position: relative;}#sk-container-id-16 div.sk-item::before, #sk-container-id-16 div.sk-parallel-item::before {content: \"\";position: absolute;border-left: 1px solid gray;box-sizing: border-box;top: 0;bottom: 0;left: 50%;z-index: -1;}#sk-container-id-16 div.sk-parallel-item {display: flex;flex-direction: column;z-index: 1;position: relative;background-color: white;}#sk-container-id-16 div.sk-parallel-item:first-child::after {align-self: flex-end;width: 50%;}#sk-container-id-16 div.sk-parallel-item:last-child::after {align-self: flex-start;width: 50%;}#sk-container-id-16 div.sk-parallel-item:only-child::after {width: 0;}#sk-container-id-16 div.sk-dashed-wrapped {border: 1px dashed gray;margin: 0 0.4em 0.5em 0.4em;box-sizing: border-box;padding-bottom: 0.4em;background-color: white;}#sk-container-id-16 div.sk-label label {font-family: monospace;font-weight: bold;display: inline-block;line-height: 1.2em;}#sk-container-id-16 div.sk-label-container {text-align: center;}#sk-container-id-16 div.sk-container {/* jupyter's `normalize.less` sets `[hidden] { display: none; }` but bootstrap.min.css set `[hidden] { display: none !important; }` so we also need the `!important` here to be able to override the default hidden behavior on the sphinx rendered scikit-learn.org. See: https://github.com/scikit-learn/scikit-learn/issues/21755 */display: inline-block !important;position: relative;}#sk-container-id-16 div.sk-text-repr-fallback {display: none;}</style><div id=\"sk-container-id-16\" class=\"sk-top-container\"><div class=\"sk-text-repr-fallback\"><pre>ExtraTreesRegressor(n_estimators=250, random_state=7)</pre><b>In a Jupyter environment, please rerun this cell to show the HTML representation or trust the notebook. <br />On GitHub, the HTML representation is unable to render, please try loading this page with nbviewer.org.</b></div><div class=\"sk-container\" hidden><div class=\"sk-item\"><div class=\"sk-estimator sk-toggleable\"><input class=\"sk-toggleable__control sk-hidden--visually\" id=\"sk-estimator-id-28\" type=\"checkbox\" checked><label for=\"sk-estimator-id-28\" class=\"sk-toggleable__label sk-toggleable__label-arrow\">ExtraTreesRegressor</label><div class=\"sk-toggleable__content\"><pre>ExtraTreesRegressor(n_estimators=250, random_state=7)</pre></div></div></div></div></div>"
      ],
      "text/plain": [
       "ExtraTreesRegressor(n_estimators=250, random_state=7)"
      ]
     },
     "execution_count": 700,
     "metadata": {},
     "output_type": "execute_result"
    }
   ],
   "source": [
    "model"
   ]
  }
 ],
 "metadata": {
  "kernelspec": {
   "display_name": ".venv",
   "language": "python",
   "name": "python3"
  },
  "language_info": {
   "codemirror_mode": {
    "name": "ipython",
    "version": 3
   },
   "file_extension": ".py",
   "mimetype": "text/x-python",
   "name": "python",
   "nbconvert_exporter": "python",
   "pygments_lexer": "ipython3",
   "version": "3.9.13"
  }
 },
 "nbformat": 4,
 "nbformat_minor": 2
}
