{
 "cells": [
  {
   "cell_type": "code",
   "execution_count": 1,
   "metadata": {},
   "outputs": [],
   "source": [
    "import pandas as pd\n",
    "import numpy as np\n",
    "import math as m"
   ]
  },
  {
   "cell_type": "code",
   "execution_count": 9,
   "metadata": {},
   "outputs": [],
   "source": [
    "# Load libraries\n",
    "import os\n",
    "import numpy\n",
    "from numpy import arange\n",
    "from matplotlib import pyplot\n",
    "from pandas import read_csv\n",
    "from pandas import set_option\n",
    "from pandas.plotting import scatter_matrix\n",
    "from sklearn.preprocessing import StandardScaler\n",
    "from sklearn.model_selection import train_test_split\n",
    "from sklearn.model_selection import KFold\n",
    "from sklearn.model_selection import cross_val_score\n",
    "from sklearn.model_selection import GridSearchCV\n",
    "from sklearn.linear_model import LinearRegression\n",
    "from sklearn.linear_model import Lasso\n",
    "from sklearn.linear_model import ElasticNet\n",
    "from sklearn.tree import DecisionTreeRegressor\n",
    "from sklearn.neighbors import KNeighborsRegressor\n",
    "from sklearn.svm import SVR\n",
    "from sklearn.pipeline import Pipeline\n",
    "from sklearn.ensemble import RandomForestRegressor\n",
    "from sklearn.ensemble import GradientBoostingRegressor\n",
    "from sklearn.ensemble import ExtraTreesRegressor\n",
    "from sklearn.ensemble import AdaBoostRegressor\n",
    "from sklearn.metrics import mean_squared_error, mean_absolute_percentage_error, mean_absolute_error\n",
    "\n",
    "import pandas as pd\n",
    "import numpy as np\n",
    "import seaborn as sns\n",
    "\n",
    "import matplotlib\n",
    "import matplotlib.pyplot as plt\n",
    "%matplotlib inline\n",
    "matplotlib.style.use('ggplot')\n",
    "\n",
    "import warnings\n",
    "warnings.simplefilter(\"ignore\")\n",
    "\n",
    "from scipy.stats import kstest, spearmanr, mannwhitneyu, ttest_ind, levene, kruskal, pearsonr\n",
    "\n",
    "from sklearn.metrics import mean_absolute_percentage_error, mean_squared_error, mean_absolute_error \n",
    "import statsmodels.api as sm"
   ]
  },
  {
   "cell_type": "code",
   "execution_count": 17,
   "metadata": {},
   "outputs": [],
   "source": [
    "df = pd.read_csv('almost_done_pub_trans.csv',index_col = 0)"
   ]
  },
  {
   "cell_type": "code",
   "execution_count": 5,
   "metadata": {},
   "outputs": [],
   "source": [
    "# df = df[df['pub_trans_1km'] != 0.0]"
   ]
  },
  {
   "cell_type": "code",
   "execution_count": 6,
   "metadata": {},
   "outputs": [
    {
     "data": {
      "text/html": [
       "<div>\n",
       "<style scoped>\n",
       "    .dataframe tbody tr th:only-of-type {\n",
       "        vertical-align: middle;\n",
       "    }\n",
       "\n",
       "    .dataframe tbody tr th {\n",
       "        vertical-align: top;\n",
       "    }\n",
       "\n",
       "    .dataframe thead th {\n",
       "        text-align: right;\n",
       "    }\n",
       "</style>\n",
       "<table border=\"1\" class=\"dataframe\">\n",
       "  <thead>\n",
       "    <tr style=\"text-align: right;\">\n",
       "      <th></th>\n",
       "      <th>price_per_square</th>\n",
       "      <th>squares</th>\n",
       "      <th>max_floor</th>\n",
       "      <th>latitude</th>\n",
       "      <th>longitude</th>\n",
       "      <th>Nevskii prospekt</th>\n",
       "      <th>parkings_1km</th>\n",
       "      <th>rent_per_m</th>\n",
       "      <th>population</th>\n",
       "      <th>mean_distr_pps</th>\n",
       "      <th>pub_trans_1km</th>\n",
       "    </tr>\n",
       "  </thead>\n",
       "  <tbody>\n",
       "    <tr>\n",
       "      <th>0</th>\n",
       "      <td>311480.0</td>\n",
       "      <td>131.63</td>\n",
       "      <td>2.0</td>\n",
       "      <td>30.082621</td>\n",
       "      <td>59.724677</td>\n",
       "      <td>28.29</td>\n",
       "      <td>47.0</td>\n",
       "      <td>196596.0</td>\n",
       "      <td>431546</td>\n",
       "      <td>252564.088000</td>\n",
       "      <td>37.0</td>\n",
       "    </tr>\n",
       "    <tr>\n",
       "      <th>1</th>\n",
       "      <td>254997.0</td>\n",
       "      <td>145.10</td>\n",
       "      <td>5.0</td>\n",
       "      <td>30.316138</td>\n",
       "      <td>59.911854</td>\n",
       "      <td>1.73</td>\n",
       "      <td>55.0</td>\n",
       "      <td>318800.0</td>\n",
       "      <td>155981</td>\n",
       "      <td>249123.504286</td>\n",
       "      <td>76.0</td>\n",
       "    </tr>\n",
       "    <tr>\n",
       "      <th>2</th>\n",
       "      <td>353742.0</td>\n",
       "      <td>73.50</td>\n",
       "      <td>7.0</td>\n",
       "      <td>30.301127</td>\n",
       "      <td>59.912368</td>\n",
       "      <td>3.13</td>\n",
       "      <td>55.0</td>\n",
       "      <td>130418.0</td>\n",
       "      <td>155981</td>\n",
       "      <td>249123.504286</td>\n",
       "      <td>66.0</td>\n",
       "    </tr>\n",
       "    <tr>\n",
       "      <th>3</th>\n",
       "      <td>190000.0</td>\n",
       "      <td>33.90</td>\n",
       "      <td>9.0</td>\n",
       "      <td>30.449978</td>\n",
       "      <td>59.956836</td>\n",
       "      <td>13.70</td>\n",
       "      <td>15.0</td>\n",
       "      <td>92376.0</td>\n",
       "      <td>366971</td>\n",
       "      <td>234417.049020</td>\n",
       "      <td>13.0</td>\n",
       "    </tr>\n",
       "    <tr>\n",
       "      <th>4</th>\n",
       "      <td>166667.0</td>\n",
       "      <td>89.40</td>\n",
       "      <td>5.0</td>\n",
       "      <td>30.325543</td>\n",
       "      <td>59.926372</td>\n",
       "      <td>0.50</td>\n",
       "      <td>26.0</td>\n",
       "      <td>99886.0</td>\n",
       "      <td>200654</td>\n",
       "      <td>244764.858824</td>\n",
       "      <td>60.0</td>\n",
       "    </tr>\n",
       "    <tr>\n",
       "      <th>...</th>\n",
       "      <td>...</td>\n",
       "      <td>...</td>\n",
       "      <td>...</td>\n",
       "      <td>...</td>\n",
       "      <td>...</td>\n",
       "      <td>...</td>\n",
       "      <td>...</td>\n",
       "      <td>...</td>\n",
       "      <td>...</td>\n",
       "      <td>...</td>\n",
       "      <td>...</td>\n",
       "    </tr>\n",
       "    <tr>\n",
       "      <th>1573</th>\n",
       "      <td>278079.4</td>\n",
       "      <td>38.00</td>\n",
       "      <td>1.0</td>\n",
       "      <td>30.096697</td>\n",
       "      <td>59.841563</td>\n",
       "      <td>25.89</td>\n",
       "      <td>18.0</td>\n",
       "      <td>46000.0</td>\n",
       "      <td>431546</td>\n",
       "      <td>252564.088000</td>\n",
       "      <td>25.0</td>\n",
       "    </tr>\n",
       "    <tr>\n",
       "      <th>1574</th>\n",
       "      <td>199278.8</td>\n",
       "      <td>96.00</td>\n",
       "      <td>3.0</td>\n",
       "      <td>30.201315</td>\n",
       "      <td>59.855597</td>\n",
       "      <td>14.46</td>\n",
       "      <td>31.0</td>\n",
       "      <td>65000.0</td>\n",
       "      <td>431546</td>\n",
       "      <td>252564.088000</td>\n",
       "      <td>71.0</td>\n",
       "    </tr>\n",
       "    <tr>\n",
       "      <th>1575</th>\n",
       "      <td>188283.2</td>\n",
       "      <td>45.00</td>\n",
       "      <td>3.0</td>\n",
       "      <td>30.367162</td>\n",
       "      <td>59.812392</td>\n",
       "      <td>7.93</td>\n",
       "      <td>33.0</td>\n",
       "      <td>63000.0</td>\n",
       "      <td>263732</td>\n",
       "      <td>214227.693617</td>\n",
       "      <td>15.0</td>\n",
       "    </tr>\n",
       "    <tr>\n",
       "      <th>1576</th>\n",
       "      <td>357141.0</td>\n",
       "      <td>22.00</td>\n",
       "      <td>1.0</td>\n",
       "      <td>30.159606</td>\n",
       "      <td>59.866761</td>\n",
       "      <td>18.87</td>\n",
       "      <td>80.0</td>\n",
       "      <td>28000.0</td>\n",
       "      <td>431546</td>\n",
       "      <td>252564.088000</td>\n",
       "      <td>38.0</td>\n",
       "    </tr>\n",
       "    <tr>\n",
       "      <th>1577</th>\n",
       "      <td>205005.6</td>\n",
       "      <td>182.30</td>\n",
       "      <td>16.0</td>\n",
       "      <td>30.354244</td>\n",
       "      <td>59.946752</td>\n",
       "      <td>3.06</td>\n",
       "      <td>29.0</td>\n",
       "      <td>180477.0</td>\n",
       "      <td>200654</td>\n",
       "      <td>244764.858824</td>\n",
       "      <td>83.0</td>\n",
       "    </tr>\n",
       "  </tbody>\n",
       "</table>\n",
       "<p>1562 rows × 11 columns</p>\n",
       "</div>"
      ],
      "text/plain": [
       "      price_per_square  squares  max_floor   latitude  longitude  \\\n",
       "0             311480.0   131.63        2.0  30.082621  59.724677   \n",
       "1             254997.0   145.10        5.0  30.316138  59.911854   \n",
       "2             353742.0    73.50        7.0  30.301127  59.912368   \n",
       "3             190000.0    33.90        9.0  30.449978  59.956836   \n",
       "4             166667.0    89.40        5.0  30.325543  59.926372   \n",
       "...                ...      ...        ...        ...        ...   \n",
       "1573          278079.4    38.00        1.0  30.096697  59.841563   \n",
       "1574          199278.8    96.00        3.0  30.201315  59.855597   \n",
       "1575          188283.2    45.00        3.0  30.367162  59.812392   \n",
       "1576          357141.0    22.00        1.0  30.159606  59.866761   \n",
       "1577          205005.6   182.30       16.0  30.354244  59.946752   \n",
       "\n",
       "      Nevskii prospekt  parkings_1km  rent_per_m  population  mean_distr_pps  \\\n",
       "0                28.29          47.0    196596.0      431546   252564.088000   \n",
       "1                 1.73          55.0    318800.0      155981   249123.504286   \n",
       "2                 3.13          55.0    130418.0      155981   249123.504286   \n",
       "3                13.70          15.0     92376.0      366971   234417.049020   \n",
       "4                 0.50          26.0     99886.0      200654   244764.858824   \n",
       "...                ...           ...         ...         ...             ...   \n",
       "1573             25.89          18.0     46000.0      431546   252564.088000   \n",
       "1574             14.46          31.0     65000.0      431546   252564.088000   \n",
       "1575              7.93          33.0     63000.0      263732   214227.693617   \n",
       "1576             18.87          80.0     28000.0      431546   252564.088000   \n",
       "1577              3.06          29.0    180477.0      200654   244764.858824   \n",
       "\n",
       "      pub_trans_1km  \n",
       "0              37.0  \n",
       "1              76.0  \n",
       "2              66.0  \n",
       "3              13.0  \n",
       "4              60.0  \n",
       "...             ...  \n",
       "1573           25.0  \n",
       "1574           71.0  \n",
       "1575           15.0  \n",
       "1576           38.0  \n",
       "1577           83.0  \n",
       "\n",
       "[1562 rows x 11 columns]"
      ]
     },
     "execution_count": 6,
     "metadata": {},
     "output_type": "execute_result"
    }
   ],
   "source": [
    "df"
   ]
  },
  {
   "cell_type": "code",
   "execution_count": 10,
   "metadata": {},
   "outputs": [
    {
     "name": "stdout",
     "output_type": "stream",
     "text": [
      "price_per_square:PearsonRResult(statistic=1.0, pvalue=0.0)\n",
      "squares:PearsonRResult(statistic=-0.11577497082639741, pvalue=4.487016241466732e-06)\n",
      "max_floor:PearsonRResult(statistic=0.22755828280382948, pvalue=8.538503762187571e-20)\n",
      "latitude:PearsonRResult(statistic=-0.06501110196578293, pvalue=0.010168666781734155)\n",
      "longitude:PearsonRResult(statistic=0.058043017409811194, pvalue=0.02178577009333514)\n",
      "Nevskii prospekt:PearsonRResult(statistic=-0.12742558321805206, pvalue=4.3558400479562944e-07)\n",
      "parkings_1km:PearsonRResult(statistic=0.08603638400028862, pvalue=0.0006642291077062609)\n",
      "rent_per_m:PearsonRResult(statistic=-0.10325964149474179, pvalue=4.3378022529930474e-05)\n",
      "population:PearsonRResult(statistic=0.049686102918149996, pvalue=0.04960644552856491)\n",
      "mean_distr_pps:PearsonRResult(statistic=0.24585876829830758, pvalue=6.154211884690481e-23)\n",
      "pub_trans_1km:PearsonRResult(statistic=0.0061339970972675685, pvalue=0.8085965816455315)\n"
     ]
    }
   ],
   "source": [
    "for i in df.columns:\n",
    "    print(f\"{i}:{pearsonr(df['price_per_square'], df[i])}\")"
   ]
  },
  {
   "cell_type": "code",
   "execution_count": 11,
   "metadata": {},
   "outputs": [
    {
     "data": {
      "text/plain": [
       "Index(['price_per_square', 'squares', 'max_floor', 'latitude', 'longitude',\n",
       "       'Nevskii prospekt', 'parkings_1km', 'rent_per_m', 'population',\n",
       "       'mean_distr_pps', 'pub_trans_1km'],\n",
       "      dtype='object')"
      ]
     },
     "execution_count": 11,
     "metadata": {},
     "output_type": "execute_result"
    }
   ],
   "source": [
    "df.columns"
   ]
  },
  {
   "cell_type": "code",
   "execution_count": 18,
   "metadata": {},
   "outputs": [],
   "source": [
    "X = df[['squares', 'max_floor', 'latitude', 'longitude',\n",
    "       'Nevskii prospekt', 'parkings_1km', 'rent_per_m', 'population',\n",
    "       'mean_distr_pps',]]\n",
    "y = df['price_per_square']"
   ]
  },
  {
   "cell_type": "code",
   "execution_count": 19,
   "metadata": {},
   "outputs": [],
   "source": [
    "from sklearn.model_selection import train_test_split\n",
    "\n",
    "X_train, X_test, y_train, y_test = train_test_split(X, y, test_size=0.2, random_state = 999)"
   ]
  },
  {
   "cell_type": "code",
   "execution_count": 20,
   "metadata": {},
   "outputs": [
    {
     "data": {
      "text/plain": [
       "0.9041979159832234"
      ]
     },
     "metadata": {},
     "output_type": "display_data"
    }
   ],
   "source": [
    "from sklearn.ensemble import RandomForestRegressor\n",
    "\n",
    "rfc = RandomForestRegressor(n_estimators=100)\n",
    "rfc.fit(X_train, y_train)\n",
    "display(rfc.score(X_train, y_train))"
   ]
  },
  {
   "cell_type": "code",
   "execution_count": 21,
   "metadata": {},
   "outputs": [
    {
     "name": "stdout",
     "output_type": "stream",
     "text": [
      "22722.56833906399\n",
      "16910.474355416995\n",
      "0.08773303109303017\n"
     ]
    }
   ],
   "source": [
    "predictions1 = rfc.predict(X_train)\n",
    "#Calculate the root mean squared error\n",
    "rmse = np.sqrt(mean_squared_error(y_train, predictions1))\n",
    "print(rmse)\n",
    "print(mean_absolute_error(y_train, predictions1))\n",
    "print(mean_absolute_percentage_error(y_train, predictions1))"
   ]
  },
  {
   "cell_type": "code",
   "execution_count": 22,
   "metadata": {},
   "outputs": [
    {
     "data": {
      "text/plain": [
       "0.4033868921344387"
      ]
     },
     "metadata": {},
     "output_type": "display_data"
    },
    {
     "name": "stdout",
     "output_type": "stream",
     "text": [
      "57893.49738816755\n",
      "42818.017264797505\n",
      "0.2139318229851476\n"
     ]
    }
   ],
   "source": [
    "predictions2 = rfc.predict(X_test)\n",
    "#Calculate the root mean squared error\n",
    "display(rfc.score(X_test, y_test))\n",
    "rmse = np.sqrt(mean_squared_error(y_test, predictions2))\n",
    "print(rmse)\n",
    "print(mean_absolute_error(y_test, predictions2))\n",
    "print(mean_absolute_percentage_error(y_test, predictions2))"
   ]
  }
 ],
 "metadata": {
  "kernelspec": {
   "display_name": "Python 3",
   "language": "python",
   "name": "python3"
  },
  "language_info": {
   "codemirror_mode": {
    "name": "ipython",
    "version": 3
   },
   "file_extension": ".py",
   "mimetype": "text/x-python",
   "name": "python",
   "nbconvert_exporter": "python",
   "pygments_lexer": "ipython3",
   "version": "3.10.0"
  }
 },
 "nbformat": 4,
 "nbformat_minor": 2
}
