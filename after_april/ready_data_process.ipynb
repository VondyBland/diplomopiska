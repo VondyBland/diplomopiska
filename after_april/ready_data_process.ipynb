{
 "cells": [
  {
   "cell_type": "code",
   "execution_count": 1,
   "metadata": {},
   "outputs": [],
   "source": [
    "import pandas as pd"
   ]
  },
  {
   "cell_type": "code",
   "execution_count": 2,
   "metadata": {},
   "outputs": [],
   "source": [
    "ardf = pd.read_csv('arenda_geocoder_data.csv',index_col=0)"
   ]
  },
  {
   "cell_type": "code",
   "execution_count": 4,
   "metadata": {},
   "outputs": [
    {
     "data": {
      "text/plain": [
       "Index(['url', 'seller_url', 'title', 'squares', 'full_price',\n",
       "       'price_per_square', 'floor', 'free', 'city', 'district', 'okrug',\n",
       "       'street', 'house_number', 'description', 'sub_near', 'highway_near',\n",
       "       'current_floor', 'max_floor', 'address', 'latitude', 'longitude'],\n",
       "      dtype='object')"
      ]
     },
     "execution_count": 4,
     "metadata": {},
     "output_type": "execute_result"
    }
   ],
   "source": [
    "ardf.columns"
   ]
  },
  {
   "cell_type": "code",
   "execution_count": 5,
   "metadata": {},
   "outputs": [],
   "source": [
    "needed_cols = ['squares','full_price','max_floor','latitude','longitude']"
   ]
  },
  {
   "cell_type": "code",
   "execution_count": 6,
   "metadata": {},
   "outputs": [],
   "source": [
    "ardf = ardf[needed_cols]"
   ]
  },
  {
   "cell_type": "code",
   "execution_count": 14,
   "metadata": {},
   "outputs": [],
   "source": [
    "ardf = ardf.rename(columns={'full_price': 'rent_per_month'})"
   ]
  },
  {
   "cell_type": "code",
   "execution_count": 15,
   "metadata": {},
   "outputs": [
    {
     "data": {
      "text/html": [
       "<div>\n",
       "<style scoped>\n",
       "    .dataframe tbody tr th:only-of-type {\n",
       "        vertical-align: middle;\n",
       "    }\n",
       "\n",
       "    .dataframe tbody tr th {\n",
       "        vertical-align: top;\n",
       "    }\n",
       "\n",
       "    .dataframe thead th {\n",
       "        text-align: right;\n",
       "    }\n",
       "</style>\n",
       "<table border=\"1\" class=\"dataframe\">\n",
       "  <thead>\n",
       "    <tr style=\"text-align: right;\">\n",
       "      <th></th>\n",
       "      <th>squares</th>\n",
       "      <th>rent_per_month</th>\n",
       "      <th>max_floor</th>\n",
       "      <th>latitude</th>\n",
       "      <th>longitude</th>\n",
       "    </tr>\n",
       "  </thead>\n",
       "  <tbody>\n",
       "    <tr>\n",
       "      <th>0</th>\n",
       "      <td>22.9</td>\n",
       "      <td>29770.0</td>\n",
       "      <td>3.0</td>\n",
       "      <td>30.343905</td>\n",
       "      <td>59.965966</td>\n",
       "    </tr>\n",
       "    <tr>\n",
       "      <th>1</th>\n",
       "      <td>91.0</td>\n",
       "      <td>110000.0</td>\n",
       "      <td>16.0</td>\n",
       "      <td>30.200363</td>\n",
       "      <td>59.934109</td>\n",
       "    </tr>\n",
       "    <tr>\n",
       "      <th>2</th>\n",
       "      <td>70.0</td>\n",
       "      <td>110000.0</td>\n",
       "      <td>12.0</td>\n",
       "      <td>30.344677</td>\n",
       "      <td>59.873735</td>\n",
       "    </tr>\n",
       "    <tr>\n",
       "      <th>3</th>\n",
       "      <td>109.5</td>\n",
       "      <td>330000.0</td>\n",
       "      <td>18.0</td>\n",
       "      <td>30.262355</td>\n",
       "      <td>60.006575</td>\n",
       "    </tr>\n",
       "    <tr>\n",
       "      <th>4</th>\n",
       "      <td>77.5</td>\n",
       "      <td>116250.0</td>\n",
       "      <td>25.0</td>\n",
       "      <td>30.446151</td>\n",
       "      <td>59.902303</td>\n",
       "    </tr>\n",
       "  </tbody>\n",
       "</table>\n",
       "</div>"
      ],
      "text/plain": [
       "   squares  rent_per_month  max_floor   latitude  longitude\n",
       "0     22.9         29770.0        3.0  30.343905  59.965966\n",
       "1     91.0        110000.0       16.0  30.200363  59.934109\n",
       "2     70.0        110000.0       12.0  30.344677  59.873735\n",
       "3    109.5        330000.0       18.0  30.262355  60.006575\n",
       "4     77.5        116250.0       25.0  30.446151  59.902303"
      ]
     },
     "execution_count": 15,
     "metadata": {},
     "output_type": "execute_result"
    }
   ],
   "source": [
    "ardf.head()"
   ]
  },
  {
   "cell_type": "code",
   "execution_count": 12,
   "metadata": {},
   "outputs": [],
   "source": [
    "ordf = pd.read_csv(r'C:\\Users\\Ростислав\\python\\for_article\\gotov_data.csv',index_col = 0)\n",
    "ordf['rent_per_month'] = 0.0"
   ]
  },
  {
   "cell_type": "code",
   "execution_count": 13,
   "metadata": {},
   "outputs": [
    {
     "data": {
      "text/html": [
       "<div>\n",
       "<style scoped>\n",
       "    .dataframe tbody tr th:only-of-type {\n",
       "        vertical-align: middle;\n",
       "    }\n",
       "\n",
       "    .dataframe tbody tr th {\n",
       "        vertical-align: top;\n",
       "    }\n",
       "\n",
       "    .dataframe thead th {\n",
       "        text-align: right;\n",
       "    }\n",
       "</style>\n",
       "<table border=\"1\" class=\"dataframe\">\n",
       "  <thead>\n",
       "    <tr style=\"text-align: right;\">\n",
       "      <th></th>\n",
       "      <th>price_per_square</th>\n",
       "      <th>squares</th>\n",
       "      <th>max_floor</th>\n",
       "      <th>latitude</th>\n",
       "      <th>longitude</th>\n",
       "      <th>Nevskii prospekt</th>\n",
       "      <th>parkings_1km</th>\n",
       "      <th>rent_per_month</th>\n",
       "    </tr>\n",
       "  </thead>\n",
       "  <tbody>\n",
       "    <tr>\n",
       "      <th>0</th>\n",
       "      <td>311480.0</td>\n",
       "      <td>131.63</td>\n",
       "      <td>2</td>\n",
       "      <td>30.082621</td>\n",
       "      <td>59.724677</td>\n",
       "      <td>28.29</td>\n",
       "      <td>47.0</td>\n",
       "      <td>0.0</td>\n",
       "    </tr>\n",
       "    <tr>\n",
       "      <th>1</th>\n",
       "      <td>254997.0</td>\n",
       "      <td>145.10</td>\n",
       "      <td>5</td>\n",
       "      <td>30.316138</td>\n",
       "      <td>59.911854</td>\n",
       "      <td>1.73</td>\n",
       "      <td>55.0</td>\n",
       "      <td>0.0</td>\n",
       "    </tr>\n",
       "    <tr>\n",
       "      <th>2</th>\n",
       "      <td>353742.0</td>\n",
       "      <td>73.50</td>\n",
       "      <td>7</td>\n",
       "      <td>30.301127</td>\n",
       "      <td>59.912368</td>\n",
       "      <td>3.13</td>\n",
       "      <td>55.0</td>\n",
       "      <td>0.0</td>\n",
       "    </tr>\n",
       "    <tr>\n",
       "      <th>3</th>\n",
       "      <td>190000.0</td>\n",
       "      <td>33.90</td>\n",
       "      <td>9</td>\n",
       "      <td>30.449978</td>\n",
       "      <td>59.956836</td>\n",
       "      <td>13.70</td>\n",
       "      <td>15.0</td>\n",
       "      <td>0.0</td>\n",
       "    </tr>\n",
       "    <tr>\n",
       "      <th>4</th>\n",
       "      <td>166667.0</td>\n",
       "      <td>89.40</td>\n",
       "      <td>5</td>\n",
       "      <td>30.325543</td>\n",
       "      <td>59.926372</td>\n",
       "      <td>0.50</td>\n",
       "      <td>26.0</td>\n",
       "      <td>0.0</td>\n",
       "    </tr>\n",
       "  </tbody>\n",
       "</table>\n",
       "</div>"
      ],
      "text/plain": [
       "   price_per_square  squares  max_floor   latitude  longitude  \\\n",
       "0          311480.0   131.63          2  30.082621  59.724677   \n",
       "1          254997.0   145.10          5  30.316138  59.911854   \n",
       "2          353742.0    73.50          7  30.301127  59.912368   \n",
       "3          190000.0    33.90          9  30.449978  59.956836   \n",
       "4          166667.0    89.40          5  30.325543  59.926372   \n",
       "\n",
       "   Nevskii prospekt  parkings_1km  rent_per_month  \n",
       "0             28.29          47.0             0.0  \n",
       "1              1.73          55.0             0.0  \n",
       "2              3.13          55.0             0.0  \n",
       "3             13.70          15.0             0.0  \n",
       "4              0.50          26.0             0.0  "
      ]
     },
     "execution_count": 13,
     "metadata": {},
     "output_type": "execute_result"
    }
   ],
   "source": [
    "ordf.head()"
   ]
  },
  {
   "cell_type": "code",
   "execution_count": 16,
   "metadata": {},
   "outputs": [],
   "source": [
    "ardf.to_csv('ardf.csv', encoding='utf-8')\n",
    "ordf.to_csv('ordf.csv', encoding='utf-8')"
   ]
  }
 ],
 "metadata": {
  "kernelspec": {
   "display_name": ".venv",
   "language": "python",
   "name": "python3"
  },
  "language_info": {
   "codemirror_mode": {
    "name": "ipython",
    "version": 3
   },
   "file_extension": ".py",
   "mimetype": "text/x-python",
   "name": "python",
   "nbconvert_exporter": "python",
   "pygments_lexer": "ipython3",
   "version": "3.11.7"
  }
 },
 "nbformat": 4,
 "nbformat_minor": 2
}
