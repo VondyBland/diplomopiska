{
  "cells": [
    {
      "cell_type": "code",
      "execution_count": 1,
      "id": "dress-great",
      "metadata": {
        "id": "dress-great"
      },
      "outputs": [],
      "source": [
        "# Load libraries\n",
        "import numpy\n",
        "from numpy import arange\n",
        "from matplotlib import pyplot\n",
        "from pandas import read_csv\n",
        "from pandas import set_option\n",
        "from pandas.plotting import scatter_matrix\n",
        "from sklearn.preprocessing import StandardScaler\n",
        "from sklearn.model_selection import train_test_split\n",
        "from sklearn.model_selection import KFold\n",
        "from sklearn.model_selection import cross_val_score\n",
        "from sklearn.model_selection import GridSearchCV\n",
        "from sklearn.linear_model import LinearRegression\n",
        "from sklearn.linear_model import Lasso\n",
        "from sklearn.linear_model import ElasticNet\n",
        "from sklearn.tree import DecisionTreeRegressor\n",
        "from sklearn.neighbors import KNeighborsRegressor\n",
        "from sklearn.svm import SVR\n",
        "from sklearn.pipeline import Pipeline\n",
        "from sklearn.ensemble import RandomForestRegressor\n",
        "from sklearn.ensemble import GradientBoostingRegressor\n",
        "from sklearn.ensemble import ExtraTreesRegressor\n",
        "from sklearn.ensemble import AdaBoostRegressor\n",
        "from sklearn.metrics import mean_squared_error, mean_absolute_percentage_error, mean_absolute_error"
      ]
    },
    {
      "cell_type": "code",
      "execution_count": null,
      "id": "painful-detector",
      "metadata": {
        "id": "painful-detector"
      },
      "outputs": [],
      "source": []
    },
    {
      "cell_type": "code",
      "execution_count": 2,
      "id": "connected-apparatus",
      "metadata": {
        "id": "connected-apparatus"
      },
      "outputs": [],
      "source": [
        "# Load dataset\n",
        "data = read_csv('starting_to_work.csv',index_col=0)\n"
      ]
    },
    {
      "cell_type": "code",
      "execution_count": 4,
      "id": "3b41a7f5",
      "metadata": {},
      "outputs": [],
      "source": [
        "data = data[['price_per_square','squares', 'max_floor', 'metro_1km','latitude', 'longitude',\n",
        "       'parkings_1km', 'distance_to_center',\n",
        "       'mean_distr_pps']]"
      ]
    },
    {
      "cell_type": "markdown",
      "id": "naval-volunteer",
      "metadata": {
        "id": "naval-volunteer"
      },
      "source": [
        "### 3. Validation Dataset"
      ]
    },
    {
      "cell_type": "code",
      "execution_count": 5,
      "id": "occasional-glasgow",
      "metadata": {
        "id": "occasional-glasgow"
      },
      "outputs": [],
      "source": [
        "# Split-out validation dataset\n",
        "X = data[[ 'squares', 'max_floor', 'metro_1km','latitude', 'longitude',\n",
        "       'parkings_1km', 'distance_to_center',\n",
        "       'mean_distr_pps']]\n",
        "Y = data['price_per_square']\n",
        "validation_size = 0.2\n",
        "seed = 999\n",
        "X_train, X_validation, Y_train, Y_validation = train_test_split(X, Y,\n",
        "test_size=validation_size, random_state=seed)"
      ]
    },
    {
      "cell_type": "markdown",
      "id": "linear-first",
      "metadata": {
        "id": "linear-first"
      },
      "source": [
        "### 4. Evaluate Algorithms: Baseline"
      ]
    },
    {
      "cell_type": "code",
      "execution_count": 7,
      "id": "possible-throat",
      "metadata": {
        "id": "possible-throat"
      },
      "outputs": [],
      "source": [
        "# Test options and evaluation metric\n",
        "num_folds = 2\n",
        "seed = 999\n",
        "scoring = 'neg_mean_absolute_percentage_error'"
      ]
    },
    {
      "cell_type": "code",
      "execution_count": 10,
      "id": "integrated-billion",
      "metadata": {
        "id": "integrated-billion",
        "outputId": "f4b95452-5f5b-4aaf-895d-3f0e1a35eaa0"
      },
      "outputs": [
        {
          "name": "stdout",
          "output_type": "stream",
          "text": [
            "LR: -0.294483 (0.002066)\n",
            "LASSO: -0.294480 (0.002061)\n",
            "EN: -0.294512 (0.001439)\n",
            "KNN: -0.307437 (0.000029)\n",
            "CART: -0.317022 (0.002076)\n",
            "SVR: -0.335565 (0.006456)\n"
          ]
        }
      ],
      "source": [
        "# Spot-Check Algorithms\n",
        "models = []\n",
        "models.append(('LR', LinearRegression()))\n",
        "models.append(('LASSO', Lasso()))\n",
        "models.append(('EN', ElasticNet()))\n",
        "models.append(('KNN', KNeighborsRegressor(n_neighbors=5)))\n",
        "models.append(('CART', DecisionTreeRegressor()))\n",
        "models.append(('SVR', SVR()))\n",
        "# evaluate each model in turn\n",
        "results = []\n",
        "names = []\n",
        "for name, model in models:\n",
        "    kfold = KFold(n_splits=num_folds, random_state=seed, shuffle=True)\n",
        "    cv_results = cross_val_score(model, X_train, Y_train, cv=kfold, scoring=scoring)\n",
        "    results.append(cv_results)\n",
        "    names.append(name)\n",
        "    msg = \"%s: %f (%f)\" % (name, cv_results.mean(), cv_results.std())\n",
        "    print(msg)"
      ]
    },
    {
      "cell_type": "code",
      "execution_count": 11,
      "id": "assumed-veteran",
      "metadata": {
        "id": "assumed-veteran",
        "outputId": "0157d1f6-30e8-4212-8bde-cd44d109214c"
      },
      "outputs": [
        {
          "data": {
            "image/png": "[encoded data removed]",
            "text/plain": [
              "<Figure size 640x480 with 1 Axes>"
            ]
          },
          "metadata": {},
          "output_type": "display_data"
        }
      ],
      "source": [
        "# Compare Algorithms\n",
        "fig = pyplot.figure()\n",
        "fig.suptitle('Algorithm Comparison')\n",
        "ax = fig.add_subplot(111)\n",
        "pyplot.boxplot(results)\n",
        "ax.set_xticklabels(names)\n",
        "pyplot.show()"
      ]
    },
    {
      "cell_type": "markdown",
      "id": "excessive-concept",
      "metadata": {
        "id": "excessive-concept"
      },
      "source": [
        "### 5. Evaluate Algorithms: Standardize Data"
      ]
    },
    {
      "cell_type": "code",
      "execution_count": 12,
      "id": "patient-proposal",
      "metadata": {
        "id": "patient-proposal",
        "outputId": "ab097b92-f113-4191-9809-8497a78f5be9"
      },
      "outputs": [
        {
          "name": "stdout",
          "output_type": "stream",
          "text": [
            "ScaledLR: -0.294483 (0.002066)\n",
            "ScaledLASSO: -0.294483 (0.002066)\n",
            "ScaledEN: -0.299320 (0.005157)\n",
            "ScaledKNN: -0.287242 (0.000674)\n",
            "ScaledCART: -0.321961 (0.004440)\n",
            "ScaledSVR: -0.335535 (0.006461)\n"
          ]
        }
      ],
      "source": [
        "# Standardize the dataset\n",
        "pipelines = []\n",
        "pipelines.append(('ScaledLR', Pipeline([('Scaler', StandardScaler()),('LR',\n",
        "LinearRegression())])))\n",
        "pipelines.append(('ScaledLASSO', Pipeline([('Scaler', StandardScaler()),('LASSO',\n",
        "Lasso())])))\n",
        "pipelines.append(('ScaledEN', Pipeline([('Scaler', StandardScaler()),('EN',\n",
        "ElasticNet())])))\n",
        "pipelines.append(('ScaledKNN', Pipeline([('Scaler', StandardScaler()),('KNN',\n",
        "KNeighborsRegressor())])))\n",
        "pipelines.append(('ScaledCART', Pipeline([('Scaler', StandardScaler()),('CART',\n",
        "DecisionTreeRegressor())])))\n",
        "pipelines.append(('ScaledSVR', Pipeline([('Scaler', StandardScaler()),('SVR', SVR())])))\n",
        "results = []\n",
        "names = []\n",
        "for name, model in pipelines:\n",
        "    kfold = KFold(n_splits=num_folds, random_state=seed, shuffle=True)\n",
        "    cv_results = cross_val_score(model, X_train, Y_train, cv=kfold, scoring=scoring)\n",
        "    results.append(cv_results)\n",
        "    names.append(name)\n",
        "    msg = \"%s: %f (%f)\" % (name, cv_results.mean(), cv_results.std())\n",
        "    print(msg)"
      ]
    },
    {
      "cell_type": "code",
      "execution_count": 13,
      "id": "civilian-finland",
      "metadata": {
        "id": "civilian-finland",
        "outputId": "073b2faf-b96a-44cd-f1be-e6d87dec9219"
      },
      "outputs": [
        {
          "data": {
            "image/png": "[encoded data removed]",
            "text/plain": [
              "<Figure size 640x480 with 1 Axes>"
            ]
          },
          "metadata": {},
          "output_type": "display_data"
        }
      ],
      "source": [
        "# Compare Algorithms\n",
        "fig = pyplot.figure()\n",
        "fig.suptitle('Scaled Algorithm Comparison')\n",
        "ax = fig.add_subplot(111)\n",
        "pyplot.boxplot(results)\n",
        "ax.set_xticklabels(names)\n",
        "pyplot.show()"
      ]
    },
    {
      "cell_type": "markdown",
      "id": "detailed-finding",
      "metadata": {
        "id": "detailed-finding"
      },
      "source": [
        "### 6. Algorithm Tuning"
      ]
    },
    {
      "cell_type": "code",
      "execution_count": 14,
      "id": "dense-allergy",
      "metadata": {
        "id": "dense-allergy",
        "outputId": "8c74d5c5-aa65-40ab-ee28-ea1d3e09bd91"
      },
      "outputs": [
        {
          "name": "stdout",
          "output_type": "stream",
          "text": [
            "Best: -0.284710 using {'n_neighbors': 11}\n",
            "-0.310613 (0.007706) with: {'n_neighbors': 1}\n",
            "-0.290752 (0.003075) with: {'n_neighbors': 3}\n",
            "-0.287525 (0.000890) with: {'n_neighbors': 5}\n",
            "-0.285658 (0.000682) with: {'n_neighbors': 7}\n",
            "-0.286933 (0.000157) with: {'n_neighbors': 9}\n",
            "-0.284710 (0.001874) with: {'n_neighbors': 11}\n",
            "-0.285289 (0.003279) with: {'n_neighbors': 13}\n",
            "-0.288226 (0.003318) with: {'n_neighbors': 15}\n",
            "-0.290783 (0.003547) with: {'n_neighbors': 17}\n",
            "-0.291729 (0.002500) with: {'n_neighbors': 19}\n",
            "-0.292876 (0.002914) with: {'n_neighbors': 21}\n"
          ]
        }
      ],
      "source": [
        "# KNN Algorithm tuning\n",
        "scaler = StandardScaler().fit(X_train)\n",
        "rescaledX = scaler.transform(X_train)\n",
        "k_values = numpy.array([1,3,5,7,9,11,13,15,17,19,21])\n",
        "param_grid = dict(n_neighbors=k_values)\n",
        "model = KNeighborsRegressor()\n",
        "kfold = KFold(n_splits=num_folds, random_state=seed, shuffle=True)\n",
        "grid = GridSearchCV(estimator=model, param_grid=param_grid, scoring=scoring, cv=kfold)\n",
        "grid_result = grid.fit(rescaledX, Y_train)\n",
        "print(\"Best: %f using %s\" % (grid_result.best_score_, grid_result.best_params_))\n",
        "means = grid_result.cv_results_['mean_test_score']\n",
        "stds = grid_result.cv_results_['std_test_score']\n",
        "params = grid_result.cv_results_['params']\n",
        "for mean, stdev, param in zip(means, stds, params):\n",
        "    print(\"%f (%f) with: %r\" % (mean, stdev, param))"
      ]
    },
    {
      "cell_type": "markdown",
      "id": "offensive-compilation",
      "metadata": {
        "id": "offensive-compilation"
      },
      "source": [
        "### 7. Ensemble Methods"
      ]
    },
    {
      "cell_type": "code",
      "execution_count": 21,
      "id": "detected-palmer",
      "metadata": {
        "id": "detected-palmer",
        "outputId": "f62912c5-1a25-487f-bd3b-cc132d03bbfb"
      },
      "outputs": [
        {
          "name": "stdout",
          "output_type": "stream",
          "text": [
            "AB: -0.286024 (0.002168)\n",
            "GBM: -0.260961 (0.003879)\n",
            "RF: -0.247773 (0.004019)\n",
            "ET: -0.246670 (0.004226)\n"
          ]
        }
      ],
      "source": [
        "# ensembles\n",
        "ensembles = []\n",
        "ensembles.append(('ScaledAB', Pipeline([('Scaler', StandardScaler()),('AB',\n",
        "AdaBoostRegressor())])))\n",
        "ensembles.append(('ScaledGBM', Pipeline([('Scaler', StandardScaler()),('GBM',\n",
        "GradientBoostingRegressor())])))\n",
        "ensembles.append(('ScaledRF', Pipeline([('Scaler', StandardScaler()),('RF',\n",
        "RandomForestRegressor(n_estimators=10))])))\n",
        "ensembles.append(('ScaledET', Pipeline([('Scaler', StandardScaler()),('ET',\n",
        "ExtraTreesRegressor(n_estimators=10))])))\n",
        "results = []\n",
        "names = []\n",
        "for name, model in ensembles:\n",
        "    kfold = KFold(n_splits=num_folds, random_state=seed, shuffle=True)\n",
        "    cv_results = cross_val_score(model, X_train, Y_train, cv=kfold, scoring=scoring)\n",
        "    results.append(cv_results)\n",
        "    names.append(name)\n",
        "    msg = \"%s: %f (%f)\" % (name, cv_results.mean(), cv_results.std())\n",
        "    print(msg)"
      ]
    },
    {
      "cell_type": "code",
      "execution_count": 22,
      "id": "under-slope",
      "metadata": {
        "id": "under-slope",
        "outputId": "03197a22-e240-4c8b-b184-7fa6b9578557"
      },
      "outputs": [
        {
          "data": {
            "image/png": "[encoded data removed]",
            "text/plain": [
              "<Figure size 640x480 with 1 Axes>"
            ]
          },
          "metadata": {},
          "output_type": "display_data"
        }
      ],
      "source": [
        "# Compare Algorithms\n",
        "fig = pyplot.figure()\n",
        "fig.suptitle('Scaled Ensemble Algorithm Comparison')\n",
        "ax = fig.add_subplot(111)\n",
        "pyplot.boxplot(results)\n",
        "ax.set_xticklabels(names)\n",
        "pyplot.show()"
      ]
    },
    {
      "cell_type": "code",
      "execution_count": null,
      "id": "109befa1",
      "metadata": {},
      "outputs": [],
      "source": []
    },
    {
      "cell_type": "code",
      "execution_count": null,
      "id": "09db1208",
      "metadata": {},
      "outputs": [],
      "source": []
    },
    {
      "cell_type": "code",
      "execution_count": null,
      "id": "0b12db15",
      "metadata": {},
      "outputs": [],
      "source": []
    },
    {
      "cell_type": "code",
      "execution_count": null,
      "id": "077198ce",
      "metadata": {},
      "outputs": [],
      "source": []
    },
    {
      "cell_type": "code",
      "execution_count": 27,
      "id": "7bf2c737",
      "metadata": {},
      "outputs": [
        {
          "name": "stdout",
          "output_type": "stream",
          "text": [
            "LR: -0.294483 (0.002066)\n",
            "LASSO: -0.294480 (0.002061)\n",
            "EN: -0.294512 (0.001439)\n",
            "KNN: -0.307437 (0.000029)\n",
            "CART: -0.314590 (0.008017)\n",
            "SVR: -0.335565 (0.006456)\n"
          ]
        }
      ],
      "source": [
        "# Standardize the dataset\n",
        "pipelines = []\n",
        "pipelines.append(('LR',LinearRegression()))\n",
        "pipelines.append(('LASSO',Lasso()))\n",
        "pipelines.append(('EN',ElasticNet()))\n",
        "pipelines.append(('KNN',KNeighborsRegressor()))\n",
        "pipelines.append(('CART',DecisionTreeRegressor()))\n",
        "pipelines.append(('SVR', SVR()))\n",
        "results = []\n",
        "names = []\n",
        "for name, model in pipelines:\n",
        "    kfold = KFold(n_splits=num_folds, random_state=seed, shuffle=True)\n",
        "    cv_results = cross_val_score(model, X_train, Y_train, cv=kfold, scoring=scoring)\n",
        "    results.append(cv_results)\n",
        "    names.append(name)\n",
        "    msg = \"%s: %f (%f)\" % (name, cv_results.mean(), cv_results.std())\n",
        "    print(msg)"
      ]
    },
    {
      "cell_type": "code",
      "execution_count": 29,
      "id": "9dd517f5",
      "metadata": {},
      "outputs": [
        {
          "data": {
            "image/png": "[encoded data removed]",
            "text/plain": [
              "<Figure size 640x480 with 1 Axes>"
            ]
          },
          "metadata": {},
          "output_type": "display_data"
        }
      ],
      "source": [
        "# Compare Algorithms\n",
        "fig = pyplot.figure()\n",
        "fig.suptitle('Algorithm Comparison')\n",
        "ax = fig.add_subplot(111)\n",
        "pyplot.boxplot(results)\n",
        "ax.set_xticklabels(names)\n",
        "pyplot.show()"
      ]
    },
    {
      "cell_type": "markdown",
      "id": "c057db1d",
      "metadata": {},
      "source": [
        "### 6. Algorithm Tuning"
      ]
    },
    {
      "cell_type": "code",
      "execution_count": null,
      "id": "d2c9dc4a",
      "metadata": {},
      "outputs": [
        {
          "name": "stdout",
          "output_type": "stream",
          "text": [
            "Best: -0.284710 using {'n_neighbors': 11}\n",
            "-0.310613 (0.007706) with: {'n_neighbors': 1}\n",
            "-0.290752 (0.003075) with: {'n_neighbors': 3}\n",
            "-0.287525 (0.000890) with: {'n_neighbors': 5}\n",
            "-0.285658 (0.000682) with: {'n_neighbors': 7}\n",
            "-0.286933 (0.000157) with: {'n_neighbors': 9}\n",
            "-0.284710 (0.001874) with: {'n_neighbors': 11}\n",
            "-0.285289 (0.003279) with: {'n_neighbors': 13}\n",
            "-0.288226 (0.003318) with: {'n_neighbors': 15}\n",
            "-0.290783 (0.003547) with: {'n_neighbors': 17}\n",
            "-0.291729 (0.002500) with: {'n_neighbors': 19}\n",
            "-0.292876 (0.002914) with: {'n_neighbors': 21}\n"
          ]
        }
      ],
      "source": [
        "# KNN Algorithm tuning\n",
        "scaler = StandardScaler().fit(X_train)\n",
        "rescaledX = scaler.transform(X_train)\n",
        "k_values = numpy.array([1,3,5,7,9,11,13,15,17,19,21])\n",
        "param_grid = dict(n_neighbors=k_values)\n",
        "model = KNeighborsRegressor()\n",
        "kfold = KFold(n_splits=num_folds, random_state=seed, shuffle=True)\n",
        "grid = GridSearchCV(estimator=model, param_grid=param_grid, scoring=scoring, cv=kfold)\n",
        "grid_result = grid.fit(rescaledX, Y_train)\n",
        "print(\"Best: %f using %s\" % (grid_result.best_score_, grid_result.best_params_))\n",
        "means = grid_result.cv_results_['mean_test_score']\n",
        "stds = grid_result.cv_results_['std_test_score']\n",
        "params = grid_result.cv_results_['params']\n",
        "for mean, stdev, param in zip(means, stds, params):\n",
        "    print(\"%f (%f) with: %r\" % (mean, stdev, param))"
      ]
    },
    {
      "cell_type": "markdown",
      "id": "e9299e71",
      "metadata": {},
      "source": [
        "### 7. Ensemble Methods"
      ]
    },
    {
      "cell_type": "code",
      "execution_count": 30,
      "id": "87561ad5",
      "metadata": {},
      "outputs": [
        {
          "name": "stdout",
          "output_type": "stream",
          "text": [
            "AB: -0.290178 (0.010181)\n",
            "GBM: -0.260837 (0.003925)\n",
            "RF: -0.246821 (0.001966)\n",
            "ET: -0.245405 (0.002621)\n"
          ]
        }
      ],
      "source": [
        "# ensembles\n",
        "ensembles = []\n",
        "ensembles.append(('AB',AdaBoostRegressor()))\n",
        "ensembles.append(('GBM',GradientBoostingRegressor()))\n",
        "ensembles.append((('RF',RandomForestRegressor(n_estimators=100))))\n",
        "ensembles.append(('ET',ExtraTreesRegressor(n_estimators=100)))\n",
        "results = []\n",
        "names = []\n",
        "for name, model in ensembles:\n",
        "    kfold = KFold(n_splits=num_folds, random_state=seed, shuffle=True)\n",
        "    cv_results = cross_val_score(model, X_train, Y_train, cv=kfold, scoring=scoring)\n",
        "    results.append(cv_results)\n",
        "    names.append(name)\n",
        "    msg = \"%s: %f (%f)\" % (name, cv_results.mean(), cv_results.std())\n",
        "    print(msg)"
      ]
    },
    {
      "cell_type": "code",
      "execution_count": 32,
      "id": "062e396a",
      "metadata": {},
      "outputs": [
        {
          "data": {
            "image/png": "[encoded data removed]",
            "text/plain": [
              "<Figure size 640x480 with 1 Axes>"
            ]
          },
          "metadata": {},
          "output_type": "display_data"
        }
      ],
      "source": [
        "# Compare Algorithms\n",
        "fig = pyplot.figure()\n",
        "fig.suptitle('Ensemble Algorithm Comparison')\n",
        "ax = fig.add_subplot(111)\n",
        "pyplot.boxplot(results)\n",
        "ax.set_xticklabels(names)\n",
        "pyplot.show()"
      ]
    },
    {
      "cell_type": "code",
      "execution_count": 33,
      "id": "wicked-blackberry",
      "metadata": {
        "id": "wicked-blackberry"
      },
      "outputs": [],
      "source": [
        "# Tune scaled GBM\n",
        "scaler = StandardScaler().fit(X_train)\n",
        "rescaledX = scaler.transform(X_train)\n",
        "param_grid = dict(n_estimators=numpy.array([50,100,150,200,250,300,350,400]))\n",
        "model = ExtraTreesRegressor(random_state=seed)\n",
        "kfold = KFold(n_splits=num_folds, random_state=seed, shuffle=True)\n",
        "grid = GridSearchCV(estimator=model, param_grid=param_grid, scoring=scoring, cv=kfold)\n",
        "grid_result = grid.fit(rescaledX, Y_train)"
      ]
    },
    {
      "cell_type": "code",
      "execution_count": 25,
      "id": "choice-culture",
      "metadata": {
        "id": "choice-culture",
        "outputId": "91220be3-945b-4413-bc91-bef1a56fdae0"
      },
      "outputs": [
        {
          "name": "stdout",
          "output_type": "stream",
          "text": [
            "Best: -0.827918 using {'n_estimators': 50}\n",
            "-0.827918 (0.081196) with: {'n_estimators': 50}\n",
            "-0.850572 (0.082175) with: {'n_estimators': 100}\n",
            "-0.874807 (0.080039) with: {'n_estimators': 150}\n",
            "-0.881524 (0.075600) with: {'n_estimators': 200}\n",
            "-0.889651 (0.072438) with: {'n_estimators': 250}\n",
            "-0.893273 (0.074002) with: {'n_estimators': 300}\n",
            "-0.894051 (0.075392) with: {'n_estimators': 350}\n",
            "-0.894182 (0.076131) with: {'n_estimators': 400}\n"
          ]
        }
      ],
      "source": [
        "print(\"Best: %f using %s\" % (grid_result.best_score_, grid_result.best_params_))\n",
        "means = grid_result.cv_results_['mean_test_score']\n",
        "stds = grid_result.cv_results_['std_test_score']\n",
        "params = grid_result.cv_results_['params']\n",
        "for mean, stdev, param in zip(means, stds, params):\n",
        "    print(\"%f (%f) with: %r\" % (mean, stdev, param))"
      ]
    },
    {
      "cell_type": "markdown",
      "id": "narrative-starter",
      "metadata": {
        "id": "narrative-starter"
      },
      "source": [
        "### 8. Finalize Model"
      ]
    },
    {
      "cell_type": "code",
      "execution_count": 43,
      "id": "accompanied-bridal",
      "metadata": {
        "id": "accompanied-bridal",
        "outputId": "3d77b645-cbc7-483f-d7cf-7a270ae737c2"
      },
      "outputs": [
        {
          "data": {
            "text/plain": [
              "0.9145987163308532"
            ]
          },
          "metadata": {},
          "output_type": "display_data"
        }
      ],
      "source": [
        "rfc = RandomForestRegressor(n_estimators=100)\n",
        "rfc.fit(X_train, Y_train)\n",
        "display(rfc.score(X_train, Y_train))"
      ]
    },
    {
      "cell_type": "code",
      "execution_count": 45,
      "id": "a2087e51",
      "metadata": {},
      "outputs": [
        {
          "name": "stdout",
          "output_type": "stream",
          "text": [
            "23494.20405387545\n",
            "16818.03089498905\n",
            "0.08691612252633917\n"
          ]
        }
      ],
      "source": [
        "predictions1 = rfc.predict(X_train)\n",
        "#Calculate the root mean squared error\n",
        "rmse = np.sqrt(mean_squared_error(Y_train, predictions1))\n",
        "print(rmse)\n",
        "print(mean_absolute_error(Y_train, predictions1))\n",
        "print(mean_absolute_percentage_error(Y_train, predictions1))"
      ]
    },
    {
      "cell_type": "code",
      "execution_count": 46,
      "id": "lined-fashion",
      "metadata": {
        "id": "lined-fashion",
        "outputId": "a7fc1fec-d706-4182-dcc7-14cf3f274477"
      },
      "outputs": [
        {
          "data": {
            "text/plain": [
              "0.43091214703957814"
            ]
          },
          "metadata": {},
          "output_type": "display_data"
        },
        {
          "name": "stdout",
          "output_type": "stream",
          "text": [
            "58777.1393883048\n",
            "43643.96313502109\n",
            "0.218066931242153\n"
          ]
        }
      ],
      "source": [
        "predictions2 = rfc.predict(X_validation)\n",
        "#Calculate the root mean squared error\n",
        "display(rfc.score(X_validation, Y_validation))\n",
        "rmse = np.sqrt(mean_squared_error(Y_validation, predictions2))\n",
        "print(rmse)\n",
        "print(mean_absolute_error(Y_validation, predictions2))\n",
        "print(mean_absolute_percentage_error(Y_validation, predictions2))"
      ]
    },
    {
      "cell_type": "code",
      "execution_count": 47,
      "id": "a5b981ea",
      "metadata": {},
      "outputs": [],
      "source": [
        "import pickle\n",
        "\n",
        "with open('rfc.pkl', 'wb') as file:\n",
        "    pickle.dump(rfc, file)\n",
        "\n",
        "# # Загрузка модели из файла\n",
        "# with open('rfc.pkl', 'rb') as file:\n",
        "#     loaded_model = pickle.load(file)"
      ]
    },
    {
      "cell_type": "code",
      "execution_count": null,
      "id": "9088190f",
      "metadata": {},
      "outputs": [],
      "source": [
        "import pickle\n",
        "\n",
        "with open(r'c:\\Users\\pelik\\Documents/anya_model.pkl', 'rb') as file:\n",
        "    loaded_model = pickle.load(file)"
      ]
    },
    {
      "cell_type": "code",
      "execution_count": 48,
      "id": "711b09db",
      "metadata": {},
      "outputs": [
        {
          "data": {
            "text/plain": [
              "0.9999725831378852"
            ]
          },
          "metadata": {},
          "output_type": "display_data"
        }
      ],
      "source": [
        "rfc = ExtraTreesRegressor(n_estimators=50)\n",
        "rfc.fit(X_train, Y_train)\n",
        "display(rfc.score(X_train, Y_train))"
      ]
    },
    {
      "cell_type": "code",
      "execution_count": 49,
      "id": "f8cd0ded",
      "metadata": {},
      "outputs": [
        {
          "name": "stdout",
          "output_type": "stream",
          "text": [
            "420.95668530542196\n",
            "28.838351822570218\n",
            "0.00010741695799984229\n"
          ]
        }
      ],
      "source": [
        "predictions1 = rfc.predict(X_train)\n",
        "#Calculate the root mean squared error\n",
        "rmse = np.sqrt(mean_squared_error(Y_train, predictions1))\n",
        "print(rmse)\n",
        "print(mean_absolute_error(Y_train, predictions1))\n",
        "print(mean_absolute_percentage_error(Y_train, predictions1))"
      ]
    },
    {
      "cell_type": "code",
      "execution_count": 50,
      "id": "f49ed0c9",
      "metadata": {},
      "outputs": [
        {
          "data": {
            "text/plain": [
              "0.39543973598473947"
            ]
          },
          "metadata": {},
          "output_type": "display_data"
        },
        {
          "name": "stdout",
          "output_type": "stream",
          "text": [
            "60581.2998161756\n",
            "43714.8184050633\n",
            "0.22003005178952015\n"
          ]
        }
      ],
      "source": [
        "predictions2 = rfc.predict(X_validation)\n",
        "#Calculate the root mean squared error\n",
        "display(rfc.score(X_validation, Y_validation))\n",
        "rmse = np.sqrt(mean_squared_error(Y_validation, predictions2))\n",
        "print(rmse)\n",
        "print(mean_absolute_error(Y_validation, predictions2))\n",
        "print(mean_absolute_percentage_error(Y_validation, predictions2))"
      ]
    },
    {
      "cell_type": "code",
      "execution_count": 51,
      "id": "b18df995",
      "metadata": {},
      "outputs": [],
      "source": [
        "import pickle\n",
        "\n",
        "with open('extr.pkl', 'wb') as file:\n",
        "    pickle.dump(rfc, file)\n",
        "\n",
        "# # Загрузка модели из файла\n",
        "# with open('rfc.pkl', 'rb') as file:\n",
        "#     loaded_model = pickle.load(file)"
      ]
    }
  ],
  "metadata": {
    "colab": {
      "provenance": []
    },
    "kernelspec": {
      "display_name": "Python 3 (ipykernel)",
      "language": "python",
      "name": "python3"
    },
    "language_info": {
      "codemirror_mode": {
        "name": "ipython",
        "version": 3
      },
      "file_extension": ".py",
      "mimetype": "text/x-python",
      "name": "python",
      "nbconvert_exporter": "python",
      "pygments_lexer": "ipython3",
      "version": "3.10.0"
    }
  },
  "nbformat": 4,
  "nbformat_minor": 5
}
