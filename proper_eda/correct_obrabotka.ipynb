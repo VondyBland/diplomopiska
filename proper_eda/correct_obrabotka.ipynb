{
 "cells": [
  {
   "cell_type": "code",
   "execution_count": null,
   "metadata": {},
   "outputs": [],
   "source": []
  },
  {
   "cell_type": "code",
   "execution_count": 147,
   "metadata": {},
   "outputs": [],
   "source": [
    "import pandas as pd\n",
    "import numpy as np\n",
    "from sklearn.impute import KNNImputer"
   ]
  },
  {
   "cell_type": "code",
   "execution_count": 142,
   "metadata": {},
   "outputs": [],
   "source": [
    "df = pd.read_csv(r'C:\\Users\\pelik\\python\\diplomopis\\parser_data\\geocoder_data.csv',index_col=0)"
   ]
  },
  {
   "cell_type": "code",
   "execution_count": 4,
   "metadata": {},
   "outputs": [
    {
     "data": {
      "text/plain": [
       "Index(['Unnamed: 0.1', 'Unnamed: 0', 'url', 'seller_url', 'title', 'squares',\n",
       "       'full_price', 'price_per_square', 'floor', 'free', 'city', 'district',\n",
       "       'okrug', 'street', 'house_number', 'description', 'sub_near',\n",
       "       'highway_near', 'current_floor', 'max_floor', 'address', 'latitude',\n",
       "       'longitude'],\n",
       "      dtype='object')"
      ]
     },
     "execution_count": 4,
     "metadata": {},
     "output_type": "execute_result"
    }
   ],
   "source": [
    "df.columns"
   ]
  },
  {
   "cell_type": "code",
   "execution_count": 143,
   "metadata": {},
   "outputs": [],
   "source": [
    "df = df[['squares',\n",
    "       'full_price', 'price_per_square', 'free', 'current_floor', 'max_floor', 'latitude',\n",
    "       'longitude']]"
   ]
  },
  {
   "cell_type": "code",
   "execution_count": 9,
   "metadata": {},
   "outputs": [
    {
     "data": {
      "text/html": [
       "<div>\n",
       "<style scoped>\n",
       "    .dataframe tbody tr th:only-of-type {\n",
       "        vertical-align: middle;\n",
       "    }\n",
       "\n",
       "    .dataframe tbody tr th {\n",
       "        vertical-align: top;\n",
       "    }\n",
       "\n",
       "    .dataframe thead th {\n",
       "        text-align: right;\n",
       "    }\n",
       "</style>\n",
       "<table border=\"1\" class=\"dataframe\">\n",
       "  <thead>\n",
       "    <tr style=\"text-align: right;\">\n",
       "      <th></th>\n",
       "      <th>squares</th>\n",
       "      <th>full_price</th>\n",
       "      <th>price_per_square</th>\n",
       "      <th>free</th>\n",
       "      <th>current_floor</th>\n",
       "      <th>max_floor</th>\n",
       "      <th>latitude</th>\n",
       "      <th>longitude</th>\n",
       "    </tr>\n",
       "  </thead>\n",
       "  <tbody>\n",
       "    <tr>\n",
       "      <th>0</th>\n",
       "      <td>131.63</td>\n",
       "      <td>41000000.0</td>\n",
       "      <td>311480.0</td>\n",
       "      <td>0</td>\n",
       "      <td>1.0</td>\n",
       "      <td>2.0</td>\n",
       "      <td>30.082621</td>\n",
       "      <td>59.724677</td>\n",
       "    </tr>\n",
       "    <tr>\n",
       "      <th>1</th>\n",
       "      <td>145.10</td>\n",
       "      <td>37000000.0</td>\n",
       "      <td>254997.0</td>\n",
       "      <td>0</td>\n",
       "      <td>1.0</td>\n",
       "      <td>5.0</td>\n",
       "      <td>30.316138</td>\n",
       "      <td>59.911854</td>\n",
       "    </tr>\n",
       "    <tr>\n",
       "      <th>2</th>\n",
       "      <td>73.50</td>\n",
       "      <td>26000000.0</td>\n",
       "      <td>353742.0</td>\n",
       "      <td>0</td>\n",
       "      <td>1.0</td>\n",
       "      <td>7.0</td>\n",
       "      <td>30.301127</td>\n",
       "      <td>59.912368</td>\n",
       "    </tr>\n",
       "    <tr>\n",
       "      <th>3</th>\n",
       "      <td>682.00</td>\n",
       "      <td>71500000.0</td>\n",
       "      <td>104839.0</td>\n",
       "      <td>0</td>\n",
       "      <td>1.0</td>\n",
       "      <td>2.0</td>\n",
       "      <td>30.506167</td>\n",
       "      <td>59.941687</td>\n",
       "    </tr>\n",
       "    <tr>\n",
       "      <th>4</th>\n",
       "      <td>33.90</td>\n",
       "      <td>6441000.0</td>\n",
       "      <td>190000.0</td>\n",
       "      <td>0</td>\n",
       "      <td>1.0</td>\n",
       "      <td>9.0</td>\n",
       "      <td>30.449978</td>\n",
       "      <td>59.956836</td>\n",
       "    </tr>\n",
       "    <tr>\n",
       "      <th>...</th>\n",
       "      <td>...</td>\n",
       "      <td>...</td>\n",
       "      <td>...</td>\n",
       "      <td>...</td>\n",
       "      <td>...</td>\n",
       "      <td>...</td>\n",
       "      <td>...</td>\n",
       "      <td>...</td>\n",
       "    </tr>\n",
       "    <tr>\n",
       "      <th>1206</th>\n",
       "      <td>1555.00</td>\n",
       "      <td>123000000.0</td>\n",
       "      <td>79100.0</td>\n",
       "      <td>0</td>\n",
       "      <td>3.0</td>\n",
       "      <td>3.0</td>\n",
       "      <td>30.302187</td>\n",
       "      <td>60.040204</td>\n",
       "    </tr>\n",
       "    <tr>\n",
       "      <th>1207</th>\n",
       "      <td>1555.00</td>\n",
       "      <td>132175000.0</td>\n",
       "      <td>85000.0</td>\n",
       "      <td>0</td>\n",
       "      <td>3.0</td>\n",
       "      <td>3.0</td>\n",
       "      <td>30.302187</td>\n",
       "      <td>60.040204</td>\n",
       "    </tr>\n",
       "    <tr>\n",
       "      <th>1208</th>\n",
       "      <td>45.00</td>\n",
       "      <td>3800000.0</td>\n",
       "      <td>84445.0</td>\n",
       "      <td>0</td>\n",
       "      <td>NaN</td>\n",
       "      <td>NaN</td>\n",
       "      <td>30.297156</td>\n",
       "      <td>59.956899</td>\n",
       "    </tr>\n",
       "    <tr>\n",
       "      <th>1209</th>\n",
       "      <td>274.40</td>\n",
       "      <td>43000000.0</td>\n",
       "      <td>156706.0</td>\n",
       "      <td>1</td>\n",
       "      <td>1.0</td>\n",
       "      <td>1.0</td>\n",
       "      <td>30.237427</td>\n",
       "      <td>60.033976</td>\n",
       "    </tr>\n",
       "    <tr>\n",
       "      <th>1210</th>\n",
       "      <td>728.20</td>\n",
       "      <td>82836000.0</td>\n",
       "      <td>113755.0</td>\n",
       "      <td>0</td>\n",
       "      <td>1.0</td>\n",
       "      <td>4.0</td>\n",
       "      <td>30.266146</td>\n",
       "      <td>60.002018</td>\n",
       "    </tr>\n",
       "  </tbody>\n",
       "</table>\n",
       "<p>1211 rows × 8 columns</p>\n",
       "</div>"
      ],
      "text/plain": [
       "      squares   full_price  price_per_square  free  current_floor  max_floor  \\\n",
       "0      131.63   41000000.0          311480.0     0            1.0        2.0   \n",
       "1      145.10   37000000.0          254997.0     0            1.0        5.0   \n",
       "2       73.50   26000000.0          353742.0     0            1.0        7.0   \n",
       "3      682.00   71500000.0          104839.0     0            1.0        2.0   \n",
       "4       33.90    6441000.0          190000.0     0            1.0        9.0   \n",
       "...       ...          ...               ...   ...            ...        ...   \n",
       "1206  1555.00  123000000.0           79100.0     0            3.0        3.0   \n",
       "1207  1555.00  132175000.0           85000.0     0            3.0        3.0   \n",
       "1208    45.00    3800000.0           84445.0     0            NaN        NaN   \n",
       "1209   274.40   43000000.0          156706.0     1            1.0        1.0   \n",
       "1210   728.20   82836000.0          113755.0     0            1.0        4.0   \n",
       "\n",
       "       latitude  longitude  \n",
       "0     30.082621  59.724677  \n",
       "1     30.316138  59.911854  \n",
       "2     30.301127  59.912368  \n",
       "3     30.506167  59.941687  \n",
       "4     30.449978  59.956836  \n",
       "...         ...        ...  \n",
       "1206  30.302187  60.040204  \n",
       "1207  30.302187  60.040204  \n",
       "1208  30.297156  59.956899  \n",
       "1209  30.237427  60.033976  \n",
       "1210  30.266146  60.002018  \n",
       "\n",
       "[1211 rows x 8 columns]"
      ]
     },
     "execution_count": 9,
     "metadata": {},
     "output_type": "execute_result"
    }
   ],
   "source": [
    "df"
   ]
  },
  {
   "cell_type": "code",
   "execution_count": 144,
   "metadata": {},
   "outputs": [
    {
     "data": {
      "text/plain": [
       "squares              27\n",
       "full_price            0\n",
       "price_per_square      0\n",
       "free                  0\n",
       "current_floor       176\n",
       "max_floor           176\n",
       "latitude              0\n",
       "longitude             0\n",
       "dtype: int64"
      ]
     },
     "execution_count": 144,
     "metadata": {},
     "output_type": "execute_result"
    }
   ],
   "source": [
    "df.isna().sum()"
   ]
  },
  {
   "cell_type": "code",
   "execution_count": 26,
   "metadata": {},
   "outputs": [
    {
     "data": {
      "text/html": [
       "<div>\n",
       "<style scoped>\n",
       "    .dataframe tbody tr th:only-of-type {\n",
       "        vertical-align: middle;\n",
       "    }\n",
       "\n",
       "    .dataframe tbody tr th {\n",
       "        vertical-align: top;\n",
       "    }\n",
       "\n",
       "    .dataframe thead th {\n",
       "        text-align: right;\n",
       "    }\n",
       "</style>\n",
       "<table border=\"1\" class=\"dataframe\">\n",
       "  <thead>\n",
       "    <tr style=\"text-align: right;\">\n",
       "      <th></th>\n",
       "      <th>squares</th>\n",
       "      <th>full_price</th>\n",
       "      <th>price_per_square</th>\n",
       "      <th>free</th>\n",
       "      <th>current_floor</th>\n",
       "      <th>max_floor</th>\n",
       "      <th>latitude</th>\n",
       "      <th>longitude</th>\n",
       "    </tr>\n",
       "  </thead>\n",
       "  <tbody>\n",
       "    <tr>\n",
       "      <th>0</th>\n",
       "      <td>131.63</td>\n",
       "      <td>41000000.0</td>\n",
       "      <td>311480.0</td>\n",
       "      <td>0</td>\n",
       "      <td>1.0</td>\n",
       "      <td>2.0</td>\n",
       "      <td>30.082621</td>\n",
       "      <td>59.724677</td>\n",
       "    </tr>\n",
       "    <tr>\n",
       "      <th>1</th>\n",
       "      <td>145.10</td>\n",
       "      <td>37000000.0</td>\n",
       "      <td>254997.0</td>\n",
       "      <td>0</td>\n",
       "      <td>1.0</td>\n",
       "      <td>5.0</td>\n",
       "      <td>30.316138</td>\n",
       "      <td>59.911854</td>\n",
       "    </tr>\n",
       "    <tr>\n",
       "      <th>2</th>\n",
       "      <td>73.50</td>\n",
       "      <td>26000000.0</td>\n",
       "      <td>353742.0</td>\n",
       "      <td>0</td>\n",
       "      <td>1.0</td>\n",
       "      <td>7.0</td>\n",
       "      <td>30.301127</td>\n",
       "      <td>59.912368</td>\n",
       "    </tr>\n",
       "    <tr>\n",
       "      <th>3</th>\n",
       "      <td>682.00</td>\n",
       "      <td>71500000.0</td>\n",
       "      <td>104839.0</td>\n",
       "      <td>0</td>\n",
       "      <td>1.0</td>\n",
       "      <td>2.0</td>\n",
       "      <td>30.506167</td>\n",
       "      <td>59.941687</td>\n",
       "    </tr>\n",
       "    <tr>\n",
       "      <th>4</th>\n",
       "      <td>33.90</td>\n",
       "      <td>6441000.0</td>\n",
       "      <td>190000.0</td>\n",
       "      <td>0</td>\n",
       "      <td>1.0</td>\n",
       "      <td>9.0</td>\n",
       "      <td>30.449978</td>\n",
       "      <td>59.956836</td>\n",
       "    </tr>\n",
       "    <tr>\n",
       "      <th>...</th>\n",
       "      <td>...</td>\n",
       "      <td>...</td>\n",
       "      <td>...</td>\n",
       "      <td>...</td>\n",
       "      <td>...</td>\n",
       "      <td>...</td>\n",
       "      <td>...</td>\n",
       "      <td>...</td>\n",
       "    </tr>\n",
       "    <tr>\n",
       "      <th>1206</th>\n",
       "      <td>1555.00</td>\n",
       "      <td>123000000.0</td>\n",
       "      <td>79100.0</td>\n",
       "      <td>0</td>\n",
       "      <td>3.0</td>\n",
       "      <td>3.0</td>\n",
       "      <td>30.302187</td>\n",
       "      <td>60.040204</td>\n",
       "    </tr>\n",
       "    <tr>\n",
       "      <th>1207</th>\n",
       "      <td>1555.00</td>\n",
       "      <td>132175000.0</td>\n",
       "      <td>85000.0</td>\n",
       "      <td>0</td>\n",
       "      <td>3.0</td>\n",
       "      <td>3.0</td>\n",
       "      <td>30.302187</td>\n",
       "      <td>60.040204</td>\n",
       "    </tr>\n",
       "    <tr>\n",
       "      <th>1208</th>\n",
       "      <td>45.00</td>\n",
       "      <td>3800000.0</td>\n",
       "      <td>84445.0</td>\n",
       "      <td>0</td>\n",
       "      <td>NaN</td>\n",
       "      <td>NaN</td>\n",
       "      <td>30.297156</td>\n",
       "      <td>59.956899</td>\n",
       "    </tr>\n",
       "    <tr>\n",
       "      <th>1209</th>\n",
       "      <td>274.40</td>\n",
       "      <td>43000000.0</td>\n",
       "      <td>156706.0</td>\n",
       "      <td>1</td>\n",
       "      <td>1.0</td>\n",
       "      <td>1.0</td>\n",
       "      <td>30.237427</td>\n",
       "      <td>60.033976</td>\n",
       "    </tr>\n",
       "    <tr>\n",
       "      <th>1210</th>\n",
       "      <td>728.20</td>\n",
       "      <td>82836000.0</td>\n",
       "      <td>113755.0</td>\n",
       "      <td>0</td>\n",
       "      <td>1.0</td>\n",
       "      <td>4.0</td>\n",
       "      <td>30.266146</td>\n",
       "      <td>60.002018</td>\n",
       "    </tr>\n",
       "  </tbody>\n",
       "</table>\n",
       "<p>1184 rows × 8 columns</p>\n",
       "</div>"
      ],
      "text/plain": [
       "      squares   full_price  price_per_square  free  current_floor  max_floor  \\\n",
       "0      131.63   41000000.0          311480.0     0            1.0        2.0   \n",
       "1      145.10   37000000.0          254997.0     0            1.0        5.0   \n",
       "2       73.50   26000000.0          353742.0     0            1.0        7.0   \n",
       "3      682.00   71500000.0          104839.0     0            1.0        2.0   \n",
       "4       33.90    6441000.0          190000.0     0            1.0        9.0   \n",
       "...       ...          ...               ...   ...            ...        ...   \n",
       "1206  1555.00  123000000.0           79100.0     0            3.0        3.0   \n",
       "1207  1555.00  132175000.0           85000.0     0            3.0        3.0   \n",
       "1208    45.00    3800000.0           84445.0     0            NaN        NaN   \n",
       "1209   274.40   43000000.0          156706.0     1            1.0        1.0   \n",
       "1210   728.20   82836000.0          113755.0     0            1.0        4.0   \n",
       "\n",
       "       latitude  longitude  \n",
       "0     30.082621  59.724677  \n",
       "1     30.316138  59.911854  \n",
       "2     30.301127  59.912368  \n",
       "3     30.506167  59.941687  \n",
       "4     30.449978  59.956836  \n",
       "...         ...        ...  \n",
       "1206  30.302187  60.040204  \n",
       "1207  30.302187  60.040204  \n",
       "1208  30.297156  59.956899  \n",
       "1209  30.237427  60.033976  \n",
       "1210  30.266146  60.002018  \n",
       "\n",
       "[1184 rows x 8 columns]"
      ]
     },
     "execution_count": 26,
     "metadata": {},
     "output_type": "execute_result"
    }
   ],
   "source": [
    "df[df['squares'].notna()]"
   ]
  },
  {
   "cell_type": "code",
   "execution_count": 145,
   "metadata": {},
   "outputs": [],
   "source": [
    "df = df[df['squares'].notna()]"
   ]
  },
  {
   "cell_type": "code",
   "execution_count": 28,
   "metadata": {},
   "outputs": [
    {
     "data": {
      "text/plain": [
       "1184"
      ]
     },
     "execution_count": 28,
     "metadata": {},
     "output_type": "execute_result"
    }
   ],
   "source": [
    "len(df)"
   ]
  },
  {
   "cell_type": "code",
   "execution_count": 146,
   "metadata": {},
   "outputs": [
    {
     "data": {
      "text/plain": [
       "squares               0\n",
       "full_price            0\n",
       "price_per_square      0\n",
       "free                  0\n",
       "current_floor       149\n",
       "max_floor           149\n",
       "latitude              0\n",
       "longitude             0\n",
       "dtype: int64"
      ]
     },
     "execution_count": 146,
     "metadata": {},
     "output_type": "execute_result"
    }
   ],
   "source": [
    "df.isna().sum()"
   ]
  },
  {
   "cell_type": "code",
   "execution_count": 32,
   "metadata": {},
   "outputs": [
    {
     "data": {
      "text/plain": [
       "0    5.0\n",
       "Name: max_floor, dtype: float64"
      ]
     },
     "execution_count": 32,
     "metadata": {},
     "output_type": "execute_result"
    }
   ],
   "source": [
    "df['max_floor'].mode()"
   ]
  },
  {
   "cell_type": "code",
   "execution_count": 19,
   "metadata": {},
   "outputs": [
    {
     "data": {
      "text/html": [
       "<div>\n",
       "<style scoped>\n",
       "    .dataframe tbody tr th:only-of-type {\n",
       "        vertical-align: middle;\n",
       "    }\n",
       "\n",
       "    .dataframe tbody tr th {\n",
       "        vertical-align: top;\n",
       "    }\n",
       "\n",
       "    .dataframe thead th {\n",
       "        text-align: right;\n",
       "    }\n",
       "</style>\n",
       "<table border=\"1\" class=\"dataframe\">\n",
       "  <thead>\n",
       "    <tr style=\"text-align: right;\">\n",
       "      <th></th>\n",
       "      <th>squares</th>\n",
       "      <th>full_price</th>\n",
       "      <th>price_per_square</th>\n",
       "      <th>free</th>\n",
       "      <th>current_floor</th>\n",
       "      <th>max_floor</th>\n",
       "      <th>latitude</th>\n",
       "      <th>longitude</th>\n",
       "    </tr>\n",
       "  </thead>\n",
       "  <tbody>\n",
       "    <tr>\n",
       "      <th>count</th>\n",
       "      <td>1184.000000</td>\n",
       "      <td>1.184000e+03</td>\n",
       "      <td>1.184000e+03</td>\n",
       "      <td>1184.000000</td>\n",
       "      <td>1035.000000</td>\n",
       "      <td>1035.000000</td>\n",
       "      <td>1184.000000</td>\n",
       "      <td>1184.000000</td>\n",
       "    </tr>\n",
       "    <tr>\n",
       "      <th>mean</th>\n",
       "      <td>857.822390</td>\n",
       "      <td>8.491718e+07</td>\n",
       "      <td>3.961422e+05</td>\n",
       "      <td>0.082770</td>\n",
       "      <td>1.292754</td>\n",
       "      <td>9.655072</td>\n",
       "      <td>30.288990</td>\n",
       "      <td>59.883443</td>\n",
       "    </tr>\n",
       "    <tr>\n",
       "      <th>std</th>\n",
       "      <td>11465.290558</td>\n",
       "      <td>6.821772e+08</td>\n",
       "      <td>2.030861e+06</td>\n",
       "      <td>0.275651</td>\n",
       "      <td>0.965706</td>\n",
       "      <td>7.574125</td>\n",
       "      <td>0.887773</td>\n",
       "      <td>1.743405</td>\n",
       "    </tr>\n",
       "    <tr>\n",
       "      <th>min</th>\n",
       "      <td>1.000000</td>\n",
       "      <td>1.590000e+04</td>\n",
       "      <td>4.100000e+01</td>\n",
       "      <td>0.000000</td>\n",
       "      <td>1.000000</td>\n",
       "      <td>1.000000</td>\n",
       "      <td>0.000000</td>\n",
       "      <td>0.000000</td>\n",
       "    </tr>\n",
       "    <tr>\n",
       "      <th>25%</th>\n",
       "      <td>70.000000</td>\n",
       "      <td>1.580188e+07</td>\n",
       "      <td>1.646372e+05</td>\n",
       "      <td>0.000000</td>\n",
       "      <td>1.000000</td>\n",
       "      <td>4.000000</td>\n",
       "      <td>30.276567</td>\n",
       "      <td>59.894524</td>\n",
       "    </tr>\n",
       "    <tr>\n",
       "      <th>50%</th>\n",
       "      <td>111.000000</td>\n",
       "      <td>2.824230e+07</td>\n",
       "      <td>2.354535e+05</td>\n",
       "      <td>0.000000</td>\n",
       "      <td>1.000000</td>\n",
       "      <td>7.000000</td>\n",
       "      <td>30.323315</td>\n",
       "      <td>59.936206</td>\n",
       "    </tr>\n",
       "    <tr>\n",
       "      <th>75%</th>\n",
       "      <td>202.325000</td>\n",
       "      <td>4.816250e+07</td>\n",
       "      <td>3.210635e+05</td>\n",
       "      <td>0.000000</td>\n",
       "      <td>1.000000</td>\n",
       "      <td>13.500000</td>\n",
       "      <td>30.368992</td>\n",
       "      <td>59.985804</td>\n",
       "    </tr>\n",
       "    <tr>\n",
       "      <th>max</th>\n",
       "      <td>275000.000000</td>\n",
       "      <td>2.222240e+10</td>\n",
       "      <td>4.300000e+07</td>\n",
       "      <td>1.000000</td>\n",
       "      <td>15.000000</td>\n",
       "      <td>28.000000</td>\n",
       "      <td>30.642972</td>\n",
       "      <td>60.121300</td>\n",
       "    </tr>\n",
       "  </tbody>\n",
       "</table>\n",
       "</div>"
      ],
      "text/plain": [
       "             squares    full_price  price_per_square         free  \\\n",
       "count    1184.000000  1.184000e+03      1.184000e+03  1184.000000   \n",
       "mean      857.822390  8.491718e+07      3.961422e+05     0.082770   \n",
       "std     11465.290558  6.821772e+08      2.030861e+06     0.275651   \n",
       "min         1.000000  1.590000e+04      4.100000e+01     0.000000   \n",
       "25%        70.000000  1.580188e+07      1.646372e+05     0.000000   \n",
       "50%       111.000000  2.824230e+07      2.354535e+05     0.000000   \n",
       "75%       202.325000  4.816250e+07      3.210635e+05     0.000000   \n",
       "max    275000.000000  2.222240e+10      4.300000e+07     1.000000   \n",
       "\n",
       "       current_floor    max_floor     latitude    longitude  \n",
       "count    1035.000000  1035.000000  1184.000000  1184.000000  \n",
       "mean        1.292754     9.655072    30.288990    59.883443  \n",
       "std         0.965706     7.574125     0.887773     1.743405  \n",
       "min         1.000000     1.000000     0.000000     0.000000  \n",
       "25%         1.000000     4.000000    30.276567    59.894524  \n",
       "50%         1.000000     7.000000    30.323315    59.936206  \n",
       "75%         1.000000    13.500000    30.368992    59.985804  \n",
       "max        15.000000    28.000000    30.642972    60.121300  "
      ]
     },
     "execution_count": 19,
     "metadata": {},
     "output_type": "execute_result"
    }
   ],
   "source": [
    "df.describe()"
   ]
  },
  {
   "cell_type": "code",
   "execution_count": 38,
   "metadata": {},
   "outputs": [
    {
     "data": {
      "text/plain": [
       "squares             float64\n",
       "full_price          float64\n",
       "price_per_square    float64\n",
       "free                  int64\n",
       "current_floor       float64\n",
       "max_floor           float64\n",
       "latitude            float64\n",
       "longitude           float64\n",
       "dtype: object"
      ]
     },
     "execution_count": 38,
     "metadata": {},
     "output_type": "execute_result"
    }
   ],
   "source": [
    "df.dtypes"
   ]
  },
  {
   "cell_type": "code",
   "execution_count": 148,
   "metadata": {},
   "outputs": [],
   "source": [
    "\n",
    "# Инициализация KNNImputer\n",
    "imputer = KNNImputer(n_neighbors=3)\n",
    "\n",
    "# Применение импутации\n",
    "df = pd.DataFrame(imputer.fit_transform(df), columns=df.columns)"
   ]
  },
  {
   "cell_type": "code",
   "execution_count": 149,
   "metadata": {},
   "outputs": [
    {
     "data": {
      "text/plain": [
       "squares             0\n",
       "full_price          0\n",
       "price_per_square    0\n",
       "free                0\n",
       "current_floor       0\n",
       "max_floor           0\n",
       "latitude            0\n",
       "longitude           0\n",
       "dtype: int64"
      ]
     },
     "execution_count": 149,
     "metadata": {},
     "output_type": "execute_result"
    }
   ],
   "source": [
    "df.isna().sum()"
   ]
  },
  {
   "cell_type": "code",
   "execution_count": 42,
   "metadata": {},
   "outputs": [],
   "source": [
    "import seaborn as sns\n",
    "import matplotlib.pyplot as plt\n",
    "%matplotlib inline"
   ]
  },
  {
   "cell_type": "code",
   "execution_count": 150,
   "metadata": {},
   "outputs": [],
   "source": [
    "lll = df[df['squares']<=1000]"
   ]
  },
  {
   "cell_type": "code",
   "execution_count": 151,
   "metadata": {},
   "outputs": [
    {
     "data": {
      "text/plain": [
       "<Axes: xlabel='squares', ylabel='Count'>"
      ]
     },
     "execution_count": 151,
     "metadata": {},
     "output_type": "execute_result"
    },
    {
     "data": {
      "image/png": "[encoded data removed]",
      "text/plain": [
       "<Figure size 640x480 with 1 Axes>"
      ]
     },
     "metadata": {},
     "output_type": "display_data"
    }
   ],
   "source": [
    "sns.histplot(lll['squares'], kde=True,bins = 50)\n"
   ]
  },
  {
   "cell_type": "code",
   "execution_count": 152,
   "metadata": {},
   "outputs": [],
   "source": [
    "lll = lll[lll['squares'] >= 20.0]\n",
    "lll = lll[lll['squares'] <= 300.0]"
   ]
  },
  {
   "cell_type": "code",
   "execution_count": 153,
   "metadata": {},
   "outputs": [
    {
     "data": {
      "text/plain": [
       "<Axes: xlabel='squares', ylabel='Count'>"
      ]
     },
     "execution_count": 153,
     "metadata": {},
     "output_type": "execute_result"
    },
    {
     "data": {
      "image/png": "[encoded data removed]",
      "text/plain": [
       "<Figure size 640x480 with 1 Axes>"
      ]
     },
     "metadata": {},
     "output_type": "display_data"
    }
   ],
   "source": [
    "sns.histplot(lll['squares'], kde=True,bins = 50)"
   ]
  },
  {
   "cell_type": "code",
   "execution_count": 130,
   "metadata": {},
   "outputs": [
    {
     "data": {
      "text/plain": [
       "Index(['squares', 'full_price', 'price_per_square', 'free', 'current_floor',\n",
       "       'max_floor', 'latitude', 'longitude'],\n",
       "      dtype='object')"
      ]
     },
     "execution_count": 130,
     "metadata": {},
     "output_type": "execute_result"
    }
   ],
   "source": [
    "lll.columns"
   ]
  },
  {
   "cell_type": "code",
   "execution_count": 154,
   "metadata": {},
   "outputs": [
    {
     "data": {
      "text/html": [
       "<div>\n",
       "<style scoped>\n",
       "    .dataframe tbody tr th:only-of-type {\n",
       "        vertical-align: middle;\n",
       "    }\n",
       "\n",
       "    .dataframe tbody tr th {\n",
       "        vertical-align: top;\n",
       "    }\n",
       "\n",
       "    .dataframe thead th {\n",
       "        text-align: right;\n",
       "    }\n",
       "</style>\n",
       "<table border=\"1\" class=\"dataframe\">\n",
       "  <thead>\n",
       "    <tr style=\"text-align: right;\">\n",
       "      <th></th>\n",
       "      <th>squares</th>\n",
       "      <th>full_price</th>\n",
       "      <th>price_per_square</th>\n",
       "      <th>free</th>\n",
       "      <th>current_floor</th>\n",
       "      <th>max_floor</th>\n",
       "      <th>latitude</th>\n",
       "      <th>longitude</th>\n",
       "    </tr>\n",
       "  </thead>\n",
       "  <tbody>\n",
       "    <tr>\n",
       "      <th>count</th>\n",
       "      <td>967.000000</td>\n",
       "      <td>9.670000e+02</td>\n",
       "      <td>9.670000e+02</td>\n",
       "      <td>967.000000</td>\n",
       "      <td>967.000000</td>\n",
       "      <td>967.000000</td>\n",
       "      <td>967.000000</td>\n",
       "      <td>967.000000</td>\n",
       "    </tr>\n",
       "    <tr>\n",
       "      <th>mean</th>\n",
       "      <td>114.304105</td>\n",
       "      <td>4.309791e+07</td>\n",
       "      <td>3.969580e+05</td>\n",
       "      <td>0.077559</td>\n",
       "      <td>1.267494</td>\n",
       "      <td>10.211996</td>\n",
       "      <td>30.283709</td>\n",
       "      <td>59.872435</td>\n",
       "    </tr>\n",
       "    <tr>\n",
       "      <th>std</th>\n",
       "      <td>63.470631</td>\n",
       "      <td>2.083245e+08</td>\n",
       "      <td>1.776756e+06</td>\n",
       "      <td>0.267615</td>\n",
       "      <td>0.945202</td>\n",
       "      <td>7.349063</td>\n",
       "      <td>0.980139</td>\n",
       "      <td>1.928789</td>\n",
       "    </tr>\n",
       "    <tr>\n",
       "      <th>min</th>\n",
       "      <td>20.000000</td>\n",
       "      <td>1.590000e+04</td>\n",
       "      <td>1.700000e+02</td>\n",
       "      <td>0.000000</td>\n",
       "      <td>1.000000</td>\n",
       "      <td>1.000000</td>\n",
       "      <td>0.000000</td>\n",
       "      <td>0.000000</td>\n",
       "    </tr>\n",
       "    <tr>\n",
       "      <th>25%</th>\n",
       "      <td>66.825000</td>\n",
       "      <td>1.500000e+07</td>\n",
       "      <td>1.766685e+05</td>\n",
       "      <td>0.000000</td>\n",
       "      <td>1.000000</td>\n",
       "      <td>5.000000</td>\n",
       "      <td>30.276630</td>\n",
       "      <td>59.896973</td>\n",
       "    </tr>\n",
       "    <tr>\n",
       "      <th>50%</th>\n",
       "      <td>97.500000</td>\n",
       "      <td>2.477539e+07</td>\n",
       "      <td>2.500000e+05</td>\n",
       "      <td>0.000000</td>\n",
       "      <td>1.000000</td>\n",
       "      <td>8.000000</td>\n",
       "      <td>30.322812</td>\n",
       "      <td>59.936282</td>\n",
       "    </tr>\n",
       "    <tr>\n",
       "      <th>75%</th>\n",
       "      <td>151.350000</td>\n",
       "      <td>3.725759e+07</td>\n",
       "      <td>3.330430e+05</td>\n",
       "      <td>0.000000</td>\n",
       "      <td>1.000000</td>\n",
       "      <td>14.000000</td>\n",
       "      <td>30.366641</td>\n",
       "      <td>59.985804</td>\n",
       "    </tr>\n",
       "    <tr>\n",
       "      <th>max</th>\n",
       "      <td>300.000000</td>\n",
       "      <td>4.856780e+09</td>\n",
       "      <td>3.635042e+07</td>\n",
       "      <td>1.000000</td>\n",
       "      <td>15.000000</td>\n",
       "      <td>28.000000</td>\n",
       "      <td>30.642972</td>\n",
       "      <td>60.110679</td>\n",
       "    </tr>\n",
       "  </tbody>\n",
       "</table>\n",
       "</div>"
      ],
      "text/plain": [
       "          squares    full_price  price_per_square        free  current_floor  \\\n",
       "count  967.000000  9.670000e+02      9.670000e+02  967.000000     967.000000   \n",
       "mean   114.304105  4.309791e+07      3.969580e+05    0.077559       1.267494   \n",
       "std     63.470631  2.083245e+08      1.776756e+06    0.267615       0.945202   \n",
       "min     20.000000  1.590000e+04      1.700000e+02    0.000000       1.000000   \n",
       "25%     66.825000  1.500000e+07      1.766685e+05    0.000000       1.000000   \n",
       "50%     97.500000  2.477539e+07      2.500000e+05    0.000000       1.000000   \n",
       "75%    151.350000  3.725759e+07      3.330430e+05    0.000000       1.000000   \n",
       "max    300.000000  4.856780e+09      3.635042e+07    1.000000      15.000000   \n",
       "\n",
       "        max_floor    latitude   longitude  \n",
       "count  967.000000  967.000000  967.000000  \n",
       "mean    10.211996   30.283709   59.872435  \n",
       "std      7.349063    0.980139    1.928789  \n",
       "min      1.000000    0.000000    0.000000  \n",
       "25%      5.000000   30.276630   59.896973  \n",
       "50%      8.000000   30.322812   59.936282  \n",
       "75%     14.000000   30.366641   59.985804  \n",
       "max     28.000000   30.642972   60.110679  "
      ]
     },
     "execution_count": 154,
     "metadata": {},
     "output_type": "execute_result"
    }
   ],
   "source": [
    "lll.describe()"
   ]
  },
  {
   "cell_type": "code",
   "execution_count": 155,
   "metadata": {},
   "outputs": [
    {
     "data": {
      "text/plain": [
       "<Axes: xlabel='price_per_square', ylabel='Count'>"
      ]
     },
     "execution_count": 155,
     "metadata": {},
     "output_type": "execute_result"
    },
    {
     "data": {
      "image/png": "[encoded data removed]",
      "text/plain": [
       "<Figure size 640x480 with 1 Axes>"
      ]
     },
     "metadata": {},
     "output_type": "display_data"
    }
   ],
   "source": [
    "sns.histplot(lll['price_per_square'], kde=True,bins = 5)"
   ]
  },
  {
   "cell_type": "code",
   "execution_count": 133,
   "metadata": {},
   "outputs": [
    {
     "data": {
      "text/html": [
       "<div>\n",
       "<style scoped>\n",
       "    .dataframe tbody tr th:only-of-type {\n",
       "        vertical-align: middle;\n",
       "    }\n",
       "\n",
       "    .dataframe tbody tr th {\n",
       "        vertical-align: top;\n",
       "    }\n",
       "\n",
       "    .dataframe thead th {\n",
       "        text-align: right;\n",
       "    }\n",
       "</style>\n",
       "<table border=\"1\" class=\"dataframe\">\n",
       "  <thead>\n",
       "    <tr style=\"text-align: right;\">\n",
       "      <th></th>\n",
       "      <th>squares</th>\n",
       "      <th>full_price</th>\n",
       "      <th>price_per_square</th>\n",
       "      <th>free</th>\n",
       "      <th>current_floor</th>\n",
       "      <th>max_floor</th>\n",
       "      <th>latitude</th>\n",
       "      <th>longitude</th>\n",
       "    </tr>\n",
       "  </thead>\n",
       "  <tbody>\n",
       "    <tr>\n",
       "      <th>0</th>\n",
       "      <td>131.63</td>\n",
       "      <td>41000000.0</td>\n",
       "      <td>311480.0</td>\n",
       "      <td>0</td>\n",
       "      <td>1.0</td>\n",
       "      <td>2.0</td>\n",
       "      <td>30.082621</td>\n",
       "      <td>59.724677</td>\n",
       "    </tr>\n",
       "    <tr>\n",
       "      <th>1</th>\n",
       "      <td>145.10</td>\n",
       "      <td>37000000.0</td>\n",
       "      <td>254997.0</td>\n",
       "      <td>0</td>\n",
       "      <td>1.0</td>\n",
       "      <td>5.0</td>\n",
       "      <td>30.316138</td>\n",
       "      <td>59.911854</td>\n",
       "    </tr>\n",
       "    <tr>\n",
       "      <th>2</th>\n",
       "      <td>73.50</td>\n",
       "      <td>26000000.0</td>\n",
       "      <td>353742.0</td>\n",
       "      <td>0</td>\n",
       "      <td>1.0</td>\n",
       "      <td>7.0</td>\n",
       "      <td>30.301127</td>\n",
       "      <td>59.912368</td>\n",
       "    </tr>\n",
       "    <tr>\n",
       "      <th>4</th>\n",
       "      <td>33.90</td>\n",
       "      <td>6441000.0</td>\n",
       "      <td>190000.0</td>\n",
       "      <td>0</td>\n",
       "      <td>1.0</td>\n",
       "      <td>9.0</td>\n",
       "      <td>30.449978</td>\n",
       "      <td>59.956836</td>\n",
       "    </tr>\n",
       "    <tr>\n",
       "      <th>5</th>\n",
       "      <td>89.40</td>\n",
       "      <td>14900000.0</td>\n",
       "      <td>166667.0</td>\n",
       "      <td>0</td>\n",
       "      <td>1.0</td>\n",
       "      <td>5.0</td>\n",
       "      <td>30.325543</td>\n",
       "      <td>59.926372</td>\n",
       "    </tr>\n",
       "    <tr>\n",
       "      <th>...</th>\n",
       "      <td>...</td>\n",
       "      <td>...</td>\n",
       "      <td>...</td>\n",
       "      <td>...</td>\n",
       "      <td>...</td>\n",
       "      <td>...</td>\n",
       "      <td>...</td>\n",
       "      <td>...</td>\n",
       "    </tr>\n",
       "    <tr>\n",
       "      <th>1201</th>\n",
       "      <td>181.60</td>\n",
       "      <td>38599999.0</td>\n",
       "      <td>212556.0</td>\n",
       "      <td>0</td>\n",
       "      <td>1.0</td>\n",
       "      <td>16.0</td>\n",
       "      <td>30.273171</td>\n",
       "      <td>59.963539</td>\n",
       "    </tr>\n",
       "    <tr>\n",
       "      <th>1202</th>\n",
       "      <td>81.00</td>\n",
       "      <td>33900000.0</td>\n",
       "      <td>418519.0</td>\n",
       "      <td>0</td>\n",
       "      <td>1.0</td>\n",
       "      <td>20.0</td>\n",
       "      <td>30.308223</td>\n",
       "      <td>59.904247</td>\n",
       "    </tr>\n",
       "    <tr>\n",
       "      <th>1203</th>\n",
       "      <td>265.00</td>\n",
       "      <td>24354538.0</td>\n",
       "      <td>91904.0</td>\n",
       "      <td>0</td>\n",
       "      <td>1.0</td>\n",
       "      <td>21.0</td>\n",
       "      <td>29.953560</td>\n",
       "      <td>60.091011</td>\n",
       "    </tr>\n",
       "    <tr>\n",
       "      <th>1208</th>\n",
       "      <td>45.00</td>\n",
       "      <td>3800000.0</td>\n",
       "      <td>84445.0</td>\n",
       "      <td>0</td>\n",
       "      <td>1.0</td>\n",
       "      <td>5.0</td>\n",
       "      <td>30.297156</td>\n",
       "      <td>59.956899</td>\n",
       "    </tr>\n",
       "    <tr>\n",
       "      <th>1209</th>\n",
       "      <td>274.40</td>\n",
       "      <td>43000000.0</td>\n",
       "      <td>156706.0</td>\n",
       "      <td>1</td>\n",
       "      <td>1.0</td>\n",
       "      <td>1.0</td>\n",
       "      <td>30.237427</td>\n",
       "      <td>60.033976</td>\n",
       "    </tr>\n",
       "  </tbody>\n",
       "</table>\n",
       "<p>958 rows × 8 columns</p>\n",
       "</div>"
      ],
      "text/plain": [
       "      squares  full_price  price_per_square  free current_floor max_floor  \\\n",
       "0      131.63  41000000.0          311480.0     0           1.0       2.0   \n",
       "1      145.10  37000000.0          254997.0     0           1.0       5.0   \n",
       "2       73.50  26000000.0          353742.0     0           1.0       7.0   \n",
       "4       33.90   6441000.0          190000.0     0           1.0       9.0   \n",
       "5       89.40  14900000.0          166667.0     0           1.0       5.0   \n",
       "...       ...         ...               ...   ...           ...       ...   \n",
       "1201   181.60  38599999.0          212556.0     0           1.0      16.0   \n",
       "1202    81.00  33900000.0          418519.0     0           1.0      20.0   \n",
       "1203   265.00  24354538.0           91904.0     0           1.0      21.0   \n",
       "1208    45.00   3800000.0           84445.0     0           1.0       5.0   \n",
       "1209   274.40  43000000.0          156706.0     1           1.0       1.0   \n",
       "\n",
       "       latitude  longitude  \n",
       "0     30.082621  59.724677  \n",
       "1     30.316138  59.911854  \n",
       "2     30.301127  59.912368  \n",
       "4     30.449978  59.956836  \n",
       "5     30.325543  59.926372  \n",
       "...         ...        ...  \n",
       "1201  30.273171  59.963539  \n",
       "1202  30.308223  59.904247  \n",
       "1203  29.953560  60.091011  \n",
       "1208  30.297156  59.956899  \n",
       "1209  30.237427  60.033976  \n",
       "\n",
       "[958 rows x 8 columns]"
      ]
     },
     "execution_count": 133,
     "metadata": {},
     "output_type": "execute_result"
    }
   ],
   "source": [
    "lll[lll['price_per_square'] <= 1000000.0]"
   ]
  },
  {
   "cell_type": "code",
   "execution_count": 156,
   "metadata": {},
   "outputs": [
    {
     "data": {
      "text/plain": [
       "<Axes: xlabel='price_per_square', ylabel='Count'>"
      ]
     },
     "execution_count": 156,
     "metadata": {},
     "output_type": "execute_result"
    },
    {
     "data": {
      "image/png": "[encoded data removed]",
      "text/plain": [
       "<Figure size 640x480 with 1 Axes>"
      ]
     },
     "metadata": {},
     "output_type": "display_data"
    }
   ],
   "source": [
    "sns.histplot(lll[lll['price_per_square'] <= 1000000.0]['price_per_square'], kde=True,bins = 50)"
   ]
  },
  {
   "cell_type": "code",
   "execution_count": 157,
   "metadata": {},
   "outputs": [],
   "source": [
    "lll = lll[lll['price_per_square'] <= 450000.0]"
   ]
  },
  {
   "cell_type": "code",
   "execution_count": 158,
   "metadata": {},
   "outputs": [
    {
     "data": {
      "text/html": [
       "<div>\n",
       "<style scoped>\n",
       "    .dataframe tbody tr th:only-of-type {\n",
       "        vertical-align: middle;\n",
       "    }\n",
       "\n",
       "    .dataframe tbody tr th {\n",
       "        vertical-align: top;\n",
       "    }\n",
       "\n",
       "    .dataframe thead th {\n",
       "        text-align: right;\n",
       "    }\n",
       "</style>\n",
       "<table border=\"1\" class=\"dataframe\">\n",
       "  <thead>\n",
       "    <tr style=\"text-align: right;\">\n",
       "      <th></th>\n",
       "      <th>squares</th>\n",
       "      <th>full_price</th>\n",
       "      <th>price_per_square</th>\n",
       "      <th>free</th>\n",
       "      <th>current_floor</th>\n",
       "      <th>max_floor</th>\n",
       "      <th>latitude</th>\n",
       "      <th>longitude</th>\n",
       "    </tr>\n",
       "  </thead>\n",
       "  <tbody>\n",
       "    <tr>\n",
       "      <th>34</th>\n",
       "      <td>94.0</td>\n",
       "      <td>15900.0</td>\n",
       "      <td>170.0</td>\n",
       "      <td>1.0</td>\n",
       "      <td>1.000000</td>\n",
       "      <td>6.666667</td>\n",
       "      <td>30.337185</td>\n",
       "      <td>60.028357</td>\n",
       "    </tr>\n",
       "    <tr>\n",
       "      <th>127</th>\n",
       "      <td>85.0</td>\n",
       "      <td>100000.0</td>\n",
       "      <td>1177.0</td>\n",
       "      <td>0.0</td>\n",
       "      <td>1.000000</td>\n",
       "      <td>1.000000</td>\n",
       "      <td>30.312814</td>\n",
       "      <td>59.940082</td>\n",
       "    </tr>\n",
       "    <tr>\n",
       "      <th>176</th>\n",
       "      <td>80.0</td>\n",
       "      <td>120000.0</td>\n",
       "      <td>1500.0</td>\n",
       "      <td>0.0</td>\n",
       "      <td>1.000000</td>\n",
       "      <td>7.000000</td>\n",
       "      <td>30.282828</td>\n",
       "      <td>59.923247</td>\n",
       "    </tr>\n",
       "    <tr>\n",
       "      <th>194</th>\n",
       "      <td>189.0</td>\n",
       "      <td>4990000.0</td>\n",
       "      <td>26403.0</td>\n",
       "      <td>0.0</td>\n",
       "      <td>1.333333</td>\n",
       "      <td>10.666667</td>\n",
       "      <td>30.362958</td>\n",
       "      <td>59.938531</td>\n",
       "    </tr>\n",
       "    <tr>\n",
       "      <th>208</th>\n",
       "      <td>182.0</td>\n",
       "      <td>3200000.0</td>\n",
       "      <td>17583.0</td>\n",
       "      <td>0.0</td>\n",
       "      <td>1.000000</td>\n",
       "      <td>9.000000</td>\n",
       "      <td>29.772477</td>\n",
       "      <td>59.997437</td>\n",
       "    </tr>\n",
       "    <tr>\n",
       "      <th>320</th>\n",
       "      <td>224.0</td>\n",
       "      <td>3890000.0</td>\n",
       "      <td>17367.0</td>\n",
       "      <td>0.0</td>\n",
       "      <td>2.666667</td>\n",
       "      <td>6.333333</td>\n",
       "      <td>30.276073</td>\n",
       "      <td>59.947883</td>\n",
       "    </tr>\n",
       "    <tr>\n",
       "      <th>460</th>\n",
       "      <td>70.0</td>\n",
       "      <td>2500000.0</td>\n",
       "      <td>35715.0</td>\n",
       "      <td>1.0</td>\n",
       "      <td>1.000000</td>\n",
       "      <td>1.000000</td>\n",
       "      <td>30.321330</td>\n",
       "      <td>59.912797</td>\n",
       "    </tr>\n",
       "    <tr>\n",
       "      <th>567</th>\n",
       "      <td>296.0</td>\n",
       "      <td>3359600.0</td>\n",
       "      <td>11350.0</td>\n",
       "      <td>0.0</td>\n",
       "      <td>1.333333</td>\n",
       "      <td>5.333333</td>\n",
       "      <td>30.217682</td>\n",
       "      <td>60.027678</td>\n",
       "    </tr>\n",
       "    <tr>\n",
       "      <th>594</th>\n",
       "      <td>240.0</td>\n",
       "      <td>6500000.0</td>\n",
       "      <td>27084.0</td>\n",
       "      <td>0.0</td>\n",
       "      <td>1.000000</td>\n",
       "      <td>1.000000</td>\n",
       "      <td>30.285541</td>\n",
       "      <td>60.018920</td>\n",
       "    </tr>\n",
       "    <tr>\n",
       "      <th>831</th>\n",
       "      <td>74.0</td>\n",
       "      <td>1650000.0</td>\n",
       "      <td>22298.0</td>\n",
       "      <td>0.0</td>\n",
       "      <td>1.000000</td>\n",
       "      <td>5.000000</td>\n",
       "      <td>29.837632</td>\n",
       "      <td>59.883065</td>\n",
       "    </tr>\n",
       "  </tbody>\n",
       "</table>\n",
       "</div>"
      ],
      "text/plain": [
       "     squares  full_price  price_per_square  free  current_floor  max_floor  \\\n",
       "34      94.0     15900.0             170.0   1.0       1.000000   6.666667   \n",
       "127     85.0    100000.0            1177.0   0.0       1.000000   1.000000   \n",
       "176     80.0    120000.0            1500.0   0.0       1.000000   7.000000   \n",
       "194    189.0   4990000.0           26403.0   0.0       1.333333  10.666667   \n",
       "208    182.0   3200000.0           17583.0   0.0       1.000000   9.000000   \n",
       "320    224.0   3890000.0           17367.0   0.0       2.666667   6.333333   \n",
       "460     70.0   2500000.0           35715.0   1.0       1.000000   1.000000   \n",
       "567    296.0   3359600.0           11350.0   0.0       1.333333   5.333333   \n",
       "594    240.0   6500000.0           27084.0   0.0       1.000000   1.000000   \n",
       "831     74.0   1650000.0           22298.0   0.0       1.000000   5.000000   \n",
       "\n",
       "      latitude  longitude  \n",
       "34   30.337185  60.028357  \n",
       "127  30.312814  59.940082  \n",
       "176  30.282828  59.923247  \n",
       "194  30.362958  59.938531  \n",
       "208  29.772477  59.997437  \n",
       "320  30.276073  59.947883  \n",
       "460  30.321330  59.912797  \n",
       "567  30.217682  60.027678  \n",
       "594  30.285541  60.018920  \n",
       "831  29.837632  59.883065  "
      ]
     },
     "execution_count": 158,
     "metadata": {},
     "output_type": "execute_result"
    }
   ],
   "source": [
    "lll[lll['price_per_square'] <= 40000.0]"
   ]
  },
  {
   "cell_type": "code",
   "execution_count": 159,
   "metadata": {},
   "outputs": [
    {
     "data": {
      "text/plain": [
       "<Axes: xlabel='price_per_square', ylabel='Count'>"
      ]
     },
     "execution_count": 159,
     "metadata": {},
     "output_type": "execute_result"
    },
    {
     "data": {
      "image/png": "[encoded data removed]",
      "text/plain": [
       "<Figure size 640x480 with 1 Axes>"
      ]
     },
     "metadata": {},
     "output_type": "display_data"
    }
   ],
   "source": [
    "sns.histplot(lll[lll['price_per_square'] >= 40000.0]['price_per_square'], kde=True,bins = 50)"
   ]
  },
  {
   "cell_type": "code",
   "execution_count": 160,
   "metadata": {},
   "outputs": [],
   "source": [
    "lll = lll[lll['price_per_square'] >= 40000.0]"
   ]
  },
  {
   "cell_type": "code",
   "execution_count": 94,
   "metadata": {},
   "outputs": [
    {
     "data": {
      "text/html": [
       "<div>\n",
       "<style scoped>\n",
       "    .dataframe tbody tr th:only-of-type {\n",
       "        vertical-align: middle;\n",
       "    }\n",
       "\n",
       "    .dataframe tbody tr th {\n",
       "        vertical-align: top;\n",
       "    }\n",
       "\n",
       "    .dataframe thead th {\n",
       "        text-align: right;\n",
       "    }\n",
       "</style>\n",
       "<table border=\"1\" class=\"dataframe\">\n",
       "  <thead>\n",
       "    <tr style=\"text-align: right;\">\n",
       "      <th></th>\n",
       "      <th>squares</th>\n",
       "      <th>full_price</th>\n",
       "      <th>price_per_square</th>\n",
       "      <th>free</th>\n",
       "      <th>current_floor</th>\n",
       "      <th>max_floor</th>\n",
       "      <th>latitude</th>\n",
       "      <th>longitude</th>\n",
       "    </tr>\n",
       "  </thead>\n",
       "  <tbody>\n",
       "    <tr>\n",
       "      <th>0</th>\n",
       "      <td>131.63</td>\n",
       "      <td>41000000.0</td>\n",
       "      <td>311480.0</td>\n",
       "      <td>0</td>\n",
       "      <td>1.0</td>\n",
       "      <td>2.0</td>\n",
       "      <td>30.082621</td>\n",
       "      <td>59.724677</td>\n",
       "    </tr>\n",
       "    <tr>\n",
       "      <th>1</th>\n",
       "      <td>145.10</td>\n",
       "      <td>37000000.0</td>\n",
       "      <td>254997.0</td>\n",
       "      <td>0</td>\n",
       "      <td>1.0</td>\n",
       "      <td>5.0</td>\n",
       "      <td>30.316138</td>\n",
       "      <td>59.911854</td>\n",
       "    </tr>\n",
       "    <tr>\n",
       "      <th>2</th>\n",
       "      <td>73.50</td>\n",
       "      <td>26000000.0</td>\n",
       "      <td>353742.0</td>\n",
       "      <td>0</td>\n",
       "      <td>1.0</td>\n",
       "      <td>7.0</td>\n",
       "      <td>30.301127</td>\n",
       "      <td>59.912368</td>\n",
       "    </tr>\n",
       "    <tr>\n",
       "      <th>4</th>\n",
       "      <td>33.90</td>\n",
       "      <td>6441000.0</td>\n",
       "      <td>190000.0</td>\n",
       "      <td>0</td>\n",
       "      <td>1.0</td>\n",
       "      <td>9.0</td>\n",
       "      <td>30.449978</td>\n",
       "      <td>59.956836</td>\n",
       "    </tr>\n",
       "    <tr>\n",
       "      <th>5</th>\n",
       "      <td>89.40</td>\n",
       "      <td>14900000.0</td>\n",
       "      <td>166667.0</td>\n",
       "      <td>0</td>\n",
       "      <td>1.0</td>\n",
       "      <td>5.0</td>\n",
       "      <td>30.325543</td>\n",
       "      <td>59.926372</td>\n",
       "    </tr>\n",
       "    <tr>\n",
       "      <th>...</th>\n",
       "      <td>...</td>\n",
       "      <td>...</td>\n",
       "      <td>...</td>\n",
       "      <td>...</td>\n",
       "      <td>...</td>\n",
       "      <td>...</td>\n",
       "      <td>...</td>\n",
       "      <td>...</td>\n",
       "    </tr>\n",
       "    <tr>\n",
       "      <th>1201</th>\n",
       "      <td>181.60</td>\n",
       "      <td>38599999.0</td>\n",
       "      <td>212556.0</td>\n",
       "      <td>0</td>\n",
       "      <td>1.0</td>\n",
       "      <td>16.0</td>\n",
       "      <td>30.273171</td>\n",
       "      <td>59.963539</td>\n",
       "    </tr>\n",
       "    <tr>\n",
       "      <th>1202</th>\n",
       "      <td>81.00</td>\n",
       "      <td>33900000.0</td>\n",
       "      <td>418519.0</td>\n",
       "      <td>0</td>\n",
       "      <td>1.0</td>\n",
       "      <td>20.0</td>\n",
       "      <td>30.308223</td>\n",
       "      <td>59.904247</td>\n",
       "    </tr>\n",
       "    <tr>\n",
       "      <th>1203</th>\n",
       "      <td>265.00</td>\n",
       "      <td>24354538.0</td>\n",
       "      <td>91904.0</td>\n",
       "      <td>0</td>\n",
       "      <td>1.0</td>\n",
       "      <td>21.0</td>\n",
       "      <td>29.953560</td>\n",
       "      <td>60.091011</td>\n",
       "    </tr>\n",
       "    <tr>\n",
       "      <th>1208</th>\n",
       "      <td>45.00</td>\n",
       "      <td>3800000.0</td>\n",
       "      <td>84445.0</td>\n",
       "      <td>0</td>\n",
       "      <td>5.0</td>\n",
       "      <td>5.0</td>\n",
       "      <td>30.297156</td>\n",
       "      <td>59.956899</td>\n",
       "    </tr>\n",
       "    <tr>\n",
       "      <th>1209</th>\n",
       "      <td>274.40</td>\n",
       "      <td>43000000.0</td>\n",
       "      <td>156706.0</td>\n",
       "      <td>1</td>\n",
       "      <td>1.0</td>\n",
       "      <td>1.0</td>\n",
       "      <td>30.237427</td>\n",
       "      <td>60.033976</td>\n",
       "    </tr>\n",
       "  </tbody>\n",
       "</table>\n",
       "<p>889 rows × 8 columns</p>\n",
       "</div>"
      ],
      "text/plain": [
       "      squares  full_price  price_per_square  free current_floor max_floor  \\\n",
       "0      131.63  41000000.0          311480.0     0           1.0       2.0   \n",
       "1      145.10  37000000.0          254997.0     0           1.0       5.0   \n",
       "2       73.50  26000000.0          353742.0     0           1.0       7.0   \n",
       "4       33.90   6441000.0          190000.0     0           1.0       9.0   \n",
       "5       89.40  14900000.0          166667.0     0           1.0       5.0   \n",
       "...       ...         ...               ...   ...           ...       ...   \n",
       "1201   181.60  38599999.0          212556.0     0           1.0      16.0   \n",
       "1202    81.00  33900000.0          418519.0     0           1.0      20.0   \n",
       "1203   265.00  24354538.0           91904.0     0           1.0      21.0   \n",
       "1208    45.00   3800000.0           84445.0     0           5.0       5.0   \n",
       "1209   274.40  43000000.0          156706.0     1           1.0       1.0   \n",
       "\n",
       "       latitude  longitude  \n",
       "0     30.082621  59.724677  \n",
       "1     30.316138  59.911854  \n",
       "2     30.301127  59.912368  \n",
       "4     30.449978  59.956836  \n",
       "5     30.325543  59.926372  \n",
       "...         ...        ...  \n",
       "1201  30.273171  59.963539  \n",
       "1202  30.308223  59.904247  \n",
       "1203  29.953560  60.091011  \n",
       "1208  30.297156  59.956899  \n",
       "1209  30.237427  60.033976  \n",
       "\n",
       "[889 rows x 8 columns]"
      ]
     },
     "execution_count": 94,
     "metadata": {},
     "output_type": "execute_result"
    }
   ],
   "source": [
    "lll"
   ]
  },
  {
   "cell_type": "code",
   "execution_count": 161,
   "metadata": {},
   "outputs": [
    {
     "data": {
      "text/plain": [
       "<Axes: xlabel='current_floor', ylabel='Count'>"
      ]
     },
     "execution_count": 161,
     "metadata": {},
     "output_type": "execute_result"
    },
    {
     "data": {
      "image/png": "[encoded data removed]",
      "text/plain": [
       "<Figure size 640x480 with 1 Axes>"
      ]
     },
     "metadata": {},
     "output_type": "display_data"
    }
   ],
   "source": [
    "sns.histplot(lll['current_floor'], kde=True,bins = 50)"
   ]
  },
  {
   "cell_type": "code",
   "execution_count": 162,
   "metadata": {},
   "outputs": [],
   "source": [
    "lll = lll.drop(columns='current_floor')"
   ]
  },
  {
   "cell_type": "code",
   "execution_count": 170,
   "metadata": {},
   "outputs": [
    {
     "data": {
      "text/plain": [
       "<Axes: xlabel='max_floor', ylabel='Count'>"
      ]
     },
     "execution_count": 170,
     "metadata": {},
     "output_type": "execute_result"
    },
    {
     "data": {
      "image/png": "[encoded data removed]",
      "text/plain": [
       "<Figure size 640x480 with 1 Axes>"
      ]
     },
     "metadata": {},
     "output_type": "display_data"
    }
   ],
   "source": [
    "sns.histplot(lll['max_floor'], kde=True,bins = 30)"
   ]
  },
  {
   "cell_type": "code",
   "execution_count": 164,
   "metadata": {},
   "outputs": [
    {
     "data": {
      "text/html": [
       "<div>\n",
       "<style scoped>\n",
       "    .dataframe tbody tr th:only-of-type {\n",
       "        vertical-align: middle;\n",
       "    }\n",
       "\n",
       "    .dataframe tbody tr th {\n",
       "        vertical-align: top;\n",
       "    }\n",
       "\n",
       "    .dataframe thead th {\n",
       "        text-align: right;\n",
       "    }\n",
       "</style>\n",
       "<table border=\"1\" class=\"dataframe\">\n",
       "  <thead>\n",
       "    <tr style=\"text-align: right;\">\n",
       "      <th></th>\n",
       "      <th>squares</th>\n",
       "      <th>full_price</th>\n",
       "      <th>price_per_square</th>\n",
       "      <th>free</th>\n",
       "      <th>max_floor</th>\n",
       "      <th>latitude</th>\n",
       "      <th>longitude</th>\n",
       "    </tr>\n",
       "  </thead>\n",
       "  <tbody>\n",
       "    <tr>\n",
       "      <th>squares</th>\n",
       "      <td>1.000000</td>\n",
       "      <td>0.739423</td>\n",
       "      <td>-0.161673</td>\n",
       "      <td>-0.058297</td>\n",
       "      <td>-0.130993</td>\n",
       "      <td>-0.023893</td>\n",
       "      <td>-0.010517</td>\n",
       "    </tr>\n",
       "    <tr>\n",
       "      <th>full_price</th>\n",
       "      <td>0.739423</td>\n",
       "      <td>1.000000</td>\n",
       "      <td>0.457987</td>\n",
       "      <td>-0.032312</td>\n",
       "      <td>-0.067111</td>\n",
       "      <td>-0.009811</td>\n",
       "      <td>0.000120</td>\n",
       "    </tr>\n",
       "    <tr>\n",
       "      <th>price_per_square</th>\n",
       "      <td>-0.161673</td>\n",
       "      <td>0.457987</td>\n",
       "      <td>1.000000</td>\n",
       "      <td>0.019777</td>\n",
       "      <td>0.102951</td>\n",
       "      <td>0.011575</td>\n",
       "      <td>0.015896</td>\n",
       "    </tr>\n",
       "    <tr>\n",
       "      <th>free</th>\n",
       "      <td>-0.058297</td>\n",
       "      <td>-0.032312</td>\n",
       "      <td>0.019777</td>\n",
       "      <td>1.000000</td>\n",
       "      <td>-0.002817</td>\n",
       "      <td>0.017979</td>\n",
       "      <td>0.007017</td>\n",
       "    </tr>\n",
       "    <tr>\n",
       "      <th>max_floor</th>\n",
       "      <td>-0.130993</td>\n",
       "      <td>-0.067111</td>\n",
       "      <td>0.102951</td>\n",
       "      <td>-0.002817</td>\n",
       "      <td>1.000000</td>\n",
       "      <td>-0.063904</td>\n",
       "      <td>-0.060299</td>\n",
       "    </tr>\n",
       "    <tr>\n",
       "      <th>latitude</th>\n",
       "      <td>-0.023893</td>\n",
       "      <td>-0.009811</td>\n",
       "      <td>0.011575</td>\n",
       "      <td>0.017979</td>\n",
       "      <td>-0.063904</td>\n",
       "      <td>1.000000</td>\n",
       "      <td>0.994212</td>\n",
       "    </tr>\n",
       "    <tr>\n",
       "      <th>longitude</th>\n",
       "      <td>-0.010517</td>\n",
       "      <td>0.000120</td>\n",
       "      <td>0.015896</td>\n",
       "      <td>0.007017</td>\n",
       "      <td>-0.060299</td>\n",
       "      <td>0.994212</td>\n",
       "      <td>1.000000</td>\n",
       "    </tr>\n",
       "  </tbody>\n",
       "</table>\n",
       "</div>"
      ],
      "text/plain": [
       "                   squares  full_price  price_per_square      free  max_floor  \\\n",
       "squares           1.000000    0.739423         -0.161673 -0.058297  -0.130993   \n",
       "full_price        0.739423    1.000000          0.457987 -0.032312  -0.067111   \n",
       "price_per_square -0.161673    0.457987          1.000000  0.019777   0.102951   \n",
       "free             -0.058297   -0.032312          0.019777  1.000000  -0.002817   \n",
       "max_floor        -0.130993   -0.067111          0.102951 -0.002817   1.000000   \n",
       "latitude         -0.023893   -0.009811          0.011575  0.017979  -0.063904   \n",
       "longitude        -0.010517    0.000120          0.015896  0.007017  -0.060299   \n",
       "\n",
       "                  latitude  longitude  \n",
       "squares          -0.023893  -0.010517  \n",
       "full_price       -0.009811   0.000120  \n",
       "price_per_square  0.011575   0.015896  \n",
       "free              0.017979   0.007017  \n",
       "max_floor        -0.063904  -0.060299  \n",
       "latitude          1.000000   0.994212  \n",
       "longitude         0.994212   1.000000  "
      ]
     },
     "execution_count": 164,
     "metadata": {},
     "output_type": "execute_result"
    }
   ],
   "source": [
    "lll.corr()"
   ]
  },
  {
   "cell_type": "code",
   "execution_count": 165,
   "metadata": {},
   "outputs": [],
   "source": [
    "lll.reset_index(drop='index',inplace=True)"
   ]
  },
  {
   "cell_type": "code",
   "execution_count": 166,
   "metadata": {},
   "outputs": [],
   "source": [
    "lll = lll[lll['latitude']>=29.0]"
   ]
  },
  {
   "cell_type": "code",
   "execution_count": 167,
   "metadata": {},
   "outputs": [
    {
     "data": {
      "text/plain": [
       "<Axes: xlabel='latitude', ylabel='Count'>"
      ]
     },
     "execution_count": 167,
     "metadata": {},
     "output_type": "execute_result"
    },
    {
     "data": {
      "image/png": "[encoded data removed]",
      "text/plain": [
       "<Figure size 640x480 with 1 Axes>"
      ]
     },
     "metadata": {},
     "output_type": "display_data"
    }
   ],
   "source": [
    "sns.histplot(lll['latitude'], kde=True,bins = 50)"
   ]
  },
  {
   "cell_type": "code",
   "execution_count": 168,
   "metadata": {},
   "outputs": [
    {
     "data": {
      "text/plain": [
       "<Axes: xlabel='longitude', ylabel='Count'>"
      ]
     },
     "execution_count": 168,
     "metadata": {},
     "output_type": "execute_result"
    },
    {
     "data": {
      "image/png": "[encoded data removed]",
      "text/plain": [
       "<Figure size 640x480 with 1 Axes>"
      ]
     },
     "metadata": {},
     "output_type": "display_data"
    }
   ],
   "source": [
    "sns.histplot(lll['longitude'], kde=True,bins = 50)"
   ]
  },
  {
   "cell_type": "code",
   "execution_count": 169,
   "metadata": {},
   "outputs": [
    {
     "data": {
      "text/plain": [
       "<Axes: xlabel='latitude', ylabel='longitude'>"
      ]
     },
     "execution_count": 169,
     "metadata": {},
     "output_type": "execute_result"
    },
    {
     "data": {
      "image/png": "[encoded data removed]",
      "text/plain": [
       "<Figure size 640x480 with 1 Axes>"
      ]
     },
     "metadata": {},
     "output_type": "display_data"
    }
   ],
   "source": [
    "sns.scatterplot(data=lll,x='latitude',y='longitude')"
   ]
  },
  {
   "cell_type": "code",
   "execution_count": 118,
   "metadata": {},
   "outputs": [],
   "source": [
    "lll.to_csv('obrabotano.csv')"
   ]
  }
 ],
 "metadata": {
  "kernelspec": {
   "display_name": "base",
   "language": "python",
   "name": "python3"
  },
  "language_info": {
   "codemirror_mode": {
    "name": "ipython",
    "version": 3
   },
   "file_extension": ".py",
   "mimetype": "text/x-python",
   "name": "python",
   "nbconvert_exporter": "python",
   "pygments_lexer": "ipython3",
   "version": "3.9.13"
  }
 },
 "nbformat": 4,
 "nbformat_minor": 2
}
